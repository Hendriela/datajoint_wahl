{
 "cells": [
  {
   "cell_type": "code",
   "execution_count": null,
   "id": "e6059fc6",
   "metadata": {},
   "outputs": [],
   "source": [
    "# run for first time setup\n",
    "! pip install ipywidgets\n",
    "! jupyter nbextension enable --py widgetsnbextension\n",
    "# if the dropdown lists don't appear, close browser window and restart jupyter notebook"
   ]
  },
  {
   "cell_type": "code",
   "execution_count": null,
   "id": "7a0e3ff7",
   "metadata": {},
   "outputs": [],
   "source": [
    "import login\n",
    "login.connect()\n",
    "import schema.common_mice, schema.common_exp\n",
    "import ipywidgets as widgets\n",
    "from ipywidgets import interact, interact_manual\n",
    "import numpy as np"
   ]
  },
  {
   "cell_type": "markdown",
   "id": "43b331b8",
   "metadata": {},
   "source": [
    "Navigate the Mouse and Sacrificed tables"
   ]
  },
  {
   "cell_type": "code",
   "execution_count": null,
   "id": "004ec9ba",
   "metadata": {
    "scrolled": false
   },
   "outputs": [],
   "source": [
    "# create widgets\n",
    "user_widget = widgets.Dropdown(options = [\"\"] + list(schema.common_mice.Investigator().fetch(\"username\")))\n",
    "status_widget = widgets.Dropdown(options = [\"\", \"alive\", \"sacrificed\"])\n",
    "batch_widget = widgets.Dropdown(options = [\"\"] + list(np.unique(schema.common_mice.Mouse().fetch(\"batch\"))), value=\"\")\n",
    "strain_widget = widgets.Dropdown(options = [\"\"] + list(np.unique(schema.common_mice.Mouse().fetch(\"strain\"))), value=\"\")\n",
    "sex_widget = widgets.Dropdown(options = [\"\", \"M\", \"F\", \"U\"] , value=\"\")\n",
    "\n",
    "# restrict batch and strain options to match selected user\n",
    "def user_update(*args):\n",
    "    query = schema.common_mice.Mouse()\n",
    "    if user_widget.value != \"\":\n",
    "        query = query & \"username = '{}'\".format(user_widget.value)\n",
    "    batch_widget.options = [\"\"] + list(np.unique(query.fetch(\"batch\")))\n",
    "    strain_widget.options = [\"\"] + list(np.unique(query.fetch(\"strain\")))\n",
    "user_widget.observe(user_update, \"value\")\n",
    "\n",
    "# show mice, restricting by the current widget selections\n",
    "def show_mice(username, status, batch, strain, sex):\n",
    "    query = schema.common_mice.Mouse()\n",
    "    if username != \"\":\n",
    "        query = schema.common_mice.Mouse() & \"username = '{}'\".format(username)\n",
    "    if status == \"alive\":\n",
    "        query = query - schema.common_mice.Sacrificed()\n",
    "    elif status == \"sacrificed\":\n",
    "        query = query * schema.common_mice.Sacrificed()\n",
    "    if batch != \"\":\n",
    "        query = query & \"batch = '{}'\".format(batch)\n",
    "    if strain != \"\":\n",
    "        query = query & \"strain = '{}'\".format(strain)\n",
    "    if sex != \"\":\n",
    "        query = query & \"sex = '{}'\".format(sex)\n",
    "    return query\n",
    "\n",
    "# make interactive plot\n",
    "interact(show_mice, username=user_widget, status=status_widget, batch = batch_widget, strain = strain_widget, sex = sex_widget)"
   ]
  },
  {
   "cell_type": "markdown",
   "id": "a61f2680",
   "metadata": {},
   "source": [
    "For a given mouse, show surgeries and injections"
   ]
  },
  {
   "cell_type": "code",
   "execution_count": null,
   "id": "e019f3d2",
   "metadata": {},
   "outputs": [],
   "source": [
    "# create widgets\n",
    "user_widget = widgets.Dropdown(options = [\"\"] + list(schema.common_mice.Investigator().fetch(\"username\")))\n",
    "mouse_widget = widgets.Dropdown(options = [\"\"])\n",
    "batch_widget = widgets.Dropdown(options = [\"\"])\n",
    "\n",
    "# restrict batch and mouse_id options to match selected user\n",
    "def user_update(*args):\n",
    "    query = schema.common_mice.Mouse()\n",
    "    if user_widget.value != \"\":\n",
    "        query = query & \"username = '{}'\".format(user_widget.value)\n",
    "        mouse_widget.options = [\"\"] + list(np.unique(query.fetch(\"mouse_id\")))\n",
    "        batch_widget.options = [\"\"] + list(np.unique(query.fetch(\"batch\")))\n",
    "    else:\n",
    "        mouse_widget.options = [\"\"]\n",
    "        batch_widget.options = [\"\"]\n",
    "user_widget.observe(user_update, \"value\")\n",
    "\n",
    "# restrict mouse_id options to match selected batch\n",
    "def batch_update(*args):\n",
    "    query = schema.common_mice.Mouse() & \"username = '{}'\".format(user_widget.value)\n",
    "    if batch_widget.value != \"\":\n",
    "        query = query & \"batch='{}'\".format(batch_widget.value) \n",
    "        mouse_widget.options = [\"\"] + list(np.unique(query.fetch(\"mouse_id\")))\n",
    "    else:\n",
    "        mouse_widget.options = [\"\"] + list(np.unique(query.fetch(\"mouse_id\")))\n",
    "batch_widget.observe(batch_update, \"value\")\n",
    "\n",
    "def show_surgeries(username, mouse, batch):\n",
    "    query_surgery = schema.common_mice.Surgery()\n",
    "    if (username != \"\"):\n",
    "        query_surgery = query_surgery & \"username = '{}'\".format(username)\n",
    "    if (mouse != \"\"):\n",
    "        query_surgery = query_surgery & \"mouse_id = '{}'\".format(mouse)\n",
    "    display(query_surgery)\n",
    "    display(schema.common_mice.Injection() & query_surgery)\n",
    "    return\n",
    "\n",
    "interact(show_surgeries, username=user_widget, mouse=mouse_widget, batch = batch_widget)"
   ]
  },
  {
   "cell_type": "code",
   "execution_count": null,
   "id": "a4f36e8a",
   "metadata": {},
   "outputs": [],
   "source": []
  }
 ],
 "metadata": {
  "kernelspec": {
   "display_name": "Python 3",
   "language": "python",
   "name": "python3"
  },
  "language_info": {
   "codemirror_mode": {
    "name": "ipython",
    "version": 3
   },
   "file_extension": ".py",
   "mimetype": "text/x-python",
   "name": "python",
   "nbconvert_exporter": "python",
   "pygments_lexer": "ipython3",
   "version": "3.7.10"
  }
 },
 "nbformat": 4,
 "nbformat_minor": 5
}
