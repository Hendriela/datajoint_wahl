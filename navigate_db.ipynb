{
 "cells": [
  {
   "cell_type": "code",
   "execution_count": null,
   "id": "92eec0ca",
   "metadata": {},
   "outputs": [],
   "source": [
    "# run for first time setup\n",
    "! pip install ipywidgets\n",
    "! jupyter nbextension enable --py widgetsnbextension"
   ]
  },
  {
   "cell_type": "code",
   "execution_count": 15,
   "id": "426dd1a7",
   "metadata": {},
   "outputs": [],
   "source": [
    "import login\n",
    "login.connect()\n",
    "import schema.common_mice, schema.common_exp\n",
    "import ipywidgets as widgets\n",
    "from ipywidgets import interact, interact_manual\n",
    "import numpy as np"
   ]
  },
  {
   "cell_type": "markdown",
   "id": "83f7cbca",
   "metadata": {},
   "source": [
    "Navigate the Mouse Table"
   ]
  },
  {
   "cell_type": "code",
   "execution_count": 38,
   "id": "d929dce8",
   "metadata": {},
   "outputs": [
    {
     "data": {
      "application/vnd.jupyter.widget-view+json": {
       "model_id": "9aa45813f31b4b359f479974ced16a23",
       "version_major": 2,
       "version_minor": 0
      },
      "text/plain": [
       "interactive(children=(Dropdown(description='username', options=('', 'aswahl', 'hheise', 'jnambi', 'mpanze'), v…"
      ]
     },
     "metadata": {},
     "output_type": "display_data"
    },
    {
     "data": {
      "text/plain": [
       "<function __main__.show_mice(username, status, batch)>"
      ]
     },
     "execution_count": 38,
     "metadata": {},
     "output_type": "execute_result"
    }
   ],
   "source": [
    "usernames = [\"\"] + list(schema.common_mice.Investigator().fetch(\"username\"))\n",
    "user_widget = widgets.Dropdown(options = usernames, value = \"\", description = \"username\")\n",
    "status_widget = widgets.Dropdown(options = [\"alive\", \"sacrificed\", \"all\"])\n",
    "batch_widget = widgets.Dropdown(options = [\"\"] + list(np.unique(schema.common_mice.Mouse().fetch(\"batch\"))), value=\"\")\n",
    "\n",
    "def update_batch(*args):\n",
    "    table = schema.common_mice.Mouse()\n",
    "    if user_widget.value != \"\":\n",
    "        table = table & \"username = '{}'\".format(user_widget.value)\n",
    "    batch_widget.options = [\"\"] + list(np.unique(table.fetch(\"batch\")))\n",
    "user_widget.observe(update_batch, \"value\")\n",
    "\n",
    "def show_mice(username, status, batch):\n",
    "    query = schema.common_mice.Mouse()\n",
    "    if username != \"\":\n",
    "        query = schema.common_mice.Mouse() & \"username = '{}'\".format(username)\n",
    "    if status == \"alive\":\n",
    "        query = query - schema.common_mice.Sacrificed()\n",
    "    elif status == \"sacrificed\":\n",
    "        query = query * schema.common_mice.Sacrificed()\n",
    "    if batch != \"\":\n",
    "        query = query & \"batch = '{}'\".format(batch)\n",
    "    return query\n",
    "\n",
    "interact(show_mice, username=user_widget, status=status_widget, batch = batch_widget)"
   ]
  },
  {
   "cell_type": "code",
   "execution_count": null,
   "id": "523f8a13",
   "metadata": {},
   "outputs": [],
   "source": []
  }
 ],
 "metadata": {
  "kernelspec": {
   "display_name": "Python 3",
   "language": "python",
   "name": "python3"
  },
  "language_info": {
   "codemirror_mode": {
    "name": "ipython",
    "version": 3
   },
   "file_extension": ".py",
   "mimetype": "text/x-python",
   "name": "python",
   "nbconvert_exporter": "python",
   "pygments_lexer": "ipython3",
   "version": "3.7.10"
  }
 },
 "nbformat": 4,
 "nbformat_minor": 5
}
