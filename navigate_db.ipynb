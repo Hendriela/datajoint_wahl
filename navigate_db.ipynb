{
 "cells": [
  {
   "cell_type": "code",
   "execution_count": null,
   "id": "ad22acb1",
   "metadata": {},
   "outputs": [],
   "source": [
    "# run for first time setup\n",
    "! pip install ipywidgets\n",
    "! jupyter nbextension enable --py widgetsnbextension"
   ]
  },
  {
   "cell_type": "code",
   "execution_count": 2,
   "id": "426dd1a7",
   "metadata": {},
   "outputs": [
    {
     "name": "stdout",
     "output_type": "stream",
     "text": [
      "Connecting root@130.60.53.47:3306\n"
     ]
    }
   ],
   "source": [
    "import login\n",
    "login.connect()\n",
    "import schema.common_mice, schema.common_exp\n",
    "import ipywidgets as widgets\n",
    "from ipywidgets import interact, interact_manual\n",
    "import numpy as np"
   ]
  },
  {
   "cell_type": "markdown",
   "id": "d4c25594",
   "metadata": {},
   "source": [
    "Navigate the Mouse and Sacrificed tables"
   ]
  },
  {
   "cell_type": "code",
   "execution_count": 3,
   "id": "d929dce8",
   "metadata": {
    "scrolled": false
   },
   "outputs": [
    {
     "data": {
      "application/vnd.jupyter.widget-view+json": {
       "model_id": "275d182bf4fb4925bd74408f551b4afc",
       "version_major": 2,
       "version_minor": 0
      },
      "text/plain": [
       "interactive(children=(Dropdown(description='username', options=('', 'aswahl', 'hheise', 'jnambi', 'mpanze'), v…"
      ]
     },
     "metadata": {},
     "output_type": "display_data"
    },
    {
     "data": {
      "text/plain": [
       "<function __main__.show_mice(username, status, batch, strain, sex)>"
      ]
     },
     "execution_count": 3,
     "metadata": {},
     "output_type": "execute_result"
    }
   ],
   "source": [
    "# create widgets\n",
    "user_widget = widgets.Dropdown(options = [\"\"] + list(schema.common_mice.Investigator().fetch(\"username\")))\n",
    "status_widget = widgets.Dropdown(options = [\"\", \"alive\", \"sacrificed\"])\n",
    "batch_widget = widgets.Dropdown(options = [\"\"] + list(np.unique(schema.common_mice.Mouse().fetch(\"batch\"))), value=\"\")\n",
    "strain_widget = widgets.Dropdown(options = [\"\"] + list(np.unique(schema.common_mice.Mouse().fetch(\"strain\"))), value=\"\")\n",
    "sex_widget = widgets.Dropdown(options = [\"\", \"M\", \"F\", \"U\"] , value=\"\")\n",
    "\n",
    "# restrict batch and strain options to match selected user\n",
    "def user_update(*args):\n",
    "    query = schema.common_mice.Mouse()\n",
    "    if user_widget.value != \"\":\n",
    "        query = query & \"username = '{}'\".format(user_widget.value)\n",
    "    batch_widget.options = [\"\"] + list(np.unique(query.fetch(\"batch\")))\n",
    "    strain_widget.options = [\"\"] + list(np.unique(query.fetch(\"strain\")))\n",
    "user_widget.observe(user_update, \"value\")\n",
    "\n",
    "# show mice, restricting by the current widget selections\n",
    "def show_mice(username, status, batch, strain, sex):\n",
    "    query = schema.common_mice.Mouse()\n",
    "    if username != \"\":\n",
    "        query = schema.common_mice.Mouse() & \"username = '{}'\".format(username)\n",
    "    if status == \"alive\":\n",
    "        query = query - schema.common_mice.Sacrificed()\n",
    "    elif status == \"sacrificed\":\n",
    "        query = query * schema.common_mice.Sacrificed()\n",
    "    if batch != \"\":\n",
    "        query = query & \"batch = '{}'\".format(batch)\n",
    "    if strain != \"\":\n",
    "        query = query & \"strain = '{}'\".format(strain)\n",
    "    if sex != \"\":\n",
    "        query = query & \"sex = '{}'\".format(sex)\n",
    "    return query\n",
    "\n",
    "# make interactive plot\n",
    "interact(show_mice, username=user_widget, status=status_widget, batch = batch_widget, strain = strain_widget, sex = sex_widget)"
   ]
  },
  {
   "cell_type": "code",
   "execution_count": null,
   "id": "caf6edea",
   "metadata": {},
   "outputs": [],
   "source": []
  }
 ],
 "metadata": {
  "kernelspec": {
   "display_name": "Python 3",
   "language": "python",
   "name": "python3"
  },
  "language_info": {
   "codemirror_mode": {
    "name": "ipython",
    "version": 3
   },
   "file_extension": ".py",
   "mimetype": "text/x-python",
   "name": "python",
   "nbconvert_exporter": "python",
   "pygments_lexer": "ipython3",
   "version": "3.7.10"
  }
 },
 "nbformat": 4,
 "nbformat_minor": 5
}
