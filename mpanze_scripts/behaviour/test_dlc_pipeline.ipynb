{
 "cells": [
  {
   "cell_type": "code",
   "execution_count": 1,
   "id": "a5927c5f",
   "metadata": {},
   "outputs": [
    {
     "name": "stdout",
     "output_type": "stream",
     "text": [
      "P:\\projects\\datajoint_wahl\n",
      "Connecting mpanze@130.60.53.47:3306\n"
     ]
    }
   ],
   "source": [
    "%cd P:/projects/datajoint_wahl\n",
    "from schema import common_dlc, common_exp\n",
    "from mpanze_scripts import utils\n",
    "from pathlib import Path"
   ]
  },
  {
   "cell_type": "code",
   "execution_count": null,
   "id": "27928743",
   "metadata": {},
   "outputs": [],
   "source": [
    "# insert dummy session for testing purposes\n",
    "p = Path(r\"W:\\Neurophysiology-Storage1\\Wahl\\Matteo\\mouse_data\\Batch_3\\M21\\2021-11-18\\M021_2021-11-18_1_master.avi\")\n",
    "p2 = Path(r\"W:\\Neurophysiology-Storage1\\Wahl\\Matteo\\mouse_data\\Batch_3\\M21\\2021-11-18\\M021_2021-11-18_1_slave.avi\")\n",
    "p_sync = Path(r\"W:\\Neurophysiology-Storage1\\Wahl\\Matteo\\mouse_data\\Batch_3\\M21\\2021-11-18\\M021_2021-11-18_1_basler.bin\")\n",
    "mouse_id, day, session_num, suffix, file_desc = utils.session_from_filename(p)\n",
    "s_key = {\"username\": 'mpanze', \"mouse_id\": mouse_id, \"day\": day, \"session_num\": session_num, \"session_path\": str(p.parent),\n",
    "        \"task\": \"Joystick_with_cue\", \"setup\": \"Grasping_widefield\", \"anesthesia\": \"Awake\", \"experimenter\": \"mpanze\", \"session_notes\":\"\"}\n",
    "common_exp.Session().helper_insert1(s_key)\n",
    "key_dict = {your_key: s_key[your_key] for your_key in ['username', 'mouse_id', 'day', 'session_num']}\n",
    "video_dict_1 = {**key_dict, \"camera_position\": \"Right_Forelimb_Side_View\"}\n",
    "video_dict_2 = {**key_dict, \"camera_position\": \"Right_Forelimb_Front_View\"}\n",
    "common_dlc.Video().insert1(video_dict_1)\n",
    "common_dlc.Video().insert1(video_dict_2)\n",
    "raw_dict_1 = {**video_dict_1, \"part\":0, \"filename_video\": p.stem+p.suffix}\n",
    "raw_dict_2 = {**video_dict_2, \"part\":0, \"filename_video\": p2.stem+p2.suffix}\n",
    "common_dlc.RawVideoFile().insert1(raw_dict_1)\n",
    "common_dlc.RawVideoFile().insert1(raw_dict_2)\n",
    "sync_dict_1 = {**video_dict_1, \"filename_binary\": p_sync.stem + p_sync.suffix}\n",
    "sync_dict_2 = {**video_dict_2, \"filename_binary\": p_sync.stem + p_sync.suffix}\n",
    "common_dlc.FrameCountVideoTimeFile().insert1(sync_dict_1)\n",
    "common_dlc.FrameCountVideoTimeFile().insert1(sync_dict_2)"
   ]
  },
  {
   "cell_type": "code",
   "execution_count": 3,
   "id": "6ea6bb9e",
   "metadata": {},
   "outputs": [],
   "source": [
    "# insert all videos for M21\n",
    "path_M19 = Path(\"W:/Neurophysiology-Storage1/Wahl/Matteo/mouse_data/Batch_3/M19\")\n",
    "for p_slave in path_M19.rglob(\"*slave.avi\"):\n",
    "    p_sync = Path(str(p_slave.parent), p_slave.stem[:-5] + \"basler.bin\")\n",
    "    p_master = Path(str(p_slave.parent), p_slave.stem[:-5] + \"master.avi\")\n",
    "    mouse_id, day, session_num, suffix, file_desc = utils.session_from_filename(p_slave)\n",
    "    s_key = {\"username\": 'mpanze', \"mouse_id\": mouse_id, \"day\": day, \"session_num\": session_num, \"session_path\": str(p_slave.parent),\n",
    "        \"task\": \"Joystick_with_cue\", \"setup\": \"Grasping_widefield\", \"anesthesia\": \"Awake\", \"experimenter\": \"mpanze\", \"session_notes\":\"\"}\n",
    "    common_exp.Session().helper_insert1(s_key)\n",
    "    key_dict = {your_key: s_key[your_key] for your_key in ['username', 'mouse_id', 'day', 'session_num']}\n",
    "    video_dict_1 = {**key_dict, \"camera_position\": \"Right_Forelimb_Side_View\"}\n",
    "    video_dict_2 = {**key_dict, \"camera_position\": \"Right_Forelimb_Front_View\"}\n",
    "    common_dlc.Video().insert1(video_dict_1)\n",
    "    common_dlc.Video().insert1(video_dict_2)\n",
    "    raw_dict_1 = {**video_dict_1, \"part\":0, \"filename_video\": p_master.stem+p_master.suffix}\n",
    "    raw_dict_2 = {**video_dict_2, \"part\":0, \"filename_video\": p_slave.stem+p_slave.suffix}\n",
    "    common_dlc.RawVideoFile().insert1(raw_dict_1)\n",
    "    common_dlc.RawVideoFile().insert1(raw_dict_2)\n",
    "    sync_dict_1 = {**video_dict_1, \"filename_binary\": p_sync.stem + p_sync.suffix}\n",
    "    sync_dict_2 = {**video_dict_2, \"filename_binary\": p_sync.stem + p_sync.suffix}\n",
    "    common_dlc.FrameCountVideoTimeFile().insert1(sync_dict_1)\n",
    "    common_dlc.FrameCountVideoTimeFile().insert1(sync_dict_2)"
   ]
  },
  {
   "cell_type": "code",
   "execution_count": null,
   "id": "6d37d479",
   "metadata": {},
   "outputs": [],
   "source": [
    "common_dlc.FrameCountVideoTimeFile().get_paths()\n",
    "common_dlc.RawVideoFile().get_paths()\n",
    "t,d = (common_dlc.FrameCountVideoTimeFile() & \"camera_position='Right_Forelimb_Front_View'\").get_raw_data()\n",
    "import matplotlib.pyplot as plt\n",
    "%matplotlib notebook\n",
    "plt.figure(); plt.plot(t/60,d)"
   ]
  },
  {
   "cell_type": "code",
   "execution_count": null,
   "id": "2f4e92e6",
   "metadata": {},
   "outputs": [],
   "source": [
    "p_sync = Path(r\"W:\\Neurophysiology-Storage1\\Wahl\\Matteo\\mouse_data\\Batch_3\\M21\\2021-11-11\\M021_2021-11-11_1_basler.bin\")\n",
    "import numpy as np\n",
    "d = np.fromfile(str(p_sync), dtype = [('time', np.float64), (\"count\", np.float64)])\n",
    "plt.figure()\n",
    "plt.plot(d['time'], d['count'])"
   ]
  },
  {
   "cell_type": "code",
   "execution_count": null,
   "id": "26ed55ee",
   "metadata": {},
   "outputs": [],
   "source": [
    "common_dlc.VideoInfo().populate()"
   ]
  },
  {
   "cell_type": "code",
   "execution_count": null,
   "id": "17ebe74f",
   "metadata": {},
   "outputs": [],
   "source": []
  }
 ],
 "metadata": {
  "kernelspec": {
   "display_name": "Python [conda env:DEEPLABCUT] *",
   "language": "python",
   "name": "conda-env-DEEPLABCUT-py"
  },
  "language_info": {
   "codemirror_mode": {
    "name": "ipython",
    "version": 3
   },
   "file_extension": ".py",
   "mimetype": "text/x-python",
   "name": "python",
   "nbconvert_exporter": "python",
   "pygments_lexer": "ipython3",
   "version": "3.8.12"
  }
 },
 "nbformat": 4,
 "nbformat_minor": 5
}
