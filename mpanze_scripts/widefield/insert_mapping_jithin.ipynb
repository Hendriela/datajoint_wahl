{
 "cells": [
  {
   "cell_type": "code",
   "execution_count": 1,
   "id": "b2ee9a0b",
   "metadata": {},
   "outputs": [
    {
     "name": "stdout",
     "output_type": "stream",
     "text": [
      "P:\\projects\\datajoint_wahl\n",
      "Connecting mpanze@130.60.53.47:3306\n"
     ]
    }
   ],
   "source": [
    "%cd \"P:/projects/datajoint_wahl\"\n",
    "import login\n",
    "login.connect()\n",
    "import pathlib\n",
    "import json\n",
    "import pickle\n",
    "from tqdm import tqdm"
   ]
  },
  {
   "cell_type": "code",
   "execution_count": 9,
   "id": "bb5b9a19",
   "metadata": {},
   "outputs": [
    {
     "name": "stderr",
     "output_type": "stream",
     "text": [
      "\r",
      "0it [00:00, ?it/s]"
     ]
    },
    {
     "name": "stdout",
     "output_type": "stream",
     "text": [
      "F:/Jithin\n"
     ]
    },
    {
     "name": "stderr",
     "output_type": "stream",
     "text": [
      "96it [00:34,  2.78it/s]\n"
     ]
    }
   ],
   "source": [
    "login.set_working_directory(\"F:/Jithin\")\n",
    "print(login.get_working_directory())\n",
    "p_base = pathlib.Path(\"F:/Jithin\")\n",
    "x = 0\n",
    "from schema.common_exp import Session\n",
    "from schema.mpanze_widefield import Scan, ScanInfo, RawImagingFile, AffineRegistration\n",
    "from schema.mpanze_mapping import MappingSession, RawSynchronisationFile, RawParameterFile\n",
    "\n",
    "def get_entries(p_b):\n",
    "    d = {}\n",
    "    suf = [\"scan\", \"info\", \"img\", \"session\", \"affine\"]\n",
    "    for i in p_b:\n",
    "        for j in suf:\n",
    "            if j in str(i):\n",
    "                with open(i,\"rb\") as f:\n",
    "                    d[j] = pickle.load(f)\n",
    "    return d\n",
    "\n",
    "for p_json in tqdm(p_base.rglob(\"*.json\")):\n",
    "    if (\"Widefield\" in str(p_json.parent) and \"M41\" in str(p_json.parent)):\n",
    "        continue\n",
    "    p_tif = p_json.with_suffix(\".tif\")\n",
    "    p_txt = p_json.with_suffix(\".txt\")\n",
    "    p_backups = []\n",
    "    if \"orelimb\" in p_json.stem:\n",
    "        p_backups = list(p_json.parent.rglob(\"*orelimb*.pickle\"))\n",
    "    elif \"indlimb\" in p_json.stem:\n",
    "        p_backups = list(p_json.parent.rglob(\"*indlimb*.pickle\"))\n",
    "    else:\n",
    "        continue\n",
    "    \n",
    "    d = get_entries(p_backups)\n",
    "    # modify session entry dict\n",
    "    del d[\"session\"][\"session_num\"]\n",
    "    del d[\"session\"][\"session_id\"]\n",
    "    del d[\"session\"][\"session_counter\"]\n",
    "    del d[\"session\"][\"session_path\"]\n",
    "    d_restr = {\"username\":d[\"session\"][\"username\"], \"mouse_id\":d[\"session\"][\"mouse_id\"], \"day\":d[\"session\"][\"day\"]}\n",
    "    sess_count = len(Session() & d_restr) + 1\n",
    "    d[\"session\"][\"session_num\"] = sess_count\n",
    "    d[\"session\"][\"session_path\"] = p_json.parent\n",
    "    Session().helper_insert1(d[\"session\"])\n",
    "    del d[\"session\"][\"session_path\"]\n",
    "    \n",
    "    d[\"scan\"][\"session_num\"] = sess_count\n",
    "    d[\"scan\"][\"scan_id\"] = 1\n",
    "    Scan().insert1(d[\"scan\"])\n",
    "    d[\"info\"][\"session_num\"] = sess_count\n",
    "    d[\"info\"][\"scan_id\"] = 1\n",
    "    ScanInfo().insert1(d[\"info\"])\n",
    "    d[\"img\"][\"session_num\"] = sess_count\n",
    "    d[\"img\"][\"scan_id\"] = 1\n",
    "    d[\"img\"][\"filename_img\"] = p_tif.stem + p_tif.suffix\n",
    "    RawImagingFile().insert1(d[\"img\"])\n",
    "    if \"affine\" in d:\n",
    "        d[\"affine\"][\"session_num\"] = sess_count\n",
    "        d[\"affine\"][\"scan_id\"] = 1\n",
    "        AffineRegistration().insert1(d[\"affine\"])\n",
    "    d_restr[\"session_num\"] = sess_count\n",
    "    d_mapping = {**d_restr, \"stim_config\": 0}\n",
    "    if \"orelimb\" in p_json.stem:\n",
    "        d_mapping[\"stim_bodypart\"] = \"forelimb_right\"\n",
    "    elif \"indlimb\" in p_json.stem:\n",
    "        d_mapping[\"stim_bodypart\"] = \"hindlimb_right\"\n",
    "    else:\n",
    "        raise Exception(\"+++++++++++\")\n",
    "    MappingSession().insert1(d_mapping)\n",
    "    d_sync = {**d_restr, \"filename_sync\": p_txt.stem + p_txt.suffix}\n",
    "    d_param = {**d_restr, \"filename_params\": p_json.stem + p_json.suffix}\n",
    "    RawSynchronisationFile().insert1(d_sync)\n",
    "    RawParameterFile().insert1(d_param)\n",
    "    \n",
    "    # insert data in pipeline\n",
    "    if len(p_backups) == 0:\n",
    "        print(len(p_backups))\n",
    "    x +=1\n",
    "    if p_tif.exists() and p_txt.exists():\n",
    "        continue\n",
    "    \n",
    "assert x==80"
   ]
  },
  {
   "cell_type": "code",
   "execution_count": null,
   "id": "dac6d722",
   "metadata": {},
   "outputs": [],
   "source": [
    "p_tif.stem + p_tif.suffix"
   ]
  },
  {
   "cell_type": "code",
   "execution_count": null,
   "id": "bec768c6",
   "metadata": {},
   "outputs": [],
   "source": [
    "d[\"img\"]"
   ]
  },
  {
   "cell_type": "code",
   "execution_count": 5,
   "id": "9d5656db",
   "metadata": {},
   "outputs": [],
   "source": [
    "login.set_working_directory(\"F:/Jithin\")"
   ]
  },
  {
   "cell_type": "code",
   "execution_count": null,
   "id": "26cfdcfe",
   "metadata": {},
   "outputs": [],
   "source": []
  }
 ],
 "metadata": {
  "kernelspec": {
   "display_name": "Python 3",
   "language": "python",
   "name": "python3"
  },
  "language_info": {
   "codemirror_mode": {
    "name": "ipython",
    "version": 3
   },
   "file_extension": ".py",
   "mimetype": "text/x-python",
   "name": "python",
   "nbconvert_exporter": "python",
   "pygments_lexer": "ipython3",
   "version": "3.7.10"
  }
 },
 "nbformat": 4,
 "nbformat_minor": 5
}
