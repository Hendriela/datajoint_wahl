{
 "cells": [
  {
   "cell_type": "code",
   "execution_count": 1,
   "id": "dd76ad04",
   "metadata": {},
   "outputs": [
    {
     "name": "stdout",
     "output_type": "stream",
     "text": [
      "P:\\projects\\datajoint_wahl\n",
      "Connecting mpanze@130.60.53.47:3306\n"
     ]
    }
   ],
   "source": [
    "%cd \"P:/projects/datajoint_wahl\"\n",
    "import login\n",
    "login.connect()\n",
    "from schema import common_mice, common_exp, mpanze_widefield"
   ]
  },
  {
   "cell_type": "code",
   "execution_count": null,
   "id": "91d693ff",
   "metadata": {},
   "outputs": [],
   "source": [
    "#check if mice are in database, if not, add them\n",
    "common_mice.Mouse().insert1({\"username\":\"jnambi\",\"mouse_id\":43, \"dob\":\"22.09.2021\", \"sex\":\"M\", \"batch\":6,\n",
    "                            \"strain\":\"L2/3-TIGRE1.0-GCaMP6f\", \"genotype\":\"+/+\", \"irats_id\":\"N/A\", \"cage_num\":0, \n",
    "                            \"ear_mark\":\"N/A\", \"licence_id\":\"241/2018-A\", \"info\":\"dob,id,cage_num,ear_mark are N/A\"})\n",
    "common_mice.Mouse() & \"username='jnambi'\""
   ]
  },
  {
   "cell_type": "code",
   "execution_count": 2,
   "id": "8fccc7a8",
   "metadata": {},
   "outputs": [
    {
     "data": {
      "text/plain": [
       "'2021-07-04'"
      ]
     },
     "execution_count": 2,
     "metadata": {},
     "output_type": "execute_result"
    }
   ],
   "source": [
    "# path magic, to find all sessions for a given mouse and insert the correct info\n",
    "import pathlib\n",
    "from mpanze_scripts.widefield.utils import mapping_date_from_json\n",
    "    \n",
    "path = \"F:/Jithin/Batch_6/M42/Widefield/Pre_Stroke/Hindlimb_1.json\"\n",
    "mapping_date_from_json(path)"
   ]
  },
  {
   "cell_type": "code",
   "execution_count": null,
   "id": "e707f0fa",
   "metadata": {},
   "outputs": [],
   "source": []
  }
 ],
 "metadata": {
  "kernelspec": {
   "display_name": "Python 3",
   "language": "python",
   "name": "python3"
  },
  "language_info": {
   "codemirror_mode": {
    "name": "ipython",
    "version": 3
   },
   "file_extension": ".py",
   "mimetype": "text/x-python",
   "name": "python",
   "nbconvert_exporter": "python",
   "pygments_lexer": "ipython3",
   "version": "3.7.10"
  }
 },
 "nbformat": 4,
 "nbformat_minor": 5
}
