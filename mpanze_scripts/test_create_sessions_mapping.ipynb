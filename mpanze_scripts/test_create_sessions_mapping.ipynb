{
 "cells": [
  {
   "cell_type": "code",
   "execution_count": 2,
   "id": "dd76ad04",
   "metadata": {},
   "outputs": [
    {
     "name": "stdout",
     "output_type": "stream",
     "text": [
      "P:\\projects\\datajoint_wahl\n",
      "Connecting mpanze@130.60.53.47:3306\n"
     ]
    }
   ],
   "source": [
    "%cd \"P:/projects/datajoint_wahl\"\n",
    "import login\n",
    "login.connect()\n",
    "from schema import common_mice, common_exp, mpanze_widefield"
   ]
  },
  {
   "cell_type": "code",
   "execution_count": null,
   "id": "91d693ff",
   "metadata": {},
   "outputs": [],
   "source": [
    "#check if mice are in database, if not, add them\n",
    "common_mice.Mouse().insert1({\"username\":\"jnambi\",\"mouse_id\":43, \"dob\":\"22.09.2021\", \"sex\":\"M\", \"batch\":6,\n",
    "                            \"strain\":\"L2/3-TIGRE1.0-GCaMP6f\", \"genotype\":\"+/+\", \"irats_id\":\"N/A\", \"cage_num\":0, \n",
    "                            \"ear_mark\":\"N/A\", \"licence_id\":\"241/2018-A\", \"info\":\"dob,id,cage_num,ear_mark are N/A\"})\n",
    "common_mice.Mouse() & \"username='jnambi'\""
   ]
  },
  {
   "cell_type": "code",
   "execution_count": 19,
   "id": "8fccc7a8",
   "metadata": {},
   "outputs": [],
   "source": [
    "# path magic, to find all sessions for a given mouse and insert the correct info\n",
    "import pathlib\n",
    "\n",
    "\n",
    "base_path = pathlib.Path(\"F:/Jithin/Batch_6/M43/Widefield/\")\n",
    "paths_forelimb_tif = list(base_path.rglob(\"*Forelimb*.tif\"))\n",
    "paths_forelimb_json = []\n",
    "\n",
    "# match .json files to forelimb\n",
    "for path_tif in paths_forelimb_tif:\n",
    "    path_json = list(path_tif.parent.glob(\"*forelimb*.json\"))\n",
    "    if len(path_json) != 1:\n",
    "        print(\"json not found\")\n",
    "        print(len(path_json))\n",
    "    else:\n",
    "        paths_forelimb_json.append(path_json[0])"
   ]
  },
  {
   "cell_type": "code",
   "execution_count": 21,
   "id": "e707f0fa",
   "metadata": {},
   "outputs": [
    {
     "name": "stdout",
     "output_type": "stream",
     "text": [
      "{'username': 'jnambi', 'mouse_id': 43, 'day': '2021-07-30', 'session_num': 1, 'session_id': 'session_jnambi_M043_2021-07-30_01', 'session_path': 'Batch_6\\\\M43\\\\Widefield\\\\Post_Stroke\\\\Week_1', 'session_counter': 228, 'experimenter': 'jnambi', 'anesthesia': 'Isoflurane', 'setup': 'mapping', 'task': 'Sensory mapping', 'session_notes': 'sensory mapping (GCaMP)'}\n",
      "{'username': 'jnambi', 'mouse_id': 43, 'day': '2021-08-07', 'session_num': 1, 'session_id': 'session_jnambi_M043_2021-08-07_01', 'session_path': 'Batch_6\\\\M43\\\\Widefield\\\\Post_Stroke\\\\Week_2', 'session_counter': 229, 'experimenter': 'jnambi', 'anesthesia': 'Isoflurane', 'setup': 'mapping', 'task': 'Sensory mapping', 'session_notes': 'sensory mapping (GCaMP)'}\n",
      "{'username': 'jnambi', 'mouse_id': 43, 'day': '2021-08-15', 'session_num': 1, 'session_id': 'session_jnambi_M043_2021-08-15_01', 'session_path': 'Batch_6\\\\M43\\\\Widefield\\\\Post_Stroke\\\\Week_3', 'session_counter': 230, 'experimenter': 'jnambi', 'anesthesia': 'Isoflurane', 'setup': 'mapping', 'task': 'Sensory mapping', 'session_notes': 'sensory mapping (GCaMP)'}\n",
      "{'username': 'jnambi', 'mouse_id': 43, 'day': '2021-08-21', 'session_num': 1, 'session_id': 'session_jnambi_M043_2021-08-21_01', 'session_path': 'Batch_6\\\\M43\\\\Widefield\\\\Post_Stroke\\\\Week_4', 'session_counter': 231, 'experimenter': 'jnambi', 'anesthesia': 'Isoflurane', 'setup': 'mapping', 'task': 'Sensory mapping', 'session_notes': 'sensory mapping (GCaMP)'}\n",
      "{'username': 'jnambi', 'mouse_id': 43, 'day': '2021-08-27', 'session_num': 1, 'session_id': 'session_jnambi_M043_2021-08-27_01', 'session_path': 'Batch_6\\\\M43\\\\Widefield\\\\Post_Stroke\\\\Week_5', 'session_counter': 232, 'experimenter': 'jnambi', 'anesthesia': 'Isoflurane', 'setup': 'mapping', 'task': 'Sensory mapping', 'session_notes': 'sensory mapping (GCaMP)'}\n",
      "{'username': 'jnambi', 'mouse_id': 43, 'day': '2021-09-12', 'session_num': 1, 'session_id': 'session_jnambi_M043_2021-09-12_01', 'session_path': 'Batch_6\\\\M43\\\\Widefield\\\\Post_Stroke\\\\Week_6', 'session_counter': 233, 'experimenter': 'jnambi', 'anesthesia': 'Isoflurane', 'setup': 'mapping', 'task': 'Sensory mapping', 'session_notes': 'sensory mapping (GCaMP)'}\n",
      "{'username': 'jnambi', 'mouse_id': 43, 'day': '2021-09-18', 'session_num': 1, 'session_id': 'session_jnambi_M043_2021-09-18_01', 'session_path': 'Batch_6\\\\M43\\\\Widefield\\\\Post_Stroke\\\\Week_7', 'session_counter': 234, 'experimenter': 'jnambi', 'anesthesia': 'Isoflurane', 'setup': 'mapping', 'task': 'Sensory mapping', 'session_notes': 'sensory mapping (GCaMP)'}\n",
      "{'username': 'jnambi', 'mouse_id': 43, 'day': '2021-07-04', 'session_num': 1, 'session_id': 'session_jnambi_M043_2021-07-04_01', 'session_path': 'Batch_6\\\\M43\\\\Widefield\\\\Pre_Stroke', 'session_counter': 235, 'experimenter': 'jnambi', 'anesthesia': 'Isoflurane', 'setup': 'mapping', 'task': 'Sensory mapping', 'session_notes': 'sensory mapping (GCaMP)'}\n"
     ]
    }
   ],
   "source": [
    "# get relative paths for sessions\n",
    "from mpanze_scripts.widefield.utils import mapping_date_from_json\n",
    "from schema.common_exp import Session\n",
    "for i, path in enumerate(paths_forelimb_tif):\n",
    "    session_date = mapping_date_from_json(str(paths_forelimb_json[i]))\n",
    "    if len(Session.fetch('session_counter')) == 0:\n",
    "        counter = 0\n",
    "    else:\n",
    "        counter = max(Session.fetch('session_counter')) + 1\n",
    "    new_dict = {\"username\": \"jnambi\",\n",
    "                \"mouse_id\": 43,\n",
    "                \"day\": session_date,\n",
    "                \"session_num\": 1,\n",
    "                \"session_id\": Session().create_id(\"jnambi\", 43, session_date, 1),\n",
    "                \"session_path\": str(path.parent.relative_to(\"F:/Jithin/\")),\n",
    "                \"session_counter\": counter,\n",
    "                \"experimenter\": \"jnambi\",\n",
    "                \"anesthesia\": \"Isoflurane\",\n",
    "                \"setup\": \"mapping\",\n",
    "                \"task\": \"Sensory mapping\",\n",
    "                \"session_notes\": \"sensory mapping (GCaMP)\"}\n",
    "    Session.insert1(new_dict)\n",
    "    print(new_dict)"
   ]
  },
  {
   "cell_type": "code",
   "execution_count": null,
   "id": "481ecd0c",
   "metadata": {},
   "outputs": [],
   "source": []
  }
 ],
 "metadata": {
  "kernelspec": {
   "display_name": "Python 3",
   "language": "python",
   "name": "python3"
  },
  "language_info": {
   "codemirror_mode": {
    "name": "ipython",
    "version": 3
   },
   "file_extension": ".py",
   "mimetype": "text/x-python",
   "name": "python",
   "nbconvert_exporter": "python",
   "pygments_lexer": "ipython3",
   "version": "3.7.10"
  }
 },
 "nbformat": 4,
 "nbformat_minor": 5
}
