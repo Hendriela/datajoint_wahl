{
 "cells": [
  {
   "cell_type": "code",
   "execution_count": 9,
   "id": "dd76ad04",
   "metadata": {},
   "outputs": [
    {
     "name": "stdout",
     "output_type": "stream",
     "text": [
      "P:\\projects\\datajoint_wahl\n",
      "Connecting mpanze@130.60.53.47:3306\n"
     ]
    }
   ],
   "source": [
    "%cd \"P:/projects/datajoint_wahl\"\n",
    "import login\n",
    "login.connect()\n",
    "from schema import common_mice, common_exp, mpanze_widefield"
   ]
  },
  {
   "cell_type": "code",
   "execution_count": 16,
   "id": "91d693ff",
   "metadata": {},
   "outputs": [
    {
     "data": {
      "text/html": [
       "\n",
       "    \n",
       "    <style type=\"text/css\">\n",
       "        .Relation{\n",
       "            border-collapse:collapse;\n",
       "        }\n",
       "        .Relation th{\n",
       "            background: #A0A0A0; color: #ffffff; padding:4px; border:#f0e0e0 1px solid;\n",
       "            font-weight: normal; font-family: monospace; font-size: 100%;\n",
       "        }\n",
       "        .Relation td{\n",
       "            padding:4px; border:#f0e0e0 1px solid; font-size:100%;\n",
       "        }\n",
       "        .Relation tr:nth-child(odd){\n",
       "            background: #ffffff;\n",
       "        }\n",
       "        .Relation tr:nth-child(even){\n",
       "            background: #f3f1ff;\n",
       "        }\n",
       "        /* Tooltip container */\n",
       "        .djtooltip {\n",
       "        }\n",
       "        /* Tooltip text */\n",
       "        .djtooltip .djtooltiptext {\n",
       "            visibility: hidden;\n",
       "            width: 120px;\n",
       "            background-color: black;\n",
       "            color: #fff;\n",
       "            text-align: center;\n",
       "            padding: 5px 0;\n",
       "            border-radius: 6px;\n",
       "            /* Position the tooltip text - see examples below! */\n",
       "            position: absolute;\n",
       "            z-index: 1;\n",
       "        }\n",
       "        #primary {\n",
       "            font-weight: bold;\n",
       "            color: black;\n",
       "        }\n",
       "        #nonprimary {\n",
       "            font-weight: normal;\n",
       "            color: white;\n",
       "        }\n",
       "\n",
       "        /* Show the tooltip text when you mouse over the tooltip container */\n",
       "        .djtooltip:hover .djtooltiptext {\n",
       "            visibility: visible;\n",
       "        }\n",
       "    </style>\n",
       "    \n",
       "    <b>Basic information about the Mouse</b>\n",
       "        <div style=\"max-height:1000px;max-width:1500px;overflow:auto;\">\n",
       "        <table border=\"1\" class=\"Relation\">\n",
       "            <thead> <tr style=\"text-align: right;\"> <th> <div class=\"djtooltip\">\n",
       "                            <p id=\"primary\">username</p>\n",
       "                            <span class=\"djtooltiptext\">Unique username, should be the UZH shortname</span>\n",
       "                        </div></th><th><div class=\"djtooltip\">\n",
       "                            <p id=\"primary\">mouse_id</p>\n",
       "                            <span class=\"djtooltiptext\">ID of mouse (unique per investigator)</span>\n",
       "                        </div></th><th><div class=\"djtooltip\">\n",
       "                            <p id=\"nonprimary\">dob</p>\n",
       "                            <span class=\"djtooltiptext\">Day of birth (year-month-day)</span>\n",
       "                        </div></th><th><div class=\"djtooltip\">\n",
       "                            <p id=\"nonprimary\">sex</p>\n",
       "                            <span class=\"djtooltiptext\">Sex of mouse - Male, Female, or Unknown/Unclassified</span>\n",
       "                        </div></th><th><div class=\"djtooltip\">\n",
       "                            <p id=\"nonprimary\">batch</p>\n",
       "                            <span class=\"djtooltiptext\">Batch ID that this mouse belongs to (0 if no batch)</span>\n",
       "                        </div></th><th><div class=\"djtooltip\">\n",
       "                            <p id=\"nonprimary\">strain</p>\n",
       "                            <span class=\"djtooltiptext\">Mouse variant short name</span>\n",
       "                        </div></th><th><div class=\"djtooltip\">\n",
       "                            <p id=\"nonprimary\">genotype</p>\n",
       "                            <span class=\"djtooltiptext\">n.d. if transgenic but not determined</span>\n",
       "                        </div></th><th><div class=\"djtooltip\">\n",
       "                            <p id=\"nonprimary\">irats_id</p>\n",
       "                            <span class=\"djtooltiptext\">ID that is used in iRats (e.g. BJ5698)</span>\n",
       "                        </div></th><th><div class=\"djtooltip\">\n",
       "                            <p id=\"nonprimary\">cage_num</p>\n",
       "                            <span class=\"djtooltiptext\">Cage number</span>\n",
       "                        </div></th><th><div class=\"djtooltip\">\n",
       "                            <p id=\"nonprimary\">ear_mark</p>\n",
       "                            <span class=\"djtooltiptext\">Actual ear mark, might not correspond to iRats earmark</span>\n",
       "                        </div></th><th><div class=\"djtooltip\">\n",
       "                            <p id=\"nonprimary\">licence_id</p>\n",
       "                            <span class=\"djtooltiptext\">Licence ID with project suffix to keep it unique</span>\n",
       "                        </div></th><th><div class=\"djtooltip\">\n",
       "                            <p id=\"nonprimary\">info</p>\n",
       "                            <span class=\"djtooltiptext\">Additional information about this mouse</span>\n",
       "                        </div> </th> </tr> </thead>\n",
       "            <tbody> <tr> <td>jnambi</td>\n",
       "<td>41</td>\n",
       "<td>2022-09-20</td>\n",
       "<td>M</td>\n",
       "<td>6</td>\n",
       "<td>L2/3-TIGRE1.0-GCaMP6f</td>\n",
       "<td>+/+</td>\n",
       "<td>N/A</td>\n",
       "<td>0</td>\n",
       "<td>N/A</td>\n",
       "<td>241/2018-A</td>\n",
       "<td>dob,id,cage_num,ear_mark are N/A</td></tr><tr><td>jnambi</td>\n",
       "<td>42</td>\n",
       "<td>2022-09-20</td>\n",
       "<td>M</td>\n",
       "<td>6</td>\n",
       "<td>L2/3-TIGRE1.0-GCaMP6f</td>\n",
       "<td>+/+</td>\n",
       "<td>N/A</td>\n",
       "<td>0</td>\n",
       "<td>N/A</td>\n",
       "<td>241/2018-A</td>\n",
       "<td>dob,id,cage_num,ear_mark are N/A</td></tr><tr><td>jnambi</td>\n",
       "<td>43</td>\n",
       "<td>2022-09-20</td>\n",
       "<td>M</td>\n",
       "<td>6</td>\n",
       "<td>L2/3-TIGRE1.0-GCaMP6f</td>\n",
       "<td>+/+</td>\n",
       "<td>N/A</td>\n",
       "<td>0</td>\n",
       "<td>N/A</td>\n",
       "<td>241/2018-A</td>\n",
       "<td>dob,id,cage_num,ear_mark are N/A</td> </tr> </tbody>\n",
       "        </table>\n",
       "        \n",
       "        <p>Total: 3</p></div>\n",
       "        "
      ],
      "text/plain": [
       "*username    *mouse_id    dob            sex     batch     strain         genotype     irats_id     cage_num     ear_mark     licence_id     info          \n",
       "+----------+ +----------+ +------------+ +-----+ +-------+ +------------+ +----------+ +----------+ +----------+ +----------+ +------------+ +------------+\n",
       "jnambi       41           2022-09-20     M       6         L2/3-TIGRE1.0- +/+          N/A          0            N/A          241/2018-A     dob,id,cage_nu\n",
       "jnambi       42           2022-09-20     M       6         L2/3-TIGRE1.0- +/+          N/A          0            N/A          241/2018-A     dob,id,cage_nu\n",
       "jnambi       43           2022-09-20     M       6         L2/3-TIGRE1.0- +/+          N/A          0            N/A          241/2018-A     dob,id,cage_nu\n",
       " (Total: 3)"
      ]
     },
     "execution_count": 16,
     "metadata": {},
     "output_type": "execute_result"
    }
   ],
   "source": [
    "#check if mice are in database, if not, add them\n",
    "common_mice.Mouse().insert1({\"username\":\"jnambi\",\"mouse_id\":43, \"dob\":\"22.09.2021\", \"sex\":\"M\", \"batch\":6,\n",
    "                            \"strain\":\"L2/3-TIGRE1.0-GCaMP6f\", \"genotype\":\"+/+\", \"irats_id\":\"N/A\", \"cage_num\":0, \n",
    "                            \"ear_mark\":\"N/A\", \"licence_id\":\"241/2018-A\", \"info\":\"dob,id,cage_num,ear_mark are N/A\"})\n",
    "common_mice.Mouse() & \"username='jnambi'\""
   ]
  },
  {
   "cell_type": "code",
   "execution_count": 18,
   "id": "8fccc7a8",
   "metadata": {},
   "outputs": [
    {
     "data": {
      "text/plain": [
       "datetime.datetime(2021, 9, 18, 14, 11)"
      ]
     },
     "execution_count": 18,
     "metadata": {},
     "output_type": "execute_result"
    }
   ],
   "source": [
    "# path magic, to find all sessions for a given mouse and insert the correct info\n",
    "import pathlib\n",
    "import json\n",
    "from datetime import datetime\n",
    "\n",
    "datetime_object = datetime.strptime('20210918_1411', '%Y%m%d_%H%M')\n",
    "datetime_object"
   ]
  },
  {
   "cell_type": "code",
   "execution_count": null,
   "id": "e707f0fa",
   "metadata": {},
   "outputs": [],
   "source": []
  }
 ],
 "metadata": {
  "kernelspec": {
   "display_name": "Python 3",
   "language": "python",
   "name": "python3"
  },
  "language_info": {
   "codemirror_mode": {
    "name": "ipython",
    "version": 3
   },
   "file_extension": ".py",
   "mimetype": "text/x-python",
   "name": "python",
   "nbconvert_exporter": "python",
   "pygments_lexer": "ipython3",
   "version": "3.7.10"
  }
 },
 "nbformat": 4,
 "nbformat_minor": 5
}
