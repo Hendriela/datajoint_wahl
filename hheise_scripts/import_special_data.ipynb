{
 "cells": [
  {
   "cell_type": "markdown",
   "id": "6d021154",
   "metadata": {},
   "source": [
    "# Import special data\n",
    "\n",
    "A notebook with code snippets that insert special data into the database that is not taken care of by the standard behavior/imaging pipeline. Things like Histology data fits here."
   ]
  },
  {
   "cell_type": "code",
   "execution_count": 1,
   "id": "ea9ae710",
   "metadata": {},
   "outputs": [
    {
     "name": "stdout",
     "output_type": "stream",
     "text": [
      "Connecting hheise@130.60.53.48:3306\n"
     ]
    }
   ],
   "source": [
    "import sys\n",
    "sys.path.append('..')\n",
    "import login\n",
    "login.connect()\n",
    "\n",
    "from schema import common_hist, hheise_hist"
   ]
  },
  {
   "cell_type": "markdown",
   "id": "baf7521b",
   "metadata": {},
   "source": [
    "## Import histology data"
   ]
  },
  {
   "cell_type": "markdown",
   "id": "9a0dadf7",
   "metadata": {},
   "source": [
    "### Batch 3"
   ]
  },
  {
   "cell_type": "code",
   "execution_count": null,
   "id": "b93bcef4",
   "metadata": {},
   "outputs": [],
   "source": [
    "filepath = r'W:\\Neurophysiology-Storage1\\Wahl\\Hendrik\\PhD\\Data\\Batch3\\histology\\slice_size.csv'\n",
    "day = '2021-02-08'\n",
    "thickness = 40\n",
    "cutting = 'cryostat'\n",
    "direction = 'coronal'\n",
    "microscope = 'Zeiss Axio Scan.Z1 (ZMB)'\n",
    "\n",
    "common_hist.Histology().import_data('hheise', filepath, day, thickness, cutting, direction, microscope)\n",
    "\n",
    "for idx in [33, 38, 41]:\n",
    "    common_hist.Staining().insert1(dict(username='hheise', mouse_id=idx, histo_date=day,\n",
    "                                        fluoro_num=1, target='intrinsic', primary_host='intrinsic', fluorophore='GFP'))"
   ]
  },
  {
   "cell_type": "code",
   "execution_count": 2,
   "id": "7410cd18",
   "metadata": {},
   "outputs": [],
   "source": [
    "hheise_hist.Microsphere().import_from_csv('hheise', r'W:\\Neurophysiology-Storage1\\Wahl\\Hendrik\\PhD\\Data\\Batch3\\histology\\spheres_annotation.csv', \n",
    "                                          '2021-02-08')"
   ]
  },
  {
   "cell_type": "markdown",
   "id": "6a7c0c81",
   "metadata": {},
   "source": [
    "### Batch 7"
   ]
  },
  {
   "cell_type": "code",
   "execution_count": null,
   "id": "577de7c2",
   "metadata": {},
   "outputs": [],
   "source": [
    "filepath = r'W:\\Neurophysiology-Storage1\\Wahl\\Hendrik\\PhD\\Data\\Batch7\\Batch7_histology\\slice_size.csv'\n",
    "day = '2021-10-01'\n",
    "microscope = 'Zeiss Axio Scan.Z1 (ZMB)'\n",
    "thickness = 100\n",
    "cutting = 'cryostat'\n",
    "direction = 'coronal'\n",
    "\n",
    "common_hist.Histology().import_data('hheise', filepath, day, thickness, cutting, direction, microscope)\n",
    "\n",
    "for idx in [83, 85, 86, 89, 90, 91, 93, 94, 95]:\n",
    "    common_hist.Staining().insert1(dict(username='hheise', mouse_id=idx, histo_date=day,\n",
    "                                        fluoro_num=1, target='intrinsic', primary_host='intrinsic', fluorophore='GFP'))\n",
    "    common_hist.Staining().insert1(dict(username='hheise', mouse_id=idx, histo_date=day,\n",
    "                                        fluoro_num=0, target='GFAP', primary_host='guinea pig', fluorophore='Cy3'))"
   ]
  },
  {
   "cell_type": "code",
   "execution_count": 3,
   "id": "48088729",
   "metadata": {},
   "outputs": [],
   "source": [
    "hheise_hist.Microsphere().import_from_csv('hheise', r'W:\\Neurophysiology-Storage1\\Wahl\\Hendrik\\PhD\\Data\\Batch7\\Batch7_histology\\spheres_annotation.csv', \n",
    "                                          '2021-10-01')"
   ]
  },
  {
   "cell_type": "markdown",
   "id": "fc6a30cb",
   "metadata": {},
   "source": [
    "## Run pipeline for all batches"
   ]
  },
  {
   "cell_type": "code",
   "execution_count": 4,
   "id": "007ef32a",
   "metadata": {},
   "outputs": [],
   "source": [
    "hheise_hist.MicrosphereSummary.populate()"
   ]
  }
 ],
 "metadata": {
  "kernelspec": {
   "display_name": "Python 3",
   "language": "python",
   "name": "python3"
  },
  "language_info": {
   "codemirror_mode": {
    "name": "ipython",
    "version": 3
   },
   "file_extension": ".py",
   "mimetype": "text/x-python",
   "name": "python",
   "nbconvert_exporter": "python",
   "pygments_lexer": "ipython3",
   "version": "3.7.10"
  }
 },
 "nbformat": 4,
 "nbformat_minor": 5
}
