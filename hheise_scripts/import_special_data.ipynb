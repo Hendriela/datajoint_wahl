{
 "cells": [
  {
   "cell_type": "markdown",
   "id": "6d021154",
   "metadata": {},
   "source": [
    "# Import special data\n",
    "\n",
    "A notebook with code snippets that insert special data into the database that is not taken care of by the standard behavior/imaging pipeline. Things like Histology data fits here."
   ]
  },
  {
   "cell_type": "code",
   "execution_count": 1,
   "id": "ea9ae710",
   "metadata": {},
   "outputs": [
    {
     "name": "stdout",
     "output_type": "stream",
     "text": [
      "Connecting hheise@130.60.53.48:3306\n"
     ]
    }
   ],
   "source": [
    "import sys\n",
    "sys.path.append('..')\n",
    "import login\n",
    "login.connect()\n",
    "\n",
    "from schema import common_hist, hheise_hist"
   ]
  },
  {
   "cell_type": "markdown",
   "id": "baf7521b",
   "metadata": {},
   "source": [
    "## Import histology data"
   ]
  },
  {
   "cell_type": "markdown",
   "id": "9a0dadf7",
   "metadata": {},
   "source": [
    "### Batch 3"
   ]
  },
  {
   "cell_type": "code",
   "execution_count": 7,
   "id": "b93bcef4",
   "metadata": {},
   "outputs": [],
   "source": [
    "filepath = r'W:\\Neurophysiology-Storage1\\Wahl\\Hendrik\\PhD\\Data\\Batch3\\histology\\slice_size.csv'\n",
    "day = '2021-02-08'\n",
    "thickness = 40\n",
    "cutting = 'cryostat'\n",
    "direction = 'coronal'\n",
    "microscope = 'Zeiss Axio Scan.Z1 (ZMB)'\n",
    "\n",
    "common_hist.Histology().import_data('hheise', filepath, day, thickness, cutting, direction, microscope)\n",
    "\n",
    "for idx in [33, 38, 41]:\n",
    "    common_hist.Staining().insert1(dict(username='hheise', mouse_id=idx, histo_date=day,\n",
    "                                        fluoro_num=1, target='intrinsic', primary_host='intrinsic', fluorophore='GFP'))"
   ]
  },
  {
   "cell_type": "code",
   "execution_count": 11,
   "id": "7410cd18",
   "metadata": {
    "scrolled": true
   },
   "outputs": [
    {
     "ename": "DuplicateError",
     "evalue": "(\"Duplicate entry 'hheise-63-2021-10-02-1-0-1-8-1' for key 'PRIMARY'\", 'To ignore duplicate entries in insert, set skip_duplicates=True')",
     "output_type": "error",
     "traceback": [
      "\u001b[1;31m---------------------------------------------------------------------------\u001b[0m",
      "\u001b[1;31mDuplicateError\u001b[0m                            Traceback (most recent call last)",
      "\u001b[1;32m<ipython-input-11-76cc860f7b49>\u001b[0m in \u001b[0;36m<module>\u001b[1;34m\u001b[0m\n\u001b[0;32m      1\u001b[0m hheise_hist.Microsphere().import_from_csv('hheise', r'F:\\Batch5\\Batch5_histology\\spheres_annotation.csv', \n\u001b[1;32m----> 2\u001b[1;33m                                           '2021-10-02')\n\u001b[0m",
      "\u001b[1;32m~\\PycharmProjects\\datajoint_wahl\\schema\\hheise_hist.py\u001b[0m in \u001b[0;36mimport_from_csv\u001b[1;34m(self, username, filepath, hist_date)\u001b[0m\n\u001b[0;32m    118\u001b[0m                 \u001b[1;32mexcept\u001b[0m \u001b[0mKeyError\u001b[0m\u001b[1;33m:\u001b[0m\u001b[1;33m\u001b[0m\u001b[1;33m\u001b[0m\u001b[0m\n\u001b[0;32m    119\u001b[0m                     \u001b[1;32mraise\u001b[0m \u001b[0mKeyError\u001b[0m\u001b[1;33m(\u001b[0m\u001b[1;34mf'Could not find acronym {row[\"acronym\"]} of entry {entry}.'\u001b[0m\u001b[1;33m)\u001b[0m\u001b[1;33m\u001b[0m\u001b[1;33m\u001b[0m\u001b[0m\n\u001b[1;32m--> 120\u001b[1;33m                 \u001b[0mself\u001b[0m\u001b[1;33m.\u001b[0m\u001b[0minsert1\u001b[0m\u001b[1;33m(\u001b[0m\u001b[0mentry\u001b[0m\u001b[1;33m)\u001b[0m\u001b[1;33m\u001b[0m\u001b[1;33m\u001b[0m\u001b[0m\n\u001b[0m\u001b[0;32m    121\u001b[0m \u001b[1;33m\u001b[0m\u001b[0m\n\u001b[0;32m    122\u001b[0m     \u001b[1;32mdef\u001b[0m \u001b[0mget_structure\u001b[0m\u001b[1;33m(\u001b[0m\u001b[0mself\u001b[0m\u001b[1;33m,\u001b[0m \u001b[0mstructure\u001b[0m\u001b[1;33m:\u001b[0m \u001b[0mUnion\u001b[0m\u001b[1;33m[\u001b[0m\u001b[0mstr\u001b[0m\u001b[1;33m,\u001b[0m \u001b[0mint\u001b[0m\u001b[1;33m]\u001b[0m\u001b[1;33m,\u001b[0m \u001b[0mhisto_key\u001b[0m\u001b[1;33m:\u001b[0m \u001b[0mOptional\u001b[0m\u001b[1;33m[\u001b[0m\u001b[0mdict\u001b[0m\u001b[1;33m]\u001b[0m \u001b[1;33m=\u001b[0m \u001b[1;32mNone\u001b[0m\u001b[1;33m)\u001b[0m \u001b[1;33m->\u001b[0m \u001b[0mOptional\u001b[0m\u001b[1;33m[\u001b[0m\u001b[0mpd\u001b[0m\u001b[1;33m.\u001b[0m\u001b[0mDataFrame\u001b[0m\u001b[1;33m]\u001b[0m\u001b[1;33m:\u001b[0m\u001b[1;33m\u001b[0m\u001b[1;33m\u001b[0m\u001b[0m\n",
      "\u001b[1;32mC:\\Anaconda3\\envs\\datajoint_wahl\\lib\\site-packages\\datajoint\\table.py\u001b[0m in \u001b[0;36minsert1\u001b[1;34m(self, row, **kwargs)\u001b[0m\n\u001b[0;32m    264\u001b[0m         \u001b[0mFor\u001b[0m \u001b[0mkwargs\u001b[0m\u001b[1;33m,\u001b[0m \u001b[0msee\u001b[0m \u001b[0minsert\u001b[0m\u001b[1;33m(\u001b[0m\u001b[1;33m)\u001b[0m\u001b[1;33m\u001b[0m\u001b[1;33m\u001b[0m\u001b[0m\n\u001b[0;32m    265\u001b[0m         \"\"\"\n\u001b[1;32m--> 266\u001b[1;33m         \u001b[0mself\u001b[0m\u001b[1;33m.\u001b[0m\u001b[0minsert\u001b[0m\u001b[1;33m(\u001b[0m\u001b[1;33m(\u001b[0m\u001b[0mrow\u001b[0m\u001b[1;33m,\u001b[0m\u001b[1;33m)\u001b[0m\u001b[1;33m,\u001b[0m \u001b[1;33m**\u001b[0m\u001b[0mkwargs\u001b[0m\u001b[1;33m)\u001b[0m\u001b[1;33m\u001b[0m\u001b[1;33m\u001b[0m\u001b[0m\n\u001b[0m\u001b[0;32m    267\u001b[0m \u001b[1;33m\u001b[0m\u001b[0m\n\u001b[0;32m    268\u001b[0m     \u001b[1;32mdef\u001b[0m \u001b[0minsert\u001b[0m\u001b[1;33m(\u001b[0m\u001b[0mself\u001b[0m\u001b[1;33m,\u001b[0m \u001b[0mrows\u001b[0m\u001b[1;33m,\u001b[0m \u001b[0mreplace\u001b[0m\u001b[1;33m=\u001b[0m\u001b[1;32mFalse\u001b[0m\u001b[1;33m,\u001b[0m \u001b[0mskip_duplicates\u001b[0m\u001b[1;33m=\u001b[0m\u001b[1;32mFalse\u001b[0m\u001b[1;33m,\u001b[0m \u001b[0mignore_extra_fields\u001b[0m\u001b[1;33m=\u001b[0m\u001b[1;32mFalse\u001b[0m\u001b[1;33m,\u001b[0m \u001b[0mallow_direct_insert\u001b[0m\u001b[1;33m=\u001b[0m\u001b[1;32mNone\u001b[0m\u001b[1;33m)\u001b[0m\u001b[1;33m:\u001b[0m\u001b[1;33m\u001b[0m\u001b[1;33m\u001b[0m\u001b[0m\n",
      "\u001b[1;32mC:\\Anaconda3\\envs\\datajoint_wahl\\lib\\site-packages\\datajoint\\table.py\u001b[0m in \u001b[0;36minsert\u001b[1;34m(self, rows, replace, skip_duplicates, ignore_extra_fields, allow_direct_insert)\u001b[0m\n\u001b[0;32m    336\u001b[0m             \u001b[1;32mexcept\u001b[0m \u001b[0mDuplicateError\u001b[0m \u001b[1;32mas\u001b[0m \u001b[0merr\u001b[0m\u001b[1;33m:\u001b[0m\u001b[1;33m\u001b[0m\u001b[1;33m\u001b[0m\u001b[0m\n\u001b[0;32m    337\u001b[0m                 raise err.suggest(\n\u001b[1;32m--> 338\u001b[1;33m                     'To ignore duplicate entries in insert, set skip_duplicates=True')\n\u001b[0m\u001b[0;32m    339\u001b[0m \u001b[1;33m\u001b[0m\u001b[0m\n\u001b[0;32m    340\u001b[0m     \u001b[1;32mdef\u001b[0m \u001b[0mdelete_quick\u001b[0m\u001b[1;33m(\u001b[0m\u001b[0mself\u001b[0m\u001b[1;33m,\u001b[0m \u001b[0mget_count\u001b[0m\u001b[1;33m=\u001b[0m\u001b[1;32mFalse\u001b[0m\u001b[1;33m)\u001b[0m\u001b[1;33m:\u001b[0m\u001b[1;33m\u001b[0m\u001b[1;33m\u001b[0m\u001b[0m\n",
      "\u001b[1;31mDuplicateError\u001b[0m: (\"Duplicate entry 'hheise-63-2021-10-02-1-0-1-8-1' for key 'PRIMARY'\", 'To ignore duplicate entries in insert, set skip_duplicates=True')"
     ]
    }
   ],
   "source": [
    "hheise_hist.Microsphere().import_from_csv('hheise', r'W:\\Neurophysiology-Storage1\\Wahl\\Hendrik\\PhD\\Data\\Batch3\\histology\\spheres_annotation.csv', \n",
    "                                          '2021-02-08')"
   ]
  },
  {
   "cell_type": "markdown",
   "id": "8945867a",
   "metadata": {},
   "source": [
    "## Batch 5"
   ]
  },
  {
   "cell_type": "code",
   "execution_count": null,
   "id": "8cebf042",
   "metadata": {},
   "outputs": [],
   "source": [
    "filepath = r'F:\\Batch5\\Batch5_histology\\slice_size.csv'\n",
    "day = '2021-10-02'\n",
    "thickness = 100\n",
    "cutting = 'cryostat'\n",
    "direction = 'coronal'\n",
    "microscope = 'Zeiss Axio Scan.Z1 (ZMB)'\n",
    "\n",
    "common_hist.Histology().import_data('hheise', filepath, day, thickness, cutting, direction, microscope)\n",
    "\n",
    "for idx in [63, 69]:\n",
    "    common_hist.Staining().insert1(dict(username='hheise', mouse_id=idx, histo_date=day,\n",
    "                                        fluoro_num=0, target='intrinsic', primary_host='intrinsic', fluorophore='GFP'))\n",
    "    common_hist.Staining().insert1(dict(username='hheise', mouse_id=idx, histo_date=day,\n",
    "                                    fluoro_num=1, target='GFAP', primary_host='guinea pig', fluorophore='Cy3'))"
   ]
  },
  {
   "cell_type": "code",
   "execution_count": null,
   "id": "aae13ee9",
   "metadata": {},
   "outputs": [],
   "source": [
    "hheise_hist.Microsphere().import_from_csv('hheise', r'F:\\Batch5\\Batch5_histology\\spheres_annotation.csv', \n",
    "                                          '2021-10-02')"
   ]
  },
  {
   "cell_type": "markdown",
   "id": "6a7c0c81",
   "metadata": {},
   "source": [
    "### Batch 7"
   ]
  },
  {
   "cell_type": "code",
   "execution_count": null,
   "id": "577de7c2",
   "metadata": {},
   "outputs": [],
   "source": [
    "filepath = r'W:\\Neurophysiology-Storage1\\Wahl\\Hendrik\\PhD\\Data\\Batch7\\Batch7_histology\\slice_size.csv'\n",
    "day = '2021-10-01'\n",
    "microscope = 'Zeiss Axio Scan.Z1 (ZMB)'\n",
    "thickness = 100\n",
    "cutting = 'cryostat'\n",
    "direction = 'coronal'\n",
    "\n",
    "common_hist.Histology().import_data('hheise', filepath, day, thickness, cutting, direction, microscope)\n",
    "\n",
    "for idx in [83, 85, 86, 89, 90, 91, 93, 94, 95]:\n",
    "    common_hist.Staining().insert1(dict(username='hheise', mouse_id=idx, histo_date=day,\n",
    "                                        fluoro_num=1, target='intrinsic', primary_host='intrinsic', fluorophore='GFP'))\n",
    "    common_hist.Staining().insert1(dict(username='hheise', mouse_id=idx, histo_date=day,\n",
    "                                        fluoro_num=0, target='GFAP', primary_host='guinea pig', fluorophore='Cy3'))"
   ]
  },
  {
   "cell_type": "code",
   "execution_count": 3,
   "id": "48088729",
   "metadata": {},
   "outputs": [],
   "source": [
    "hheise_hist.Microsphere().import_from_csv('hheise', r'W:\\Neurophysiology-Storage1\\Wahl\\Hendrik\\PhD\\Data\\Batch7\\Batch7_histology\\spheres_annotation.csv', \n",
    "                                          '2021-10-01')"
   ]
  },
  {
   "cell_type": "markdown",
   "id": "fc6a30cb",
   "metadata": {},
   "source": [
    "## Run pipeline for all batches"
   ]
  },
  {
   "cell_type": "code",
   "execution_count": 12,
   "id": "007ef32a",
   "metadata": {},
   "outputs": [],
   "source": [
    "hheise_hist.MicrosphereSummary.populate()"
   ]
  }
 ],
 "metadata": {
  "kernelspec": {
   "display_name": "Python 3",
   "language": "python",
   "name": "python3"
  },
  "language_info": {
   "codemirror_mode": {
    "name": "ipython",
    "version": 3
   },
   "file_extension": ".py",
   "mimetype": "text/x-python",
   "name": "python",
   "nbconvert_exporter": "python",
   "pygments_lexer": "ipython3",
   "version": "3.7.10"
  }
 },
 "nbformat": 4,
 "nbformat_minor": 5
}
