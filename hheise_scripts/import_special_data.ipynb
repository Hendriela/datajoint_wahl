{
 "cells": [
  {
   "cell_type": "markdown",
   "id": "75d338b4",
   "metadata": {},
   "source": [
    "# Import special data\n",
    "\n",
    "A notebook with code snippets that insert special data into the database that is not taken care of by the standard behavior/imaging pipeline. Things like Histology data fits here."
   ]
  },
  {
   "cell_type": "code",
   "execution_count": 8,
   "id": "08ae08ca",
   "metadata": {},
   "outputs": [],
   "source": [
    "import sys\n",
    "sys.path.append('..')\n",
    "import login\n",
    "login.connect()\n",
    "\n",
    "from schema import common_hist, hheise_hist"
   ]
  },
  {
   "cell_type": "markdown",
   "id": "76b524d1",
   "metadata": {},
   "source": [
    "## Import histology data"
   ]
  },
  {
   "cell_type": "markdown",
   "id": "618b674c",
   "metadata": {},
   "source": [
    "### Batch 3"
   ]
  },
  {
   "cell_type": "code",
   "execution_count": 2,
   "id": "ccac3844",
   "metadata": {},
   "outputs": [],
   "source": [
    "filepath = r'W:\\Neurophysiology-Storage1\\Wahl\\Hendrik\\PhD\\Data\\Batch3\\histology\\slice_size.csv'\n",
    "day = '2021-02-08'\n",
    "thickness = 40\n",
    "cutting = 'cryostat'\n",
    "direction = 'coronal'\n",
    "microscope = 'Zeiss Axio Scan.Z1 (ZMB)'\n",
    "\n",
    "\n",
    "for idx in [33, 38, 41]:\n",
    "    common_hist.Staining().insert1(dict(username='hheise', mouse_id=idx, histo_date=day,\n",
    "                                        fluoro_num=1, target='intrinsic', primary_host='intrinsic', fluorophore='GFP'))"
   ]
  },
  {
   "cell_type": "code",
   "execution_count": 16,
   "id": "7eb5efe8",
   "metadata": {},
   "outputs": [],
   "source": [
    "hheise_hist.Microsphere().import_from_csv('hheise', r'W:\\Neurophysiology-Storage1\\Wahl\\Hendrik\\PhD\\Data\\Batch3\\histology\\spheres_annotation.csv', \n",
    "                                          '2021-02-08')"
   ]
  },
  {
   "cell_type": "markdown",
   "id": "0882d163",
   "metadata": {},
   "source": [
    "### Batch 7"
   ]
  },
  {
   "cell_type": "code",
   "execution_count": 4,
   "id": "8debcfff",
   "metadata": {},
   "outputs": [],
   "source": [
    "filepath = r'W:\\Neurophysiology-Storage1\\Wahl\\Hendrik\\PhD\\Data\\Batch7\\Batch7_histology\\slice_size.csv'\n",
    "day = '2021-10-01'\n",
    "microscope = 'Zeiss Axio Scan.Z1 (ZMB)'\n",
    "thickness = 300\n",
    "cutting = 'cryostat'\n",
    "direction = 'coronal'\n",
    "\n",
    "common_hist.Histology().import_data('hheise', filepath, day, thickness, cutting, direction, microscope)\n",
    "\n",
    "\n",
    "for idx in [83, 85, 86, 89, 90, 91, 93, 94, 95]:\n",
    "    common_hist.Staining().insert1(dict(username='hheise', mouse_id=idx, histo_date=day,\n",
    "                                        fluoro_num=1, target='intrinsic', primary_host='intrinsic', fluorophore='GFP'))\n",
    "    common_hist.Staining().insert1(dict(username='hheise', mouse_id=idx, histo_date=day,\n",
    "                                        fluoro_num=0, target='GFAP', primary_host='guinea pig', fluorophore='Cy3'))"
   ]
  },
  {
   "cell_type": "code",
   "execution_count": 13,
   "id": "f909f989",
   "metadata": {},
   "outputs": [],
   "source": [
    "hheise_hist.Microsphere().import_from_csv('hheise', r'W:\\Neurophysiology-Storage1\\Wahl\\Hendrik\\PhD\\Data\\Batch7\\Batch7_histology\\spheres_annotation.csv', \n",
    "                                          '2021-10-01')"
   ]
  }
 ],
 "metadata": {
  "kernelspec": {
   "display_name": "Python 3",
   "language": "python",
   "name": "python3"
  },
  "language_info": {
   "codemirror_mode": {
    "name": "ipython",
    "version": 3
   },
   "file_extension": ".py",
   "mimetype": "text/x-python",
   "name": "python",
   "nbconvert_exporter": "python",
   "pygments_lexer": "ipython3",
   "version": "3.7.10"
  }
 },
 "nbformat": 4,
 "nbformat_minor": 5
}
