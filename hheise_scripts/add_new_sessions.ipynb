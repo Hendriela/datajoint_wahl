{
 "cells": [
  {
   "cell_type": "code",
   "execution_count": 1,
   "id": "67d365be",
   "metadata": {},
   "outputs": [
    {
     "name": "stdout",
     "output_type": "stream",
     "text": [
      "Connecting hheise@130.60.53.48:3306\n"
     ]
    }
   ],
   "source": [
    "import sys\n",
    "sys.path.append('..')\n",
    "\n",
    "import login\n",
    "login.connect()\n",
    "from hheise_scripts import hheise_util as util\n",
    "from schema import hheise_behav, common_exp, common_mice, common_img\n",
    "\n",
    "import matplotlib\n",
    "%matplotlib qt"
   ]
  },
  {
   "cell_type": "code",
   "execution_count": null,
   "id": "bb3f146b",
   "metadata": {},
   "outputs": [],
   "source": [
    "# Add multiple entries to common_exp.Session and common_img.Scan\n",
    "# Trial switch is given as base 1!\n",
    "date = '2021-08-15'\n",
    "mice = (83,89,\n",
    "        91,94,95)\n",
    "setup = 'VR_2p'\n",
    "# task = ['Active', 'Active',\n",
    "#         'Active', 'Active', 'Active']\n",
    "# switch = [[-1], [-1],\n",
    "#           [-1], [8], [-1], [-1]]\n",
    "\n",
    "# util.add_many_sessions(date=date, mice=mice, setup=setup, task=task, switch=switch)\n",
    "util.add_many_sessions(date=date, mice=mice, setup=setup)"
   ]
  },
  {
   "cell_type": "code",
   "execution_count": null,
   "id": "1c0e571b",
   "metadata": {},
   "outputs": [],
   "source": [
    "# Make entries for hheise_behav.VRSessionInfo and \n",
    "hheise_behav.VRSessionInfo().populate('username=\"hheise\"')"
   ]
  },
  {
   "cell_type": "code",
   "execution_count": null,
   "id": "68b8782a",
   "metadata": {},
   "outputs": [],
   "source": [
    "%matplotlib qt\n",
    "# Pre-screen trials for bad behavior data while populating hheise_behav.RawBehaviorFile\n",
    "# -> Does not work in Jupyter Notebook, call in PyCharm console\n",
    "hheise_behav.RawBehaviorFile().populate()\n",
    "# Delete TIFF files of bad trials if necessary"
   ]
  },
  {
   "cell_type": "code",
   "execution_count": null,
   "id": "ebbb7081",
   "metadata": {
    "scrolled": true
   },
   "outputs": [],
   "source": [
    "# Find and load the raw TIFF files\n",
    "common_img.RawImagingFile.populate(dict(username='hheise'))"
   ]
  },
  {
   "cell_type": "code",
   "execution_count": null,
   "id": "b79761a0",
   "metadata": {
    "scrolled": false
   },
   "outputs": [],
   "source": [
    "%%notify\n",
    "\n",
    "# Analyse the VR behavior, now that frame counts of imaging trials are loaded in the database\n",
    "hheise_behav.VRLogFile.populate(display_progress=True)\n",
    "hheise_behav.VRLog.populate(display_progress=True)\n",
    "hheise_behav.VRSession.populate(display_progress=True)\n",
    "hheise_behav.VRPerformance.populate(display_progress=True)\n",
    "hheise_behav.PerformanceTrend.populate(display_progress=True)"
   ]
  },
  {
   "cell_type": "code",
   "execution_count": null,
   "id": "63e88ba6",
   "metadata": {
    "scrolled": true
   },
   "outputs": [],
   "source": [
    "%%notify\n",
    "\n",
    "# After VR behavior is fully analysed, we can start with the CaImAn pipeline\n",
    "common_img.ScanInfo.populate(dict(username='hheise'), display_progress=True)"
   ]
  },
  {
   "cell_type": "code",
   "execution_count": null,
   "id": "bfb5c3d1",
   "metadata": {},
   "outputs": [],
   "source": [
    "# Check which available MotionParameter set you want to use for you motion correction\n",
    "common_img.MotionParameter()"
   ]
  },
  {
   "cell_type": "code",
   "execution_count": null,
   "id": "ebf13339",
   "metadata": {},
   "outputs": [],
   "source": [
    "%%notify\n",
    "# Run motion correction and quality control (which checks quality of motion correction)\n",
    "common_img.MotionCorrection.populate(dict(username='hheise', motion_id=0), display_progress=True)\n"
   ]
  },
  {
   "cell_type": "code",
   "execution_count": null,
   "id": "8dc9759f",
   "metadata": {
    "scrolled": false
   },
   "outputs": [
    {
     "name": "stderr",
     "output_type": "stream",
     "text": [
      "\r",
      "QualityControl:   0%|                                                                           | 0/54 [00:00<?, ?it/s]"
     ]
    },
    {
     "name": "stdout",
     "output_type": "stream",
     "text": [
      "Populating QualityControl for key: {'username': 'hheise', 'mouse_id': 91, 'day': datetime.date(2021, 7, 30), 'session_num': 1, 'motion_id': 0}.\n",
      "Creating memory mapped file...\n",
      "Caiman_id not provided. Use only param set on record instead, with caiman_id 0\n",
      "Populating Segmentation for {'username': 'hheise', 'mouse_id': 91, 'day': datetime.date(2021, 7, 30), 'session_num': 1, 'motion_id': 0, 'caiman_id': 0}.\n",
      "\tStart running CNMF...\n",
      "USING MODEL:C:\\Users\\hheise\\caiman_data\\model\\cnn_model.json\n",
      "2481/2481 [==============================] - 1s 572us/sample\n",
      "Saving plots at: W:\\Neurophysiology-Storage1\\Wahl\\Hendrik\\PhD\\Data\\Batch7\\M91\\20210730\n",
      "\tStart computing dF/F...\n",
      "\tStart saving data in DataJoint format...\n"
     ]
    },
    {
     "name": "stderr",
     "output_type": "stream",
     "text": [
      "\r",
      "QualityControl:   2%|█                                                         | 1/54 [5:53:39<312:23:47, 21219.39s/it]"
     ]
    },
    {
     "name": "stdout",
     "output_type": "stream",
     "text": [
      "Finished populating Segmentation for {'username': 'hheise', 'mouse_id': 91, 'day': datetime.date(2021, 7, 30), 'session_num': 1, 'motion_id': 0, 'caiman_id': 0}.\n",
      "Populating QualityControl for key: {'username': 'hheise', 'mouse_id': 91, 'day': datetime.date(2021, 8, 2), 'session_num': 1, 'motion_id': 0}.\n",
      "Creating memory mapped file...\n",
      "Caiman_id not provided. Use only param set on record instead, with caiman_id 0\n",
      "Populating Segmentation for {'username': 'hheise', 'mouse_id': 91, 'day': datetime.date(2021, 8, 2), 'session_num': 1, 'motion_id': 0, 'caiman_id': 0}.\n",
      "\tStart running CNMF...\n"
     ]
    },
    {
     "name": "stderr",
     "output_type": "stream",
     "text": [
      "WARNING:root:Component 44 is only active jointly with neighboring components. Space correlation calculation might be unreliable.\n"
     ]
    },
    {
     "name": "stdout",
     "output_type": "stream",
     "text": [
      "USING MODEL:C:\\Users\\hheise\\caiman_data\\model\\cnn_model.json\n",
      "2524/2524 [==============================] - 1s 500us/sample\n",
      "Saving plots at: W:\\Neurophysiology-Storage1\\Wahl\\Hendrik\\PhD\\Data\\Batch7\\M91\\20210802\n",
      "\tStart computing dF/F...\n",
      "\tStart saving data in DataJoint format...\n",
      "Warning!\n",
      "Segmentation of trial {'username': 'hheise', 'mouse_id': 91, 'day': datetime.date(2021, 8, 2), 'session_num': 1, 'motion_id': 0, 'caiman_id': 0}\n",
      "accepted more than 20% fewer ROIs than in the previous trial {'username': 'hheise', 'mouse_id': 91, 'session_num': 1, 'motion_id': 0, 'caiman_id': 0, 'day': datetime.date(2021, 7, 30)}\n",
      "(873 vs 1204).\n",
      "Check sessions manually for irregularities!\n"
     ]
    },
    {
     "name": "stderr",
     "output_type": "stream",
     "text": [
      "\r",
      "QualityControl:   4%|██▏                                                       | 2/54 [6:55:24<157:41:27, 10917.08s/it]"
     ]
    },
    {
     "name": "stdout",
     "output_type": "stream",
     "text": [
      "Finished populating Segmentation for {'username': 'hheise', 'mouse_id': 91, 'day': datetime.date(2021, 8, 2), 'session_num': 1, 'motion_id': 0, 'caiman_id': 0}.\n",
      "Populating QualityControl for key: {'username': 'hheise', 'mouse_id': 91, 'day': datetime.date(2021, 8, 8), 'session_num': 1, 'motion_id': 0}.\n",
      "Creating memory mapped file...\n",
      "Caiman_id not provided. Use only param set on record instead, with caiman_id 0\n",
      "Populating Segmentation for {'username': 'hheise', 'mouse_id': 91, 'day': datetime.date(2021, 8, 8), 'session_num': 1, 'motion_id': 0, 'caiman_id': 0}.\n",
      "\tStart running CNMF...\n",
      "USING MODEL:C:\\Users\\hheise\\caiman_data\\model\\cnn_model.json\n",
      "2454/2454 [==============================] - 1s 518us/sample\n",
      "Saving plots at: W:\\Neurophysiology-Storage1\\Wahl\\Hendrik\\PhD\\Data\\Batch7\\M91\\20210808\n",
      "\tStart computing dF/F...\n",
      "\tStart saving data in DataJoint format...\n",
      "Warning!\n",
      "Segmentation of trial {'username': 'hheise', 'mouse_id': 91, 'day': datetime.date(2021, 8, 8), 'session_num': 1, 'motion_id': 0, 'caiman_id': 0}\n",
      "accepted more than 20% more ROIs than in the previous trial {'username': 'hheise', 'mouse_id': 91, 'session_num': 1, 'motion_id': 0, 'caiman_id': 0, 'day': datetime.date(2021, 8, 2)}\n",
      "(1650 vs 873).\n",
      "Check sessions manually for irregularities!\n"
     ]
    },
    {
     "name": "stderr",
     "output_type": "stream",
     "text": [
      "\r",
      "QualityControl:   6%|███▏                                                     | 3/54 [15:09:38<275:51:44, 19472.64s/it]"
     ]
    },
    {
     "name": "stdout",
     "output_type": "stream",
     "text": [
      "Finished populating Segmentation for {'username': 'hheise', 'mouse_id': 91, 'day': datetime.date(2021, 8, 8), 'session_num': 1, 'motion_id': 0, 'caiman_id': 0}.\n",
      "Populating QualityControl for key: {'username': 'hheise', 'mouse_id': 91, 'day': datetime.date(2021, 8, 11), 'session_num': 1, 'motion_id': 0}.\n",
      "Creating memory mapped file...\n"
     ]
    }
   ],
   "source": [
    "%%notify\n",
    "common_img.QualityControl.populate(dict(username='hheise'), display_progress=True, \n",
    "                                   make_kwargs=dict(chain_pipeline=True, save_overviews=True))"
   ]
  },
  {
   "cell_type": "code",
   "execution_count": null,
   "id": "461b62f0",
   "metadata": {},
   "outputs": [],
   "source": [
    "%%notify\n",
    "common_img.Segmentation.populate(dict(username='hheise'), display_progress=True, make_kwargs=dict(save_overviews=True),\n",
    "                                reserve_jobs=True, suppress_errors=True)"
   ]
  },
  {
   "cell_type": "code",
   "execution_count": null,
   "id": "f0e682c2",
   "metadata": {},
   "outputs": [],
   "source": [
    "from importlib import reload\n",
    "reload(common_img)"
   ]
  },
  {
   "cell_type": "code",
   "execution_count": null,
   "id": "63662699",
   "metadata": {},
   "outputs": [],
   "source": []
  }
 ],
 "metadata": {
  "kernelspec": {
   "display_name": "Python 3",
   "language": "python",
   "name": "python3"
  },
  "language_info": {
   "codemirror_mode": {
    "name": "ipython",
    "version": 3
   },
   "file_extension": ".py",
   "mimetype": "text/x-python",
   "name": "python",
   "nbconvert_exporter": "python",
   "pygments_lexer": "ipython3",
   "version": "3.7.10"
  }
 },
 "nbformat": 4,
 "nbformat_minor": 5
}
