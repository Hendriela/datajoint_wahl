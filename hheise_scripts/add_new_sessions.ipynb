{
 "cells": [
  {
   "cell_type": "code",
   "execution_count": 12,
   "id": "67d365be",
   "metadata": {},
   "outputs": [],
   "source": [
    "import sys\n",
    "sys.path.append('..')\n",
    "\n",
    "import login\n",
    "login.connect()\n",
    "from hheise_scripts import hheise_util as util\n",
    "from schema import hheise_behav, common_exp, common_mice, common_img, hheise_placecell\n",
    "\n",
    "import matplotlib\n",
    "%matplotlib qt"
   ]
  },
  {
   "cell_type": "markdown",
   "id": "b820df80",
   "metadata": {},
   "source": [
    "## Enter new Session\n",
    "\n",
    "The database has to know which sessions exist. This is done by **manual** entries in the `common_exp.Session` table. All other analysis steps descend from here. \n",
    "If the session was an imaging session, a manual entry to `common_img.Scan` is also required.\n",
    "For Hendriks session and data structure, the function `add_many_sessions()` adds sessions for multiple mice on the same day automatically (different tasks and switches have to be provided). Also `common_img.Scan` will be filled with Hendriks default values for imaging sessions, the criterion is **any** TIFF-files being present in the session directory."
   ]
  },
  {
   "cell_type": "code",
   "execution_count": 19,
   "id": "bb3f146b",
   "metadata": {},
   "outputs": [
    {
     "name": "stdout",
     "output_type": "stream",
     "text": [
      "Inserted new session: {'username': 'hheise', 'mouse_id': 108, 'day': '2022-07-24', 'session_num': 1}\n",
      "No TIFF files found, assuming that no imaging was performed. Check this!\n",
      " \n",
      "Inserted new session: {'username': 'hheise', 'mouse_id': 109, 'day': '2022-07-24', 'session_num': 1}\n",
      "No TIFF files found, assuming that no imaging was performed. Check this!\n",
      " \n",
      "Inserted new session: {'username': 'hheise', 'mouse_id': 110, 'day': '2022-07-24', 'session_num': 1}\n",
      "No TIFF files found, assuming that no imaging was performed. Check this!\n",
      " \n",
      "Inserted new session: {'username': 'hheise', 'mouse_id': 111, 'day': '2022-07-24', 'session_num': 1}\n",
      "No TIFF files found, assuming that no imaging was performed. Check this!\n",
      " \n",
      "Inserted new session: {'username': 'hheise', 'mouse_id': 112, 'day': '2022-07-24', 'session_num': 1}\n",
      "No TIFF files found, assuming that no imaging was performed. Check this!\n",
      " \n",
      "Inserted new session: {'username': 'hheise', 'mouse_id': 113, 'day': '2022-07-24', 'session_num': 1}\n",
      "No TIFF files found, assuming that no imaging was performed. Check this!\n",
      " \n",
      "Inserted new session: {'username': 'hheise', 'mouse_id': 114, 'day': '2022-07-24', 'session_num': 1}\n",
      "No TIFF files found, assuming that no imaging was performed. Check this!\n",
      " \n",
      "Inserted new session: {'username': 'hheise', 'mouse_id': 115, 'day': '2022-07-24', 'session_num': 1}\n",
      "No TIFF files found, assuming that no imaging was performed. Check this!\n",
      " \n",
      "Inserted new session: {'username': 'hheise', 'mouse_id': 116, 'day': '2022-07-24', 'session_num': 1}\n",
      "No TIFF files found, assuming that no imaging was performed. Check this!\n",
      " \n",
      "Inserted new session: {'username': 'hheise', 'mouse_id': 117, 'day': '2022-07-24', 'session_num': 1}\n",
      "No TIFF files found, assuming that no imaging was performed. Check this!\n",
      " \n",
      "Inserted new session: {'username': 'hheise', 'mouse_id': 119, 'day': '2022-07-24', 'session_num': 1}\n",
      "No TIFF files found, assuming that no imaging was performed. Check this!\n",
      " \n",
      "Inserted new session: {'username': 'hheise', 'mouse_id': 120, 'day': '2022-07-24', 'session_num': 1}\n",
      "No TIFF files found, assuming that no imaging was performed. Check this!\n",
      " \n",
      "Inserted new session: {'username': 'hheise', 'mouse_id': 121, 'day': '2022-07-24', 'session_num': 1}\n",
      "No TIFF files found, assuming that no imaging was performed. Check this!\n",
      " \n",
      "Inserted new session: {'username': 'hheise', 'mouse_id': 122, 'day': '2022-07-24', 'session_num': 1}\n",
      "No TIFF files found, assuming that no imaging was performed. Check this!\n",
      " \n",
      "Inserted new session: {'username': 'hheise', 'mouse_id': 123, 'day': '2022-07-24', 'session_num': 1}\n",
      "No TIFF files found, assuming that no imaging was performed. Check this!\n",
      " \n"
     ]
    }
   ],
   "source": [
    "# Add multiple entries to common_exp.Session and common_img.Scan\n",
    "# Trial switch (Number of the first trial with the new condition) is given as base 1!\n",
    "date = '2022-07-24'\n",
    "mice = (108, 109, 110, 111, 112, 113, 114, 115, 116, 117, 119, 120, 121, 122, 123)\n",
    "setup = 'VR'\n",
    "task = ['Changed distances', ]\n",
    "switch = [[11], ]\n",
    "\n",
    "# util.add_many_sessions(date=date, mice=mice, setup=setup, task=task, switch=switch)\n",
    "util.add_many_sessions(date=date, mice=mice, setup=setup)"
   ]
  },
  {
   "cell_type": "markdown",
   "id": "094df02d",
   "metadata": {},
   "source": [
    "## VR Behavior analysis\n",
    "\n",
    "First, `hheise_behav.VRSessionInfo` and `hheise_behav.RawBehaviorFile` have to be populated.\n",
    "This is because `RawBehaviorFile` pre-screens sessions for possible bad trials, which should be removed manually, including the associated TIFF files. Thus, the TIFF files should not be in the database yet."
   ]
  },
  {
   "cell_type": "code",
   "execution_count": 20,
   "id": "1c0e571b",
   "metadata": {
    "scrolled": false
   },
   "outputs": [
    {
     "name": "stdout",
     "output_type": "stream",
     "text": [
      "Start to populate key: {'username': 'hheise', 'mouse_id': 108, 'day': datetime.date(2022, 7, 24), 'session_num': 1}\n",
      "Could not find session {'username': 'hheise', 'mouse_id': 108, 'day': datetime.date(2022, 7, 24), 'session_num': 1} in common_img.Scan, thus assuming that the session is not an imaging session. If it is, enter session into Scan() before populating VRSession()!\n",
      "Start to populate key: {'username': 'hheise', 'mouse_id': 109, 'day': datetime.date(2022, 7, 24), 'session_num': 1}\n",
      "Could not find session {'username': 'hheise', 'mouse_id': 109, 'day': datetime.date(2022, 7, 24), 'session_num': 1} in common_img.Scan, thus assuming that the session is not an imaging session. If it is, enter session into Scan() before populating VRSession()!\n",
      "Start to populate key: {'username': 'hheise', 'mouse_id': 110, 'day': datetime.date(2022, 7, 24), 'session_num': 1}\n",
      "Could not find session {'username': 'hheise', 'mouse_id': 110, 'day': datetime.date(2022, 7, 24), 'session_num': 1} in common_img.Scan, thus assuming that the session is not an imaging session. If it is, enter session into Scan() before populating VRSession()!\n",
      "Start to populate key: {'username': 'hheise', 'mouse_id': 111, 'day': datetime.date(2022, 7, 24), 'session_num': 1}\n",
      "Could not find session {'username': 'hheise', 'mouse_id': 111, 'day': datetime.date(2022, 7, 24), 'session_num': 1} in common_img.Scan, thus assuming that the session is not an imaging session. If it is, enter session into Scan() before populating VRSession()!\n",
      "Start to populate key: {'username': 'hheise', 'mouse_id': 112, 'day': datetime.date(2022, 7, 24), 'session_num': 1}\n",
      "Could not find session {'username': 'hheise', 'mouse_id': 112, 'day': datetime.date(2022, 7, 24), 'session_num': 1} in common_img.Scan, thus assuming that the session is not an imaging session. If it is, enter session into Scan() before populating VRSession()!\n",
      "Start to populate key: {'username': 'hheise', 'mouse_id': 113, 'day': datetime.date(2022, 7, 24), 'session_num': 1}\n",
      "Could not find session {'username': 'hheise', 'mouse_id': 113, 'day': datetime.date(2022, 7, 24), 'session_num': 1} in common_img.Scan, thus assuming that the session is not an imaging session. If it is, enter session into Scan() before populating VRSession()!\n",
      "Start to populate key: {'username': 'hheise', 'mouse_id': 114, 'day': datetime.date(2022, 7, 24), 'session_num': 1}\n",
      "Could not find session {'username': 'hheise', 'mouse_id': 114, 'day': datetime.date(2022, 7, 24), 'session_num': 1} in common_img.Scan, thus assuming that the session is not an imaging session. If it is, enter session into Scan() before populating VRSession()!\n",
      "Start to populate key: {'username': 'hheise', 'mouse_id': 115, 'day': datetime.date(2022, 7, 24), 'session_num': 1}\n",
      "Could not find session {'username': 'hheise', 'mouse_id': 115, 'day': datetime.date(2022, 7, 24), 'session_num': 1} in common_img.Scan, thus assuming that the session is not an imaging session. If it is, enter session into Scan() before populating VRSession()!\n",
      "Start to populate key: {'username': 'hheise', 'mouse_id': 116, 'day': datetime.date(2022, 7, 24), 'session_num': 1}\n",
      "Could not find session {'username': 'hheise', 'mouse_id': 116, 'day': datetime.date(2022, 7, 24), 'session_num': 1} in common_img.Scan, thus assuming that the session is not an imaging session. If it is, enter session into Scan() before populating VRSession()!\n",
      "Start to populate key: {'username': 'hheise', 'mouse_id': 117, 'day': datetime.date(2022, 7, 24), 'session_num': 1}\n",
      "Could not find session {'username': 'hheise', 'mouse_id': 117, 'day': datetime.date(2022, 7, 24), 'session_num': 1} in common_img.Scan, thus assuming that the session is not an imaging session. If it is, enter session into Scan() before populating VRSession()!\n",
      "Start to populate key: {'username': 'hheise', 'mouse_id': 119, 'day': datetime.date(2022, 7, 24), 'session_num': 1}\n",
      "Could not find session {'username': 'hheise', 'mouse_id': 119, 'day': datetime.date(2022, 7, 24), 'session_num': 1} in common_img.Scan, thus assuming that the session is not an imaging session. If it is, enter session into Scan() before populating VRSession()!\n",
      "Start to populate key: {'username': 'hheise', 'mouse_id': 120, 'day': datetime.date(2022, 7, 24), 'session_num': 1}\n",
      "Could not find session {'username': 'hheise', 'mouse_id': 120, 'day': datetime.date(2022, 7, 24), 'session_num': 1} in common_img.Scan, thus assuming that the session is not an imaging session. If it is, enter session into Scan() before populating VRSession()!\n",
      "Start to populate key: {'username': 'hheise', 'mouse_id': 121, 'day': datetime.date(2022, 7, 24), 'session_num': 1}\n",
      "Could not find session {'username': 'hheise', 'mouse_id': 121, 'day': datetime.date(2022, 7, 24), 'session_num': 1} in common_img.Scan, thus assuming that the session is not an imaging session. If it is, enter session into Scan() before populating VRSession()!\n",
      "Start to populate key: {'username': 'hheise', 'mouse_id': 122, 'day': datetime.date(2022, 7, 24), 'session_num': 1}\n",
      "Could not find session {'username': 'hheise', 'mouse_id': 122, 'day': datetime.date(2022, 7, 24), 'session_num': 1} in common_img.Scan, thus assuming that the session is not an imaging session. If it is, enter session into Scan() before populating VRSession()!\n",
      "Start to populate key: {'username': 'hheise', 'mouse_id': 123, 'day': datetime.date(2022, 7, 24), 'session_num': 1}\n",
      "Could not find session {'username': 'hheise', 'mouse_id': 123, 'day': datetime.date(2022, 7, 24), 'session_num': 1} in common_img.Scan, thus assuming that the session is not an imaging session. If it is, enter session into Scan() before populating VRSession()!\n"
     ]
    }
   ],
   "source": [
    "# Make entries for hheise_behav.VRSessionInfo and \n",
    "hheise_behav.VRSessionInfo().populate('username=\"hheise\"')"
   ]
  },
  {
   "cell_type": "code",
   "execution_count": null,
   "id": "68b8782a",
   "metadata": {},
   "outputs": [],
   "source": [
    "%matplotlib qt\n",
    "# Pre-screen trials for bad behavior data while populating hheise_behav.RawBehaviorFile\n",
    "# -> Does not work in Jupyter Notebook, call in PyCharm console\n",
    "hheise_behav.RawBehaviorFile().populate()\n",
    "# Delete TIFF files of bad trials if necessary"
   ]
  },
  {
   "cell_type": "markdown",
   "id": "eeb57383",
   "metadata": {},
   "source": [
    "## RawImagingFile (if imaging session)\n",
    "\n",
    "Now, `common_img.RawImagingFile` has to be filled before we continue with the VR behavior analysis, because the behavior alignment script needs to know the frame numbers of each trial, which is stored in `common_img.RawImagingFile`."
   ]
  },
  {
   "cell_type": "code",
   "execution_count": null,
   "id": "ebbb7081",
   "metadata": {
    "scrolled": true
   },
   "outputs": [],
   "source": [
    "# Find and load the raw TIFF files\n",
    "common_img.RawImagingFile.populate(dict(username='hheise'))"
   ]
  },
  {
   "cell_type": "markdown",
   "id": "df7dac25",
   "metadata": {},
   "source": [
    "## Finish VR behavior pipeline\n",
    "\n",
    "Now we can populate the rest of the VR behavior tables without interruption."
   ]
  },
  {
   "cell_type": "code",
   "execution_count": 21,
   "id": "b79761a0",
   "metadata": {
    "scrolled": true
   },
   "outputs": [
    {
     "name": "stderr",
     "output_type": "stream",
     "text": [
      "VRLogFile: 100%|██████████████████████████████████████████████████████████████████████████████████████████████████████████████████████████████████████████████████████████████████████████████████████| 15/15 [00:00<00:00, 126.70it/s]\n",
      "VRLog: 100%|███████████████████████████████████████████████████████████████████████████████████████████████████████████████████████████████████████████████████████████████████████████████████████████| 15/15 [00:01<00:00,  9.25it/s]\n",
      "VRSession:   0%|                                                                                                                                                                                                | 0/15 [00:00<?, ?it/s]"
     ]
    },
    {
     "name": "stdout",
     "output_type": "stream",
     "text": [
      "Starting to align trials for session {'username': 'hheise', 'mouse_id': 108, 'day': datetime.date(2022, 7, 24), 'session_num': 1}\n"
     ]
    },
    {
     "name": "stderr",
     "output_type": "stream",
     "text": [
      "\r",
      "VRSession:   7%|████████████▎                                                                                                                                                                           | 1/15 [00:16<03:48, 16.34s/it]"
     ]
    },
    {
     "name": "stdout",
     "output_type": "stream",
     "text": [
      "Starting to align trials for session {'username': 'hheise', 'mouse_id': 109, 'day': datetime.date(2022, 7, 24), 'session_num': 1}\n"
     ]
    },
    {
     "name": "stderr",
     "output_type": "stream",
     "text": [
      "\r",
      "VRSession:  13%|████████████████████████▌                                                                                                                                                               | 2/15 [00:25<02:40, 12.34s/it]"
     ]
    },
    {
     "name": "stdout",
     "output_type": "stream",
     "text": [
      "Starting to align trials for session {'username': 'hheise', 'mouse_id': 110, 'day': datetime.date(2022, 7, 24), 'session_num': 1}\n"
     ]
    },
    {
     "name": "stderr",
     "output_type": "stream",
     "text": [
      "\r",
      "VRSession:  20%|████████████████████████████████████▊                                                                                                                                                   | 3/15 [00:33<02:00, 10.03s/it]"
     ]
    },
    {
     "name": "stdout",
     "output_type": "stream",
     "text": [
      "Starting to align trials for session {'username': 'hheise', 'mouse_id': 111, 'day': datetime.date(2022, 7, 24), 'session_num': 1}\n"
     ]
    },
    {
     "name": "stderr",
     "output_type": "stream",
     "text": [
      "\r",
      "VRSession:  27%|█████████████████████████████████████████████████                                                                                                                                       | 4/15 [00:42<01:48,  9.83s/it]"
     ]
    },
    {
     "name": "stdout",
     "output_type": "stream",
     "text": [
      "Starting to align trials for session {'username': 'hheise', 'mouse_id': 112, 'day': datetime.date(2022, 7, 24), 'session_num': 1}\n"
     ]
    },
    {
     "name": "stderr",
     "output_type": "stream",
     "text": [
      "\r",
      "VRSession:  33%|█████████████████████████████████████████████████████████████▎                                                                                                                          | 5/15 [00:57<01:54, 11.47s/it]"
     ]
    },
    {
     "name": "stdout",
     "output_type": "stream",
     "text": [
      "Starting to align trials for session {'username': 'hheise', 'mouse_id': 113, 'day': datetime.date(2022, 7, 24), 'session_num': 1}\n"
     ]
    },
    {
     "name": "stderr",
     "output_type": "stream",
     "text": [
      "\r",
      "VRSession:  40%|█████████████████████████████████████████████████████████████████████████▌                                                                                                              | 6/15 [01:23<02:30, 16.72s/it]"
     ]
    },
    {
     "name": "stdout",
     "output_type": "stream",
     "text": [
      "Starting to align trials for session {'username': 'hheise', 'mouse_id': 114, 'day': datetime.date(2022, 7, 24), 'session_num': 1}\n"
     ]
    },
    {
     "name": "stderr",
     "output_type": "stream",
     "text": [
      "\r",
      "VRSession:  47%|█████████████████████████████████████████████████████████████████████████████████████▊                                                                                                  | 7/15 [01:38<02:06, 15.85s/it]"
     ]
    },
    {
     "name": "stdout",
     "output_type": "stream",
     "text": [
      "Starting to align trials for session {'username': 'hheise', 'mouse_id': 115, 'day': datetime.date(2022, 7, 24), 'session_num': 1}\n"
     ]
    },
    {
     "name": "stderr",
     "output_type": "stream",
     "text": [
      "\r",
      "VRSession:  53%|██████████████████████████████████████████████████████████████████████████████████████████████████▏                                                                                     | 8/15 [02:05<02:16, 19.50s/it]"
     ]
    },
    {
     "name": "stdout",
     "output_type": "stream",
     "text": [
      "Starting to align trials for session {'username': 'hheise', 'mouse_id': 116, 'day': datetime.date(2022, 7, 24), 'session_num': 1}\n",
      "Could not determine context in session {'username': 'hheise', 'mouse_id': 116, 'day': datetime.date(2022, 7, 24), 'session_num': 1}!\n",
      "\n",
      "Could not determine context in session {'username': 'hheise', 'mouse_id': 116, 'day': datetime.date(2022, 7, 24), 'session_num': 1}!\n",
      "\n",
      "Could not determine context in session {'username': 'hheise', 'mouse_id': 116, 'day': datetime.date(2022, 7, 24), 'session_num': 1}!\n",
      "\n",
      "Could not determine context in session {'username': 'hheise', 'mouse_id': 116, 'day': datetime.date(2022, 7, 24), 'session_num': 1}!\n",
      "\n",
      "Could not determine context in session {'username': 'hheise', 'mouse_id': 116, 'day': datetime.date(2022, 7, 24), 'session_num': 1}!\n",
      "\n",
      "Could not determine context in session {'username': 'hheise', 'mouse_id': 116, 'day': datetime.date(2022, 7, 24), 'session_num': 1}!\n",
      "\n"
     ]
    },
    {
     "name": "stderr",
     "output_type": "stream",
     "text": [
      "\r",
      "VRSession:  60%|██████████████████████████████████████████████████████████████████████████████████████████████████████████████▍                                                                         | 9/15 [02:16<01:41, 16.88s/it]"
     ]
    },
    {
     "name": "stdout",
     "output_type": "stream",
     "text": [
      "Starting to align trials for session {'username': 'hheise', 'mouse_id': 117, 'day': datetime.date(2022, 7, 24), 'session_num': 1}\n"
     ]
    },
    {
     "name": "stderr",
     "output_type": "stream",
     "text": [
      "\r",
      "VRSession:  67%|██████████████████████████████████████████████████████████████████████████████████████████████████████████████████████████                                                             | 10/15 [02:29<01:17, 15.60s/it]"
     ]
    },
    {
     "name": "stdout",
     "output_type": "stream",
     "text": [
      "Starting to align trials for session {'username': 'hheise', 'mouse_id': 119, 'day': datetime.date(2022, 7, 24), 'session_num': 1}\n"
     ]
    },
    {
     "name": "stderr",
     "output_type": "stream",
     "text": [
      "\r",
      "VRSession:  73%|██████████████████████████████████████████████████████████████████████████████████████████████████████████████████████████████████████▏                                                | 11/15 [02:32<00:47, 11.91s/it]"
     ]
    },
    {
     "name": "stdout",
     "output_type": "stream",
     "text": [
      "Starting to align trials for session {'username': 'hheise', 'mouse_id': 120, 'day': datetime.date(2022, 7, 24), 'session_num': 1}\n"
     ]
    },
    {
     "name": "stderr",
     "output_type": "stream",
     "text": [
      "\r",
      "VRSession:  80%|██████████████████████████████████████████████████████████████████████████████████████████████████████████████████████████████████████████████████▍                                    | 12/15 [02:46<00:37, 12.59s/it]"
     ]
    },
    {
     "name": "stdout",
     "output_type": "stream",
     "text": [
      "Starting to align trials for session {'username': 'hheise', 'mouse_id': 121, 'day': datetime.date(2022, 7, 24), 'session_num': 1}\n"
     ]
    },
    {
     "name": "stderr",
     "output_type": "stream",
     "text": [
      "\r",
      "VRSession:  87%|██████████████████████████████████████████████████████████████████████████████████████████████████████████████████████████████████████████████████████████████▌                        | 13/15 [03:09<00:31, 15.71s/it]"
     ]
    },
    {
     "name": "stdout",
     "output_type": "stream",
     "text": [
      "Starting to align trials for session {'username': 'hheise', 'mouse_id': 122, 'day': datetime.date(2022, 7, 24), 'session_num': 1}\n"
     ]
    },
    {
     "name": "stderr",
     "output_type": "stream",
     "text": [
      "\r",
      "VRSession:  93%|██████████████████████████████████████████████████████████████████████████████████████████████████████████████████████████████████████████████████████████████████████████▊            | 14/15 [03:23<00:15, 15.25s/it]"
     ]
    },
    {
     "name": "stdout",
     "output_type": "stream",
     "text": [
      "Starting to align trials for session {'username': 'hheise', 'mouse_id': 123, 'day': datetime.date(2022, 7, 24), 'session_num': 1}\n"
     ]
    },
    {
     "name": "stderr",
     "output_type": "stream",
     "text": [
      "VRSession: 100%|███████████████████████████████████████████████████████████████████████████████████████████████████████████████████████████████████████████████████████████████████████████████████████| 15/15 [03:33<00:00, 14.20s/it]\n",
      "VRPerformance: 100%|███████████████████████████████████████████████████████████████████████████████████████████████████████████████████████████████████████████████████████████████████████████████████| 15/15 [00:01<00:00,  8.34it/s]\n",
      "PerformanceTrend: 100%|███████████████████████████████████████████████████████████████████████████████████████████████████████████████████████████████████████████████████████████████████████████████| 15/15 [00:00<00:00, 122.81it/s]\n"
     ]
    }
   ],
   "source": [
    "# %%notify\n",
    "\n",
    "# Analyse the VR behavior, now that frame counts of imaging trials are loaded in the database\n",
    "hheise_behav.VRLogFile.populate(display_progress=True)\n",
    "hheise_behav.VRLog.populate(display_progress=True)\n",
    "hheise_behav.VRSession.populate(display_progress=True)\n",
    "hheise_behav.VRPerformance.populate(display_progress=True)\n",
    "hheise_behav.PerformanceTrend.populate(display_progress=True)"
   ]
  },
  {
   "cell_type": "markdown",
   "id": "4a7d7624",
   "metadata": {},
   "source": [
    "## CaImAn pipeline\n",
    "\n",
    "Here, the actual CaImAn segmentation pipeline starts. Each of these tables should run automatically, but might throw errors, so check in regularly. Computation times are now really long, especially for `MotionCorrection` and `Segmentation` (approx 1h each per session)."
   ]
  },
  {
   "cell_type": "code",
   "execution_count": null,
   "id": "63e88ba6",
   "metadata": {
    "scrolled": true
   },
   "outputs": [],
   "source": [
    "# %%notify\n",
    "\n",
    "# After VR behavior is fully analysed, we can start with the CaImAn pipeline\n",
    "common_img.ScanInfo.populate(dict(username='hheise'), display_progress=True)"
   ]
  },
  {
   "cell_type": "code",
   "execution_count": null,
   "id": "bfb5c3d1",
   "metadata": {},
   "outputs": [],
   "source": [
    "# Check which available MotionParameter set you want to use for you motion correction\n",
    "common_img.MotionParameter()"
   ]
  },
  {
   "cell_type": "code",
   "execution_count": null,
   "id": "ebf13339",
   "metadata": {},
   "outputs": [],
   "source": [
    "# %%notify\n",
    "# Run motion correction and quality control (which checks quality of motion correction)\n",
    "common_img.MotionCorrection.populate(dict(username='hheise', motion_id=0, mouse_id=63), display_progress=True)\n",
    "common_img.MotionCorrection.populate(dict(username='hheise', motion_id=0, mouse_id=69), display_progress=True)"
   ]
  },
  {
   "cell_type": "code",
   "execution_count": null,
   "id": "4adfa5b7",
   "metadata": {},
   "outputs": [],
   "source": [
    "common_img.MemoryMappedFile().delete()"
   ]
  },
  {
   "cell_type": "code",
   "execution_count": null,
   "id": "ffe9be49",
   "metadata": {
    "scrolled": true
   },
   "outputs": [],
   "source": [
    "# %%notify\n",
    "common_img.QualityControl.populate(dict(username='hheise', mouse_id=63), display_progress=True)\n",
    "common_img.QualityControl.populate(dict(username='hheise', mouse_id=69), display_progress=True)"
   ]
  },
  {
   "cell_type": "markdown",
   "id": "e848d700",
   "metadata": {},
   "source": [
    "### CaimanParameter\n",
    "\n",
    "You can assign different CaimanParameter sets to specific sessions of a mouse. This is done by adding an entry into the CaimanParameterSession table, including the mouse ID, day, and ID of the parameter set. The parameter set has to be added to CaimanParameter first.\n",
    "\n",
    "If no entry in CaimanParameterSession for the current day exists, the default caiman ID `0` is used."
   ]
  },
  {
   "cell_type": "code",
   "execution_count": null,
   "id": "bd5795c6",
   "metadata": {},
   "outputs": [],
   "source": [
    "common_img.CaimanParameter() & 'mouse_id=63'\n",
    "# common_img.CaimanParameterSession() & 'mouse_id=63'"
   ]
  },
  {
   "cell_type": "code",
   "execution_count": null,
   "id": "461b62f0",
   "metadata": {},
   "outputs": [],
   "source": [
    "# %%notify\n",
    "common_img.Segmentation.populate(dict(username='hheise', mouse_id=63, day='2021-03-02'), display_progress=True, make_kwargs=dict(save_overviews=True))\n",
    "common_img.Segmentation.populate(dict(username='hheise', mouse_id=69, day='2021-03-07'), display_progress=True, make_kwargs=dict(save_overviews=True))"
   ]
  },
  {
   "cell_type": "code",
   "execution_count": null,
   "id": "bf7f81c6",
   "metadata": {},
   "outputs": [],
   "source": [
    "\n",
    "common_img.Segmentation.populate(dict(username='hheise', mouse_id=63), display_progress=True, make_kwargs=dict(save_overviews=True))\n",
    "common_img.Segmentation.populate(dict(username='hheise', mouse_id=69), display_progress=True, make_kwargs=dict(save_overviews=True))"
   ]
  },
  {
   "cell_type": "code",
   "execution_count": null,
   "id": "4e96e374",
   "metadata": {
    "scrolled": true
   },
   "outputs": [],
   "source": [
    "# Validate Segmentation to spot irregularities in number of accepted components, which might require parameter adaptation\n",
    "util.validate_segmentation(mice=[63, 69], thr=20, plot_all=True)"
   ]
  },
  {
   "cell_type": "code",
   "execution_count": null,
   "id": "3d27a96d",
   "metadata": {},
   "outputs": [],
   "source": [
    "(common_img.Segmentation.ROI & 'mouse_id=83')"
   ]
  },
  {
   "cell_type": "code",
   "execution_count": null,
   "id": "69855a4b",
   "metadata": {},
   "outputs": [],
   "source": [
    "# DONE WITH VICTORS MACHINE\n",
    "# Use different parameter set on selected sessions\n",
    "session_keys = [dict(username='hheise', mouse_id=82, day='2021-07-16', session_num=1, caiman_id=1),\n",
    "               dict(username='hheise', mouse_id=83, day='2021-08-02', session_num=1, caiman_id=1),\n",
    "               dict(username='hheise', mouse_id=86, day='2021-07-08', session_num=1, caiman_id=1),\n",
    "               dict(username='hheise', mouse_id=86, day='2021-07-21', session_num=1, caiman_id=1),\n",
    "               dict(username='hheise', mouse_id=90, day='2021-07-16', session_num=1, caiman_id=1),\n",
    "               dict(username='hheise', mouse_id=90, day='2021-07-30', session_num=1, caiman_id=1),\n",
    "               dict(username='hheise', mouse_id=91, day='2021-07-20', session_num=1, caiman_id=1),\n",
    "               dict(username='hheise', mouse_id=91, day='2021-08-02', session_num=1, caiman_id=1),\n",
    "               dict(username='hheise', mouse_id=92, day='2021-07-19', session_num=1, caiman_id=1),\n",
    "               dict(username='hheise', mouse_id=93, day='2021-07-08', session_num=1, caiman_id=1),\n",
    "               dict(username='hheise', mouse_id=93, day='2021-07-09', session_num=1, caiman_id=1),\n",
    "               dict(username='hheise', mouse_id=93, day='2021-07-10', session_num=1, caiman_id=1),\n",
    "               dict(username='hheise', mouse_id=94, day='2021-07-08', session_num=1, caiman_id=1),\n",
    "               dict(username='hheise', mouse_id=94, day='2021-07-09', session_num=1, caiman_id=1),\n",
    "               dict(username='hheise', mouse_id=94, day='2021-07-10', session_num=1, caiman_id=1),\n",
    "               dict(username='hheise', mouse_id=94, day='2021-07-11', session_num=1, caiman_id=1),\n",
    "               dict(username='hheise', mouse_id=94, day='2021-07-15', session_num=1, caiman_id=1),\n",
    "               dict(username='hheise', mouse_id=95, day='2021-07-08', session_num=1, caiman_id=1),\n",
    "               dict(username='hheise', mouse_id=95, day='2021-07-09', session_num=1, caiman_id=1),\n",
    "               dict(username='hheise', mouse_id=95, day='2021-07-10', session_num=1, caiman_id=1),\n",
    "               dict(username='hheise', mouse_id=95, day='2021-07-14', session_num=1, caiman_id=1),\n",
    "               dict(username='hheise', mouse_id=95, day='2021-07-19', session_num=1, caiman_id=1),\n",
    "               dict(username='hheise', mouse_id=95, day='2021-07-20', session_num=1, caiman_id=1)]\n",
    "\n",
    "# # Delete old entries with ID 0 before making new one\n",
    "# for key in session_keys:\n",
    "#     k = key.copy()\n",
    "#     k['caiman_id'] = 0\n",
    "#     (common_img.Segmentation & k).delete()\n",
    "\n",
    "# Make new entries\n",
    "for key in session_keys:\n",
    "    common_img.CaimanParameterSession.insert1(key, skip_duplicates=True)"
   ]
  },
  {
   "cell_type": "code",
   "execution_count": null,
   "id": "007e5307",
   "metadata": {},
   "outputs": [],
   "source": [
    "common_img.CaimanParameterSession()"
   ]
  },
  {
   "cell_type": "code",
   "execution_count": null,
   "id": "d078ac8f",
   "metadata": {
    "scrolled": true
   },
   "outputs": [],
   "source": [
    "common_img.Segmentation.populate()"
   ]
  },
  {
   "cell_type": "code",
   "execution_count": null,
   "id": "39dc1d8f",
   "metadata": {},
   "outputs": [],
   "source": [
    "common_img.Deconvolution().populate({'username': 'hheise', 'decon_id': 1}, display_progress=True)\n",
    "common_img.ActivityStatistics().populate(display_progress=True)"
   ]
  },
  {
   "cell_type": "markdown",
   "id": "5b6185c3",
   "metadata": {},
   "source": [
    "## Place Cell Analysis\n",
    "\n",
    "Place Cell Analysis should be straight-forward as well, all tables can be populated in-order."
   ]
  },
  {
   "cell_type": "code",
   "execution_count": null,
   "id": "ec6cea97",
   "metadata": {},
   "outputs": [],
   "source": [
    "# Check entries of PlaceCellParameter and add a parameter set if necessary\n",
    "hheise_placecell.PlaceCellParameter()"
   ]
  },
  {
   "cell_type": "code",
   "execution_count": 2,
   "id": "f83ed7f8",
   "metadata": {
    "scrolled": true
   },
   "outputs": [
    {
     "name": "stderr",
     "output_type": "stream",
     "text": [
      "PCAnalysis: 100%|████████████████████████████████████████████████████████████████████████| 6/6 [00:00<00:00, 34.58it/s]\n",
      "TransientOnly: 100%|█████████████████████████████████████████████████████████████████| 6/6 [3:12:24<00:00, 1924.05s/it]\n",
      "Synchronization: 100%|███████████████████████████████████████████████████████████████████| 6/6 [00:02<00:00,  2.95it/s]\n",
      "BinnedActivity: 100%|████████████████████████████████████████████████████████████████████| 6/6 [00:50<00:00,  8.50s/it]\n",
      "PlaceCell:   0%|                                                                                 | 0/7 [00:00<?, ?it/s]"
     ]
    },
    {
     "name": "stdout",
     "output_type": "stream",
     "text": [
      "Classifying place cells for {'username': 'hheise', 'mouse_id': 69, 'day': datetime.date(2021, 3, 10), 'session_num': 1, 'motion_id': 0, 'caiman_id': 0, 'place_cell_id': 0}.\n",
      "\tProcessing place cells for the following corridor type: 0\n"
     ]
    },
    {
     "name": "stderr",
     "output_type": "stream",
     "text": [
      "\r",
      "PlaceCell:  29%|████████████████████▊                                                    | 2/7 [00:10<00:26,  5.28s/it]"
     ]
    },
    {
     "name": "stdout",
     "output_type": "stream",
     "text": [
      "Classifying place cells for {'username': 'hheise', 'mouse_id': 69, 'day': datetime.date(2021, 3, 14), 'session_num': 1, 'motion_id': 0, 'caiman_id': 0, 'place_cell_id': 0}.\n",
      "\tProcessing place cells for the following corridor type: 0\n",
      "\t130 potential place cells found. Performing bootstrapping...\n",
      "\tBootstrapping complete. 76 cells with p<=0.05.\n",
      "\tProcessing place cells for the following corridor type: 1\n",
      "\t28 potential place cells found. Performing bootstrapping...\n",
      "\tBootstrapping complete. 26 cells with p<=0.05.\n",
      "\tProcessing place cells for the following corridor type: 2\n",
      "\t46 potential place cells found. Performing bootstrapping...\n"
     ]
    },
    {
     "name": "stderr",
     "output_type": "stream",
     "text": [
      "\r",
      "PlaceCell:  43%|████████████████████████████▋                                      | 3/7 [1:38:06<2:43:26, 2451.52s/it]"
     ]
    },
    {
     "name": "stdout",
     "output_type": "stream",
     "text": [
      "\tBootstrapping complete. 36 cells with p<=0.05.\n",
      "Classifying place cells for {'username': 'hheise', 'mouse_id': 69, 'day': datetime.date(2021, 3, 17), 'session_num': 1, 'motion_id': 0, 'caiman_id': 0, 'place_cell_id': 0}.\n",
      "\tProcessing place cells for the following corridor type: 0\n",
      "\t172 potential place cells found. Performing bootstrapping...\n",
      "\tBootstrapping complete. 51 cells with p<=0.05.\n",
      "\tProcessing place cells for the following corridor type: 1\n",
      "\t14 potential place cells found. Performing bootstrapping...\n",
      "\tBootstrapping complete. 13 cells with p<=0.05.\n",
      "\tProcessing place cells for the following corridor type: 2\n",
      "\t176 potential place cells found. Performing bootstrapping...\n",
      "\tBootstrapping complete. 42 cells with p<=0.05.\n",
      "\tProcessing place cells for the following corridor type: 3\n",
      "\t123 potential place cells found. Performing bootstrapping...\n"
     ]
    },
    {
     "name": "stderr",
     "output_type": "stream",
     "text": [
      "\r",
      "PlaceCell:  57%|██████████████████████████████████████▎                            | 4/7 [4:40:21<4:40:50, 5616.89s/it]"
     ]
    },
    {
     "name": "stdout",
     "output_type": "stream",
     "text": [
      "\tBootstrapping complete. 42 cells with p<=0.05.\n",
      "Classifying place cells for {'username': 'hheise', 'mouse_id': 69, 'day': datetime.date(2021, 3, 20), 'session_num': 1, 'motion_id': 0, 'caiman_id': 0, 'place_cell_id': 0}.\n",
      "\tProcessing place cells for the following corridor type: 0\n",
      "\t192 potential place cells found. Performing bootstrapping...\n",
      "\tBootstrapping complete. 85 cells with p<=0.05.\n",
      "\tProcessing place cells for the following corridor type: 1\n",
      "\t69 potential place cells found. Performing bootstrapping...\n",
      "\tBootstrapping complete. 55 cells with p<=0.05.\n",
      "\tProcessing place cells for the following corridor type: 2\n",
      "\t117 potential place cells found. Performing bootstrapping...\n"
     ]
    },
    {
     "name": "stderr",
     "output_type": "stream",
     "text": [
      "\r",
      "PlaceCell:  71%|███████████████████████████████████████████████▊                   | 5/7 [6:40:08<3:25:25, 6162.78s/it]"
     ]
    },
    {
     "name": "stdout",
     "output_type": "stream",
     "text": [
      "\tBootstrapping complete. 30 cells with p<=0.05.\n",
      "Classifying place cells for {'username': 'hheise', 'mouse_id': 69, 'day': datetime.date(2021, 3, 23), 'session_num': 1, 'motion_id': 0, 'caiman_id': 0, 'place_cell_id': 0}.\n",
      "\tProcessing place cells for the following corridor type: 0\n",
      "\t76 potential place cells found. Performing bootstrapping...\n",
      "\tBootstrapping complete. 41 cells with p<=0.05.\n",
      "\tProcessing place cells for the following corridor type: 1\n",
      "\t30 potential place cells found. Performing bootstrapping...\n",
      "\tBootstrapping complete. 23 cells with p<=0.05.\n",
      "\tProcessing place cells for the following corridor type: 2\n",
      "\t109 potential place cells found. Performing bootstrapping...\n"
     ]
    },
    {
     "name": "stderr",
     "output_type": "stream",
     "text": [
      "\r",
      "PlaceCell:  86%|█████████████████████████████████████████████████████████▍         | 6/7 [7:50:45<1:32:03, 5523.65s/it]"
     ]
    },
    {
     "name": "stdout",
     "output_type": "stream",
     "text": [
      "\tBootstrapping complete. 36 cells with p<=0.05.\n",
      "Classifying place cells for {'username': 'hheise', 'mouse_id': 69, 'day': datetime.date(2021, 3, 31), 'session_num': 1, 'motion_id': 0, 'caiman_id': 0, 'place_cell_id': 0}.\n",
      "\tProcessing place cells for the following corridor type: 0\n",
      "\t37 potential place cells found. Performing bootstrapping...\n"
     ]
    },
    {
     "name": "stderr",
     "output_type": "stream",
     "text": [
      "PlaceCell: 100%|█████████████████████████████████████████████████████████████████████| 7/7 [8:07:20<00:00, 4177.21s/it]\n"
     ]
    },
    {
     "name": "stdout",
     "output_type": "stream",
     "text": [
      "\tBootstrapping complete. 31 cells with p<=0.05.\n"
     ]
    },
    {
     "name": "stderr",
     "output_type": "stream",
     "text": [
      "\r",
      "SpatialInformation:   0%|                                                                        | 0/6 [00:00<?, ?it/s]"
     ]
    },
    {
     "name": "stdout",
     "output_type": "stream",
     "text": [
      "Starting to populate SpatialInformation for {'username': 'hheise', 'mouse_id': 69, 'day': datetime.date(2021, 3, 10), 'session_num': 1, 'motion_id': 0, 'caiman_id': 0, 'place_cell_id': 0}\n",
      "\tProcessing corridor type 0\n"
     ]
    },
    {
     "name": "stderr",
     "output_type": "stream",
     "text": [
      "\r",
      "SpatialInformation:  17%|██████████                                                  | 1/6 [21:47<1:48:56, 1307.27s/it]"
     ]
    },
    {
     "name": "stdout",
     "output_type": "stream",
     "text": [
      "Starting to populate SpatialInformation for {'username': 'hheise', 'mouse_id': 69, 'day': datetime.date(2021, 3, 14), 'session_num': 1, 'motion_id': 0, 'caiman_id': 0, 'place_cell_id': 0}\n",
      "\tProcessing corridor type 0\n",
      "\tProcessing corridor type 1\n",
      "\tProcessing corridor type 2\n"
     ]
    },
    {
     "name": "stderr",
     "output_type": "stream",
     "text": [
      "\r",
      "SpatialInformation:  33%|███████████████████▎                                      | 2/6 [2:56:24<6:39:42, 5995.62s/it]"
     ]
    },
    {
     "name": "stdout",
     "output_type": "stream",
     "text": [
      "Starting to populate SpatialInformation for {'username': 'hheise', 'mouse_id': 69, 'day': datetime.date(2021, 3, 17), 'session_num': 1, 'motion_id': 0, 'caiman_id': 0, 'place_cell_id': 0}\n",
      "\tProcessing corridor type 0\n",
      "\tProcessing corridor type 1\n",
      "\tProcessing corridor type 2\n",
      "\tProcessing corridor type 3\n"
     ]
    },
    {
     "name": "stderr",
     "output_type": "stream",
     "text": [
      "\r",
      "SpatialInformation:  50%|█████████████████████████████                             | 3/6 [6:50:03<8:02:58, 9659.34s/it]"
     ]
    },
    {
     "name": "stdout",
     "output_type": "stream",
     "text": [
      "Starting to populate SpatialInformation for {'username': 'hheise', 'mouse_id': 69, 'day': datetime.date(2021, 3, 20), 'session_num': 1, 'motion_id': 0, 'caiman_id': 0, 'place_cell_id': 0}\n",
      "\tProcessing corridor type 0\n",
      "\tProcessing corridor type 1\n",
      "\tProcessing corridor type 2\n"
     ]
    },
    {
     "name": "stderr",
     "output_type": "stream",
     "text": [
      "\r",
      "SpatialInformation:  67%|██████████████████████████████████████▋                   | 4/6 [8:42:45<4:43:50, 8515.38s/it]"
     ]
    },
    {
     "name": "stdout",
     "output_type": "stream",
     "text": [
      "Starting to populate SpatialInformation for {'username': 'hheise', 'mouse_id': 69, 'day': datetime.date(2021, 3, 23), 'session_num': 1, 'motion_id': 0, 'caiman_id': 0, 'place_cell_id': 0}\n",
      "\tProcessing corridor type 0\n",
      "\tProcessing corridor type 1\n",
      "\tProcessing corridor type 2\n"
     ]
    },
    {
     "name": "stderr",
     "output_type": "stream",
     "text": [
      "\r",
      "SpatialInformation:  83%|███████████████████████████████████████████████▌         | 5/6 [10:09:03<2:01:51, 7311.76s/it]"
     ]
    },
    {
     "name": "stdout",
     "output_type": "stream",
     "text": [
      "Starting to populate SpatialInformation for {'username': 'hheise', 'mouse_id': 69, 'day': datetime.date(2021, 3, 31), 'session_num': 1, 'motion_id': 0, 'caiman_id': 0, 'place_cell_id': 0}\n",
      "\tProcessing corridor type 0\n"
     ]
    },
    {
     "name": "stderr",
     "output_type": "stream",
     "text": [
      "SpatialInformation: 100%|███████████████████████████████████████████████████████████| 6/6 [10:41:07<00:00, 6411.18s/it]\n"
     ]
    },
    {
     "data": {
      "text/plain": [
       "[]"
      ]
     },
     "execution_count": 2,
     "metadata": {},
     "output_type": "execute_result"
    }
   ],
   "source": [
    "# Run the pipeline sequentially\n",
    "# The restriction to my username is only necessary for the first table, since the other tables depend on PCAnalysis\n",
    "\n",
    "hheise_placecell.PCAnalysis.populate(dict(username='hheise'), display_progress=True, reserve_jobs=True, suppress_errors=True)\n",
    "hheise_placecell.TransientOnly.populate(display_progress=True, reserve_jobs=True, suppress_errors=True)\n",
    "hheise_placecell.Synchronization.populate(display_progress=True, reserve_jobs=True, suppress_errors=True)\n",
    "hheise_placecell.BinnedActivity.populate(display_progress=True, reserve_jobs=True, suppress_errors=True)\n",
    "hheise_placecell.PlaceCell.populate(display_progress=True, reserve_jobs=True, suppress_errors=True)\n",
    "hheise_placecell.SpatialInformation.populate(display_progress=True, reserve_jobs=True, suppress_errors=True)"
   ]
  },
  {
   "cell_type": "code",
   "execution_count": null,
   "id": "f0e682c2",
   "metadata": {},
   "outputs": [],
   "source": [
    "from importlib import reload\n",
    "reload(common_img)"
   ]
  },
  {
   "cell_type": "code",
   "execution_count": null,
   "id": "63662699",
   "metadata": {},
   "outputs": [],
   "source": [
    "common_img.ScanInfo - hheise_placecell.SpatialInformation"
   ]
  },
  {
   "cell_type": "code",
   "execution_count": null,
   "id": "1263d3c9",
   "metadata": {},
   "outputs": [],
   "source": [
    "common_img.ScanInfo - hheise_placecell.PCAnalysis"
   ]
  },
  {
   "cell_type": "code",
   "execution_count": null,
   "id": "61c296d4",
   "metadata": {},
   "outputs": [],
   "source": []
  }
 ],
 "metadata": {
  "kernelspec": {
   "display_name": "Python 3",
   "language": "python",
   "name": "python3"
  },
  "language_info": {
   "codemirror_mode": {
    "name": "ipython",
    "version": 3
   },
   "file_extension": ".py",
   "mimetype": "text/x-python",
   "name": "python",
   "nbconvert_exporter": "python",
   "pygments_lexer": "ipython3",
   "version": "3.7.10"
  }
 },
 "nbformat": 4,
 "nbformat_minor": 5
}
