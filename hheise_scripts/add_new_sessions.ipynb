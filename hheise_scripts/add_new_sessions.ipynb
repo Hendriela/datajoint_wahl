{
 "cells": [
  {
   "cell_type": "code",
   "execution_count": 2,
   "id": "67d365be",
   "metadata": {},
   "outputs": [
    {
     "name": "stdout",
     "output_type": "stream",
     "text": [
      "Connecting hheise@130.60.53.47:3306\n"
     ]
    }
   ],
   "source": [
    "import sys\n",
    "sys.path.append('..')\n",
    "\n",
    "import login\n",
    "login.connect()\n",
    "import util\n",
    "from schema import hheise_behav, common_exp, common_mice"
   ]
  },
  {
   "cell_type": "code",
   "execution_count": null,
   "id": "bb3f146b",
   "metadata": {},
   "outputs": [],
   "source": [
    "date = '2021-07-05'\n",
    "mice = (81,82,83,85,86,87,89,90,91,92,93,94,95)\n",
    "task = ('Active', 'Active', 'Active', 'Active', 'Active', 'Active', 'Active', 'Active', 'Active', 'Active', 'Passive', 'Active')\n",
    "\n",
    "util.add_many_sessions(date, mice)"
   ]
  },
  {
   "cell_type": "code",
   "execution_count": null,
   "id": "1c0e571b",
   "metadata": {},
   "outputs": [],
   "source": [
    "new_session = dict(\n",
    "username = \"hheise\",\n",
    "mouse_id = 93,\n",
    "day = '2021-07-18',\n",
    "    session_num = 1,\n",
    "session_path = 'Batch7\\M93\\20210719'\n",
    "experimenter = 'hheise',\n",
    "    anesthesia = 'Awake',\n",
    "setup = 'VR_2p',\n",
    "task = ''\n",
    "\t\n",
    "\n",
    "session_notes)"
   ]
  },
  {
   "cell_type": "code",
   "execution_count": null,
   "id": "ebbb7081",
   "metadata": {},
   "outputs": [],
   "source": [
    "hheise_behav.VRSession().insert1({'username': 'hheise', 'mouse_id': 81, 'day': '2021-06-23', 'session_num': 0,\n",
    "                                 'condition_switch':(0), 'valve_duration':0, 'length':0, 'running':'good',\n",
    "                                 'licking':'good', 'deprivation': '2%', 'block':0, 'vr_notes':''}, allow_direct_insert=True)"
   ]
  },
  {
   "cell_type": "code",
   "execution_count": null,
   "id": "b79761a0",
   "metadata": {},
   "outputs": [],
   "source": [
    "len(common_exp.Session * hheise_behav.VRSession)"
   ]
  },
  {
   "cell_type": "code",
   "execution_count": 2,
   "id": "63e88ba6",
   "metadata": {
    "scrolled": false
   },
   "outputs": [
    {
     "name": "stderr",
     "output_type": "stream",
     "text": [
      "VRSession: 0it [00:00, ?it/s]\n",
      "VRPerformance: 0it [00:00, ?it/s]\n",
      "PerformanceTrend: 100%|██████████████████████████████████████████████████████████████| 207/207 [00:34<00:00,  6.03it/s]\n"
     ]
    }
   ],
   "source": [
    "hheise_behav.VRSession.populate('username=\"hheise\"', reserve_jobs=True, display_progress=True)\n",
    "hheise_behav.VRPerformance.populate(reserve_jobs=True, display_progress=True)\n",
    "hheise_behav.PerformanceTrend.populate(reserve_jobs=True, display_progress=True)"
   ]
  },
  {
   "cell_type": "code",
   "execution_count": 12,
   "id": "bfb5c3d1",
   "metadata": {},
   "outputs": [
    {
     "data": {
      "text/html": [
       "\n",
       "    \n",
       "    <style type=\"text/css\">\n",
       "        .Relation{\n",
       "            border-collapse:collapse;\n",
       "        }\n",
       "        .Relation th{\n",
       "            background: #A0A0A0; color: #ffffff; padding:4px; border:#f0e0e0 1px solid;\n",
       "            font-weight: normal; font-family: monospace; font-size: 100%;\n",
       "        }\n",
       "        .Relation td{\n",
       "            padding:4px; border:#f0e0e0 1px solid; font-size:100%;\n",
       "        }\n",
       "        .Relation tr:nth-child(odd){\n",
       "            background: #ffffff;\n",
       "        }\n",
       "        .Relation tr:nth-child(even){\n",
       "            background: #f3f1ff;\n",
       "        }\n",
       "        /* Tooltip container */\n",
       "        .djtooltip {\n",
       "        }\n",
       "        /* Tooltip text */\n",
       "        .djtooltip .djtooltiptext {\n",
       "            visibility: hidden;\n",
       "            width: 120px;\n",
       "            background-color: black;\n",
       "            color: #fff;\n",
       "            text-align: center;\n",
       "            padding: 5px 0;\n",
       "            border-radius: 6px;\n",
       "            /* Position the tooltip text - see examples below! */\n",
       "            position: absolute;\n",
       "            z-index: 1;\n",
       "        }\n",
       "        #primary {\n",
       "            font-weight: bold;\n",
       "            color: black;\n",
       "        }\n",
       "        #nonprimary {\n",
       "            font-weight: normal;\n",
       "            color: white;\n",
       "        }\n",
       "\n",
       "        /* Show the tooltip text when you mouse over the tooltip container */\n",
       "        .djtooltip:hover .djtooltiptext {\n",
       "            visibility: visible;\n",
       "        }\n",
       "    </style>\n",
       "    \n",
       "    <b>Information about the session and experimental setup</b>\n",
       "        <div style=\"max-height:1000px;max-width:1500px;overflow:auto;\">\n",
       "        <table border=\"1\" class=\"Relation\">\n",
       "            <thead> <tr style=\"text-align: right;\"> <th> <div class=\"djtooltip\">\n",
       "                            <p id=\"primary\">username</p>\n",
       "                            <span class=\"djtooltiptext\">Unique username, should be the UZH shortname</span>\n",
       "                        </div></th><th><div class=\"djtooltip\">\n",
       "                            <p id=\"primary\">mouse_id</p>\n",
       "                            <span class=\"djtooltiptext\">ID of mouse (unique per investigator)</span>\n",
       "                        </div></th><th><div class=\"djtooltip\">\n",
       "                            <p id=\"primary\">day</p>\n",
       "                            <span class=\"djtooltiptext\">Date of the experimental session (YYYY-MM-DD)</span>\n",
       "                        </div></th><th><div class=\"djtooltip\">\n",
       "                            <p id=\"primary\">session_num</p>\n",
       "                            <span class=\"djtooltiptext\">Counter of experimental sessions on the same day (base 1)</span>\n",
       "                        </div></th><th><div class=\"djtooltip\">\n",
       "                            <p id=\"nonprimary\">session_id</p>\n",
       "                            <span class=\"djtooltiptext\">Unique identifier</span>\n",
       "                        </div></th><th><div class=\"djtooltip\">\n",
       "                            <p id=\"nonprimary\">session_path</p>\n",
       "                            <span class=\"djtooltiptext\">Relative path of this session on the Neurophysiology-Storage1 server</span>\n",
       "                        </div></th><th><div class=\"djtooltip\">\n",
       "                            <p id=\"nonprimary\">session_counter</p>\n",
       "                            <span class=\"djtooltiptext\">Overall counter of all sessions across mice (base 0)</span>\n",
       "                        </div></th><th><div class=\"djtooltip\">\n",
       "                            <p id=\"nonprimary\">experimenter</p>\n",
       "                            <span class=\"djtooltiptext\">Who actually performed the experiment, must be a username from Investigator()</span>\n",
       "                        </div></th><th><div class=\"djtooltip\">\n",
       "                            <p id=\"nonprimary\">anesthesia</p>\n",
       "                            <span class=\"djtooltiptext\">Anesthesia short name</span>\n",
       "                        </div></th><th><div class=\"djtooltip\">\n",
       "                            <p id=\"nonprimary\">setup</p>\n",
       "                            <span class=\"djtooltiptext\">Unique name of the setup</span>\n",
       "                        </div></th><th><div class=\"djtooltip\">\n",
       "                            <p id=\"nonprimary\">task</p>\n",
       "                            <span class=\"djtooltiptext\">Unique name of the task</span>\n",
       "                        </div></th><th><div class=\"djtooltip\">\n",
       "                            <p id=\"nonprimary\">session_notes</p>\n",
       "                            <span class=\"djtooltiptext\">description of important things that happened</span>\n",
       "                        </div> </th> </tr> </thead>\n",
       "            <tbody> <tr> <td>hheise</td>\n",
       "<td>93</td>\n",
       "<td>2021-07-08</td>\n",
       "<td>1</td>\n",
       "<td>session_hheise_M093_2021-07-08_01</td>\n",
       "<td>Batch7\\M93\\20210708</td>\n",
       "<td>265</td>\n",
       "<td>hheise</td>\n",
       "<td>Awake</td>\n",
       "<td>VR_2p</td>\n",
       "<td>Active</td>\n",
       "<td>{'block':'1', 'switch':'[-1]', 'notes':''}</td> </tr> </tbody>\n",
       "        </table>\n",
       "        \n",
       "        <p>Total: 1</p></div>\n",
       "        "
      ],
      "text/plain": [
       "*username    *mouse_id    *day           *session_num   session_id     session_path   session_counte experimenter   anesthesia     setup     task       session_notes \n",
       "+----------+ +----------+ +------------+ +------------+ +------------+ +------------+ +------------+ +------------+ +------------+ +-------+ +--------+ +------------+\n",
       "hheise       93           2021-07-08     1              session_hheise Batch7\\M93\\202 265            hheise         Awake          VR_2p     Active     {'block':'1', \n",
       " (Total: 1)"
      ]
     },
     "execution_count": 12,
     "metadata": {},
     "output_type": "execute_result"
    }
   ],
   "source": [
    "(common_exp.Session & 'mouse_id=93' & \"day = '2021-07-08'\")"
   ]
  },
  {
   "cell_type": "code",
   "execution_count": null,
   "id": "f0e682c2",
   "metadata": {},
   "outputs": [],
   "source": []
  }
 ],
 "metadata": {
  "kernelspec": {
   "display_name": "Python 3",
   "language": "python",
   "name": "python3"
  },
  "language_info": {
   "codemirror_mode": {
    "name": "ipython",
    "version": 3
   },
   "file_extension": ".py",
   "mimetype": "text/x-python",
   "name": "python",
   "nbconvert_exporter": "python",
   "pygments_lexer": "ipython3",
   "version": "3.7.10"
  }
 },
 "nbformat": 4,
 "nbformat_minor": 5
}
