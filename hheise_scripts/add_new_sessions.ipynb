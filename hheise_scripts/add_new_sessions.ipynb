{
 "cells": [
  {
   "cell_type": "code",
   "execution_count": 1,
   "id": "67d365be",
   "metadata": {},
   "outputs": [
    {
     "name": "stdout",
     "output_type": "stream",
     "text": [
      "Connecting hheise@130.60.53.47:3306\n"
     ]
    }
   ],
   "source": [
    "import sys\n",
    "sys.path.append('..')\n",
    "\n",
    "import login\n",
    "login.connect()\n",
    "import util\n",
    "from schema import hheise_behav, common_exp, common_mice"
   ]
  },
  {
   "cell_type": "code",
   "execution_count": null,
   "id": "bb3f146b",
   "metadata": {},
   "outputs": [],
   "source": [
    "date = '2021-06-28'\n",
    "mice = (81,82,83,85,86,87,89,90,91,92,93,94,95)\n",
    "task = ('Active', 'Active', 'Active', 'Active', 'Active', 'Active', 'Active', 'Active', 'Active', 'Active', 'Passive', 'Active')\n",
    "\n",
    "util.add_many_sessions(date, mice)"
   ]
  },
  {
   "cell_type": "code",
   "execution_count": null,
   "id": "ebbb7081",
   "metadata": {},
   "outputs": [],
   "source": [
    "hheise_behav.VRSession().insert1({'username': 'hheise', 'mouse_id': 81, 'day': '2021-06-23', 'session_num': 1,\n",
    "                                 'condition_switch':(0), 'valve_duration':0, 'length':0, 'running':'good',\n",
    "                                 'licking':'good', 'deprivation': '2%', 'block':0, 'vr_notes':''}, allow_direct_insert=True)"
   ]
  },
  {
   "cell_type": "code",
   "execution_count": null,
   "id": "b79761a0",
   "metadata": {},
   "outputs": [],
   "source": [
    "len(common_exp.Session * hheise_behav.VRSession)"
   ]
  },
  {
   "cell_type": "code",
   "execution_count": 2,
   "id": "63e88ba6",
   "metadata": {
    "scrolled": false
   },
   "outputs": [
    {
     "name": "stdout",
     "output_type": "stream",
     "text": [
      "A weight has already been recorded for M81 on 2021-06-17.\n",
      "A weight has already been recorded for M81 on 2021-06-21.\n",
      "WARNING: The weight of M81 of 20.9 is below the 85% pre-surgery threshold of 21.1!\n",
      "A weight has already been recorded for M81 on 2021-06-25.\n",
      "A weight has already been recorded for M82 on 2021-06-17.\n",
      "A weight has already been recorded for M82 on 2021-06-21.\n",
      "A weight has already been recorded for M82 on 2021-06-25.\n",
      "A weight has already been recorded for M83 on 2021-06-17.\n",
      "A weight has already been recorded for M83 on 2021-06-21.\n",
      "A weight has already been recorded for M83 on 2021-06-25.\n",
      "A weight has already been recorded for M85 on 2021-06-17.\n",
      "A weight has already been recorded for M85 on 2021-06-21.\n",
      "A weight has already been recorded for M85 on 2021-06-25.\n",
      "A weight has already been recorded for M85 on 2021-06-27.\n",
      "A weight has already been recorded for M86 on 2021-06-17.\n",
      "A weight has already been recorded for M86 on 2021-06-21.\n",
      "A weight has already been recorded for M86 on 2021-06-25.\n",
      "A weight has already been recorded for M87 on 2021-06-17.\n",
      "A weight has already been recorded for M87 on 2021-06-21.\n",
      "A weight has already been recorded for M87 on 2021-06-28.\n",
      "A weight has already been recorded for M89 on 2021-06-17.\n",
      "A weight has already been recorded for M89 on 2021-06-21.\n",
      "A weight has already been recorded for M89 on 2021-06-25.\n",
      "A weight has already been recorded for M90 on 2021-06-17.\n",
      "A weight has already been recorded for M90 on 2021-06-21.\n",
      "A weight has already been recorded for M90 on 2021-06-25.\n",
      "A weight has already been recorded for M91 on 2021-06-17.\n",
      "A weight has already been recorded for M91 on 2021-06-21.\n",
      "A weight has already been recorded for M91 on 2021-06-25.\n",
      "A weight has already been recorded for M92 on 2021-06-17.\n",
      "WARNING: The weight of M92 of 32.7 is below the 85% pre-surgery threshold of 33.4!\n",
      "A weight has already been recorded for M92 on 2021-06-21.\n",
      "WARNING: The weight of M92 of 33.0 is below the 85% pre-surgery threshold of 33.4!\n",
      "A weight has already been recorded for M92 on 2021-06-25.\n",
      "WARNING: The weight of M92 of 33.0 is below the 85% pre-surgery threshold of 33.4!\n",
      "A weight has already been recorded for M93 on 2021-06-17.\n",
      "WARNING: The weight of M93 of 33.2 is below the 85% pre-surgery threshold of 33.7!\n",
      "A weight has already been recorded for M93 on 2021-06-21.\n",
      "WARNING: The weight of M93 of 32.7 is below the 85% pre-surgery threshold of 33.7!\n",
      "A weight has already been recorded for M93 on 2021-06-25.\n",
      "WARNING: The weight of M93 of 32.4 is below the 85% pre-surgery threshold of 33.7!\n",
      "A weight has already been recorded for M94 on 2021-06-17.\n",
      "A weight has already been recorded for M94 on 2021-06-21.\n",
      "A weight has already been recorded for M94 on 2021-06-25.\n",
      "A weight has already been recorded for M95 on 2021-06-21.\n",
      "A weight has already been recorded for M95 on 2021-06-25.\n"
     ]
    }
   ],
   "source": [
    "hheise_behav.VRSession.populate('username=\"hheise\"')"
   ]
  },
  {
   "cell_type": "code",
   "execution_count": null,
   "id": "45562191",
   "metadata": {},
   "outputs": [],
   "source": [
    "hheise_behav.VRSession() & \"mouse_id=86\""
   ]
  },
  {
   "cell_type": "code",
   "execution_count": null,
   "id": "88885ec4",
   "metadata": {},
   "outputs": [],
   "source": [
    "(common_mice.Mouse & \"username='hheise'\" & \"mouse_id=90\").get_weight_threshold()"
   ]
  },
  {
   "cell_type": "code",
   "execution_count": null,
   "id": "9146ecc6",
   "metadata": {},
   "outputs": [],
   "source": [
    "%matplotlib qt\n",
    "(common_mice.Mouse & \"username='hheise'\" & \"batch=7\").plot_weight(relative=True, show_surgeries=True)"
   ]
  },
  {
   "cell_type": "code",
   "execution_count": null,
   "id": "a93d09e2",
   "metadata": {},
   "outputs": [],
   "source": [
    "hheise_behav.VRLogFile()"
   ]
  },
  {
   "cell_type": "code",
   "execution_count": null,
   "id": "25a87d3d",
   "metadata": {},
   "outputs": [],
   "source": []
  }
 ],
 "metadata": {
  "kernelspec": {
   "display_name": "Python 3",
   "language": "python",
   "name": "python3"
  },
  "language_info": {
   "codemirror_mode": {
    "name": "ipython",
    "version": 3
   },
   "file_extension": ".py",
   "mimetype": "text/x-python",
   "name": "python",
   "nbconvert_exporter": "python",
   "pygments_lexer": "ipython3",
   "version": "3.7.10"
  }
 },
 "nbformat": 4,
 "nbformat_minor": 5
}
