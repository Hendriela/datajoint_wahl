{
 "cells": [
  {
   "cell_type": "code",
   "execution_count": 1,
   "id": "67d365be",
   "metadata": {},
   "outputs": [
    {
     "name": "stdout",
     "output_type": "stream",
     "text": [
      "Connecting hheise@130.60.53.47:3306\n"
     ]
    }
   ],
   "source": [
    "import sys\n",
    "sys.path.append('..')\n",
    "\n",
    "import login\n",
    "login.connect()\n",
    "import util\n",
    "from schema import hheise_behav, common_exp, common_mice"
   ]
  },
  {
   "cell_type": "code",
   "execution_count": null,
   "id": "bb3f146b",
   "metadata": {},
   "outputs": [],
   "source": [
    "date = '2021-07-05'\n",
    "mice = (81,82,83,85,86,87,89,90,91,92,93,94,95)\n",
    "task = ('Active', 'Active', 'Active', 'Active', 'Active', 'Active', 'Active', 'Active', 'Active', 'Active', 'Passive', 'Active')\n",
    "\n",
    "util.add_many_sessions(date, mice)"
   ]
  },
  {
   "cell_type": "code",
   "execution_count": null,
   "id": "ebbb7081",
   "metadata": {},
   "outputs": [],
   "source": [
    "hheise_behav.VRSession().insert1({'username': 'hheise', 'mouse_id': 81, 'day': '2021-06-23', 'session_num': 0,\n",
    "                                 'condition_switch':(0), 'valve_duration':0, 'length':0, 'running':'good',\n",
    "                                 'licking':'good', 'deprivation': '2%', 'block':0, 'vr_notes':''}, allow_direct_insert=True)"
   ]
  },
  {
   "cell_type": "code",
   "execution_count": null,
   "id": "b79761a0",
   "metadata": {},
   "outputs": [],
   "source": [
    "len(common_exp.Session * hheise_behav.VRSession)"
   ]
  },
  {
   "cell_type": "code",
   "execution_count": 2,
   "id": "63e88ba6",
   "metadata": {
    "scrolled": false
   },
   "outputs": [
    {
     "name": "stderr",
     "output_type": "stream",
     "text": [
      "VRSession: 0it [00:00, ?it/s]\n",
      "VRPerformance: 0it [00:00, ?it/s]\n",
      "PerformanceTrend: 100%|██████████████████████████████████████████████████████████████| 207/207 [00:34<00:00,  6.03it/s]\n"
     ]
    }
   ],
   "source": [
    "hheise_behav.VRSession.populate('username=\"hheise\"', reserve_jobs=True, display_progress=True)\n",
    "hheise_behav.VRPerformance.populate(reserve_jobs=True, display_progress=True)\n",
    "hheise_behav.PerformanceTrend.populate(reserve_jobs=True, display_progress=True)"
   ]
  },
  {
   "cell_type": "code",
   "execution_count": null,
   "id": "45562191",
   "metadata": {},
   "outputs": [],
   "source": [
    "hheise_behav.PerformanceTrend()"
   ]
  },
  {
   "cell_type": "code",
   "execution_count": null,
   "id": "88885ec4",
   "metadata": {},
   "outputs": [],
   "source": [
    "(common_mice.Mouse & \"username='hheise'\" & \"mouse_id=90\").get_weight_threshold()"
   ]
  },
  {
   "cell_type": "code",
   "execution_count": null,
   "id": "807abb17",
   "metadata": {},
   "outputs": [],
   "source": [
    "%matplotlib qt\n",
    "(common_mice.Mouse & \"username='hheise'\" & \"batch=7\").plot_weight(relative=True, show_surgeries=True)"
   ]
  },
  {
   "cell_type": "code",
   "execution_count": null,
   "id": "f96e9d9a",
   "metadata": {},
   "outputs": [],
   "source": [
    "hheise_behav.VRLogFile()"
   ]
  },
  {
   "cell_type": "code",
   "execution_count": null,
   "id": "ef09eff3",
   "metadata": {},
   "outputs": [],
   "source": [
    "len((common_exp.Session() & 'mouse_id=82').fetch())"
   ]
  },
  {
   "cell_type": "code",
   "execution_count": null,
   "id": "40861e94",
   "metadata": {},
   "outputs": [],
   "source": [
    "len((hheise_behav.VRSession() & 'mouse_id=95').fetch())"
   ]
  },
  {
   "cell_type": "code",
   "execution_count": null,
   "id": "bfb5c3d1",
   "metadata": {},
   "outputs": [],
   "source": []
  }
 ],
 "metadata": {
  "kernelspec": {
   "display_name": "Python 3",
   "language": "python",
   "name": "python3"
  },
  "language_info": {
   "codemirror_mode": {
    "name": "ipython",
    "version": 3
   },
   "file_extension": ".py",
   "mimetype": "text/x-python",
   "name": "python",
   "nbconvert_exporter": "python",
   "pygments_lexer": "ipython3",
   "version": "3.7.10"
  }
 },
 "nbformat": 4,
 "nbformat_minor": 5
}
