{
 "cells": [
  {
   "cell_type": "code",
   "execution_count": 1,
   "id": "67d365be",
   "metadata": {},
   "outputs": [
    {
     "name": "stdout",
     "output_type": "stream",
     "text": [
      "Connecting hheise@130.60.53.48:3306\n"
     ]
    }
   ],
   "source": [
    "import sys\n",
    "sys.path.append('..')\n",
    "\n",
    "import login\n",
    "login.connect()\n",
    "from hheise_scripts import hheise_util as util\n",
    "from schema import hheise_behav, common_exp, common_mice, common_img, hheise_placecell\n",
    "\n",
    "import matplotlib\n",
    "%matplotlib qt"
   ]
  },
  {
   "cell_type": "markdown",
   "id": "b820df80",
   "metadata": {},
   "source": [
    "## Enter new Session\n",
    "\n",
    "The database has to know which sessions exist. This is done by **manual** entries in the `common_exp.Session` table. All other analysis steps descend from here. \n",
    "If the session was an imaging session, a manual entry to `common_img.Scan` is also required.\n",
    "For Hendriks session and data structure, the function `add_many_sessions()` adds sessions for multiple mice on the same day automatically (different tasks and switches have to be provided). Also `common_img.Scan` will be filled with Hendriks default values for imaging sessions, the criterion is **any** TIFF-files being present in the session directory."
   ]
  },
  {
   "cell_type": "code",
   "execution_count": null,
   "id": "bb3f146b",
   "metadata": {},
   "outputs": [],
   "source": [
    "# Add multiple entries to common_exp.Session and common_img.Scan\n",
    "# Trial switch (Number of the first trial with the new condition) is given as base 1!\n",
    "date = '2021-03-31'\n",
    "mice = (69, )\n",
    "setup = 'VR_2p'\n",
    "task = ['Changed distances', ]\n",
    "switch = [[11], ]\n",
    "\n",
    "# util.add_many_sessions(date=date, mice=mice, setup=setup, task=task, switch=switch)\n",
    "util.add_many_sessions(date=date, mice=mice, setup=setup)"
   ]
  },
  {
   "cell_type": "markdown",
   "id": "094df02d",
   "metadata": {},
   "source": [
    "## VR Behavior analysis\n",
    "\n",
    "First, `hheise_behav.VRSessionInfo` and `hheise_behav.RawBehaviorFile` have to be populated.\n",
    "This is because `RawBehaviorFile` pre-screens sessions for possible bad trials, which should be removed manually, including the associated TIFF files. Thus, the TIFF files should not be in the database yet."
   ]
  },
  {
   "cell_type": "code",
   "execution_count": null,
   "id": "1c0e571b",
   "metadata": {
    "scrolled": false
   },
   "outputs": [],
   "source": [
    "# Make entries for hheise_behav.VRSessionInfo and \n",
    "hheise_behav.VRSessionInfo().populate('username=\"hheise\"')"
   ]
  },
  {
   "cell_type": "code",
   "execution_count": null,
   "id": "68b8782a",
   "metadata": {},
   "outputs": [],
   "source": [
    "%matplotlib qt\n",
    "# Pre-screen trials for bad behavior data while populating hheise_behav.RawBehaviorFile\n",
    "# -> Does not work in Jupyter Notebook, call in PyCharm console\n",
    "hheise_behav.RawBehaviorFile().populate()\n",
    "# Delete TIFF files of bad trials if necessary"
   ]
  },
  {
   "cell_type": "markdown",
   "id": "eeb57383",
   "metadata": {},
   "source": [
    "## RawImagingFile\n",
    "\n",
    "Now, `common_img.RawImagingFile` has to be filled before we continue with the VR behavior analysis, because the behavior alignment script needs to know the frame numbers of each trial, which is stored in `common_img.RawImagingFile`."
   ]
  },
  {
   "cell_type": "code",
   "execution_count": null,
   "id": "ebbb7081",
   "metadata": {
    "scrolled": true
   },
   "outputs": [],
   "source": [
    "# Find and load the raw TIFF files\n",
    "common_img.RawImagingFile.populate(dict(username='hheise'))"
   ]
  },
  {
   "cell_type": "markdown",
   "id": "df7dac25",
   "metadata": {},
   "source": [
    "## Finish VR behavior pipeline\n",
    "\n",
    "Now we can populate the rest of the VR behavior tables without interruption."
   ]
  },
  {
   "cell_type": "code",
   "execution_count": null,
   "id": "b79761a0",
   "metadata": {
    "scrolled": false
   },
   "outputs": [],
   "source": [
    "# %%notify\n",
    "\n",
    "# Analyse the VR behavior, now that frame counts of imaging trials are loaded in the database\n",
    "hheise_behav.VRLogFile.populate(display_progress=True)\n",
    "hheise_behav.VRLog.populate(display_progress=True)\n",
    "hheise_behav.VRSession.populate(display_progress=True)\n",
    "hheise_behav.VRPerformance.populate(display_progress=True)\n",
    "hheise_behav.PerformanceTrend.populate(display_progress=True)"
   ]
  },
  {
   "cell_type": "markdown",
   "id": "4a7d7624",
   "metadata": {},
   "source": [
    "## CaImAn pipeline\n",
    "\n",
    "Here, the actual CaImAn segmentation pipeline starts. Each of these tables should run automatically, but might throw errors, so check in regularly. Computation times are now really long, especially for `MotionCorrection` and `Segmentation` (approx 1h each per session)."
   ]
  },
  {
   "cell_type": "code",
   "execution_count": null,
   "id": "63e88ba6",
   "metadata": {
    "scrolled": true
   },
   "outputs": [],
   "source": [
    "# %%notify\n",
    "\n",
    "# After VR behavior is fully analysed, we can start with the CaImAn pipeline\n",
    "common_img.ScanInfo.populate(dict(username='hheise'), display_progress=True)"
   ]
  },
  {
   "cell_type": "code",
   "execution_count": null,
   "id": "bfb5c3d1",
   "metadata": {},
   "outputs": [],
   "source": [
    "# Check which available MotionParameter set you want to use for you motion correction\n",
    "common_img.MotionParameter()"
   ]
  },
  {
   "cell_type": "code",
   "execution_count": null,
   "id": "ebf13339",
   "metadata": {},
   "outputs": [],
   "source": [
    "# %%notify\n",
    "# Run motion correction and quality control (which checks quality of motion correction)\n",
    "common_img.MotionCorrection.populate(dict(username='hheise', motion_id=0, mouse_id=63), display_progress=True)\n",
    "common_img.MotionCorrection.populate(dict(username='hheise', motion_id=0, mouse_id=69), display_progress=True)"
   ]
  },
  {
   "cell_type": "code",
   "execution_count": null,
   "id": "4adfa5b7",
   "metadata": {},
   "outputs": [],
   "source": [
    "common_img.MemoryMappedFile().delete()"
   ]
  },
  {
   "cell_type": "code",
   "execution_count": null,
   "id": "ffe9be49",
   "metadata": {
    "scrolled": true
   },
   "outputs": [],
   "source": [
    "# %%notify\n",
    "common_img.QualityControl.populate(dict(username='hheise', mouse_id=63), display_progress=True)\n",
    "common_img.QualityControl.populate(dict(username='hheise', mouse_id=69), display_progress=True)"
   ]
  },
  {
   "cell_type": "markdown",
   "id": "e848d700",
   "metadata": {},
   "source": [
    "### CaimanParameter\n",
    "\n",
    "You can assign different CaimanParameter sets to specific sessions of a mouse. This is done by adding an entry into the CaimanParameterSession table, including the mouse ID, day, and ID of the parameter set. The parameter set has to be added to CaimanParameter first.\n",
    "\n",
    "If no entry in CaimanParameterSession for the current day exists, the default caiman ID `0` is used."
   ]
  },
  {
   "cell_type": "code",
   "execution_count": null,
   "id": "bd5795c6",
   "metadata": {},
   "outputs": [],
   "source": [
    "common_img.CaimanParameter() & 'mouse_id=63'\n",
    "# common_img.CaimanParameterSession() & 'mouse_id=63'"
   ]
  },
  {
   "cell_type": "code",
   "execution_count": null,
   "id": "461b62f0",
   "metadata": {},
   "outputs": [],
   "source": [
    "# %%notify\n",
    "common_img.Segmentation.populate(dict(username='hheise', mouse_id=63, day='2021-03-02'), display_progress=True, make_kwargs=dict(save_overviews=True))\n",
    "common_img.Segmentation.populate(dict(username='hheise', mouse_id=69, day='2021-03-07'), display_progress=True, make_kwargs=dict(save_overviews=True))"
   ]
  },
  {
   "cell_type": "code",
   "execution_count": null,
   "id": "bf7f81c6",
   "metadata": {},
   "outputs": [],
   "source": [
    "\n",
    "common_img.Segmentation.populate(dict(username='hheise', mouse_id=63), display_progress=True, make_kwargs=dict(save_overviews=True))\n",
    "common_img.Segmentation.populate(dict(username='hheise', mouse_id=69), display_progress=True, make_kwargs=dict(save_overviews=True))"
   ]
  },
  {
   "cell_type": "code",
   "execution_count": null,
   "id": "4e96e374",
   "metadata": {
    "scrolled": true
   },
   "outputs": [],
   "source": [
    "# Validate Segmentation to spot irregularities in number of accepted components, which might require parameter adaptation\n",
    "util.validate_segmentation(mice=[63, 69], thr=20, plot_all=True)"
   ]
  },
  {
   "cell_type": "code",
   "execution_count": null,
   "id": "3d27a96d",
   "metadata": {},
   "outputs": [],
   "source": [
    "(common_img.Segmentation.ROI & 'mouse_id=83')"
   ]
  },
  {
   "cell_type": "code",
   "execution_count": null,
   "id": "69855a4b",
   "metadata": {},
   "outputs": [],
   "source": [
    "# DONE WITH VICTORS MACHINE\n",
    "# Use different parameter set on selected sessions\n",
    "session_keys = [dict(username='hheise', mouse_id=82, day='2021-07-16', session_num=1, caiman_id=1),\n",
    "               dict(username='hheise', mouse_id=83, day='2021-08-02', session_num=1, caiman_id=1),\n",
    "               dict(username='hheise', mouse_id=86, day='2021-07-08', session_num=1, caiman_id=1),\n",
    "               dict(username='hheise', mouse_id=86, day='2021-07-21', session_num=1, caiman_id=1),\n",
    "               dict(username='hheise', mouse_id=90, day='2021-07-16', session_num=1, caiman_id=1),\n",
    "               dict(username='hheise', mouse_id=90, day='2021-07-30', session_num=1, caiman_id=1),\n",
    "               dict(username='hheise', mouse_id=91, day='2021-07-20', session_num=1, caiman_id=1),\n",
    "               dict(username='hheise', mouse_id=91, day='2021-08-02', session_num=1, caiman_id=1),\n",
    "               dict(username='hheise', mouse_id=92, day='2021-07-19', session_num=1, caiman_id=1),\n",
    "               dict(username='hheise', mouse_id=93, day='2021-07-08', session_num=1, caiman_id=1),\n",
    "               dict(username='hheise', mouse_id=93, day='2021-07-09', session_num=1, caiman_id=1),\n",
    "               dict(username='hheise', mouse_id=93, day='2021-07-10', session_num=1, caiman_id=1),\n",
    "               dict(username='hheise', mouse_id=94, day='2021-07-08', session_num=1, caiman_id=1),\n",
    "               dict(username='hheise', mouse_id=94, day='2021-07-09', session_num=1, caiman_id=1),\n",
    "               dict(username='hheise', mouse_id=94, day='2021-07-10', session_num=1, caiman_id=1),\n",
    "               dict(username='hheise', mouse_id=94, day='2021-07-11', session_num=1, caiman_id=1),\n",
    "               dict(username='hheise', mouse_id=94, day='2021-07-15', session_num=1, caiman_id=1),\n",
    "               dict(username='hheise', mouse_id=95, day='2021-07-08', session_num=1, caiman_id=1),\n",
    "               dict(username='hheise', mouse_id=95, day='2021-07-09', session_num=1, caiman_id=1),\n",
    "               dict(username='hheise', mouse_id=95, day='2021-07-10', session_num=1, caiman_id=1),\n",
    "               dict(username='hheise', mouse_id=95, day='2021-07-14', session_num=1, caiman_id=1),\n",
    "               dict(username='hheise', mouse_id=95, day='2021-07-19', session_num=1, caiman_id=1),\n",
    "               dict(username='hheise', mouse_id=95, day='2021-07-20', session_num=1, caiman_id=1)]\n",
    "\n",
    "# # Delete old entries with ID 0 before making new one\n",
    "# for key in session_keys:\n",
    "#     k = key.copy()\n",
    "#     k['caiman_id'] = 0\n",
    "#     (common_img.Segmentation & k).delete()\n",
    "\n",
    "# Make new entries\n",
    "for key in session_keys:\n",
    "    common_img.CaimanParameterSession.insert1(key, skip_duplicates=True)"
   ]
  },
  {
   "cell_type": "code",
   "execution_count": null,
   "id": "007e5307",
   "metadata": {},
   "outputs": [],
   "source": [
    "common_img.CaimanParameterSession()"
   ]
  },
  {
   "cell_type": "code",
   "execution_count": null,
   "id": "d078ac8f",
   "metadata": {
    "scrolled": true
   },
   "outputs": [],
   "source": [
    "common_img.Segmentation.populate()"
   ]
  },
  {
   "cell_type": "code",
   "execution_count": null,
   "id": "39dc1d8f",
   "metadata": {},
   "outputs": [],
   "source": [
    "common_img.Deconvolution().populate({'username': 'hheise', 'decon_id': 1}, display_progress=True)\n",
    "common_img.ActivityStatistics().populate(display_progress=True)"
   ]
  },
  {
   "cell_type": "markdown",
   "id": "5b6185c3",
   "metadata": {},
   "source": [
    "## Place Cell Analysis\n",
    "\n",
    "Place Cell Analysis should be straight-forward as well, all tables can be populated in-order."
   ]
  },
  {
   "cell_type": "code",
   "execution_count": null,
   "id": "ec6cea97",
   "metadata": {},
   "outputs": [],
   "source": [
    "# Check entries of PlaceCellParameter and add a parameter set if necessary\n",
    "hheise_placecell.PlaceCellParameter()"
   ]
  },
  {
   "cell_type": "code",
   "execution_count": 2,
   "id": "f83ed7f8",
   "metadata": {
    "scrolled": true
   },
   "outputs": [
    {
     "name": "stderr",
     "output_type": "stream",
     "text": [
      "PCAnalysis: 0it [00:00, ?it/s]\n",
      "TransientOnly: 0it [00:00, ?it/s]\n",
      "Synchronization: 0it [00:00, ?it/s]\n",
      "BinnedActivity: 0it [00:00, ?it/s]\n",
      "PlaceCell:   0%|                                                                                                                                                                            | 0/5 [00:00<?, ?it/s]"
     ]
    },
    {
     "name": "stdout",
     "output_type": "stream",
     "text": [
      "Classifying place cells for {'username': 'hheise', 'mouse_id': 69, 'day': datetime.date(2021, 3, 6), 'session_num': 1, 'motion_id': 0, 'caiman_id': 0, 'place_cell_id': 0}.\n",
      "\tProcessing place cells for the following corridor type: 0\n",
      "\t85 potential place cells found. Performing bootstrapping...\n"
     ]
    },
    {
     "name": "stderr",
     "output_type": "stream",
     "text": [
      "\r",
      "PlaceCell:  40%|███████████████████████████████████████████████████████████████▏                                                                                              | 2/5 [1:04:33<1:36:50, 1936.96s/it]"
     ]
    },
    {
     "name": "stdout",
     "output_type": "stream",
     "text": [
      "\tBootstrapping complete. 41 cells with p<=0.05.\n",
      "Classifying place cells for {'username': 'hheise', 'mouse_id': 69, 'day': datetime.date(2021, 3, 7), 'session_num': 1, 'motion_id': 0, 'caiman_id': 0, 'place_cell_id': 0}.\n",
      "\tProcessing place cells for the following corridor type: 0\n",
      "\t69 potential place cells found. Performing bootstrapping...\n"
     ]
    },
    {
     "name": "stderr",
     "output_type": "stream",
     "text": [
      "\r",
      "PlaceCell:  60%|██████████████████████████████████████████████████████████████████████████████████████████████▊                                                               | 3/5 [1:37:09<1:04:49, 1944.53s/it]"
     ]
    },
    {
     "name": "stdout",
     "output_type": "stream",
     "text": [
      "\tBootstrapping complete. 48 cells with p<=0.05.\n",
      "Classifying place cells for {'username': 'hheise', 'mouse_id': 69, 'day': datetime.date(2021, 3, 8), 'session_num': 1, 'motion_id': 0, 'caiman_id': 0, 'place_cell_id': 0}.\n",
      "\tProcessing place cells for the following corridor type: 0\n",
      "\t75 potential place cells found. Performing bootstrapping...\n"
     ]
    },
    {
     "name": "stderr",
     "output_type": "stream",
     "text": [
      "\r",
      "PlaceCell:  80%|████████████████████████████████████████████████████████████████████████████████████████████████████████████████████████████████                                | 4/5 [1:56:54<27:41, 1661.46s/it]"
     ]
    },
    {
     "name": "stdout",
     "output_type": "stream",
     "text": [
      "\tBootstrapping complete. 38 cells with p<=0.05.\n",
      "Classifying place cells for {'username': 'hheise', 'mouse_id': 69, 'day': datetime.date(2021, 3, 11), 'session_num': 1, 'motion_id': 0, 'caiman_id': 0, 'place_cell_id': 0}.\n",
      "\tProcessing place cells for the following corridor type: 0\n",
      "\t55 potential place cells found. Performing bootstrapping...\n"
     ]
    },
    {
     "name": "stderr",
     "output_type": "stream",
     "text": [
      "PlaceCell: 100%|████████████████████████████████████████████████████████████████████████████████████████████████████████████████████████████████████████████████████████████████| 5/5 [2:18:12<00:00, 1658.53s/it]\n"
     ]
    },
    {
     "name": "stdout",
     "output_type": "stream",
     "text": [
      "\tBootstrapping complete. 37 cells with p<=0.05.\n"
     ]
    },
    {
     "name": "stderr",
     "output_type": "stream",
     "text": [
      "\r",
      "SpatialInformation:   0%|                                                                                                                                                                  | 0/13 [00:00<?, ?it/s]"
     ]
    },
    {
     "name": "stdout",
     "output_type": "stream",
     "text": [
      "Starting to populate SpatialInformation for {'username': 'hheise', 'mouse_id': 63, 'day': datetime.date(2021, 3, 7), 'session_num': 1, 'motion_id': 0, 'caiman_id': 0, 'place_cell_id': 0}\n",
      "\tProcessing corridor type 0\n",
      "\tProcessing corridor type 1\n",
      "\tProcessing corridor type 2\n"
     ]
    },
    {
     "name": "stderr",
     "output_type": "stream",
     "text": [
      "\r",
      "SpatialInformation:   8%|███████████▌                                                                                                                                          | 1/13 [17:40<3:32:09, 1060.81s/it]"
     ]
    },
    {
     "name": "stdout",
     "output_type": "stream",
     "text": [
      "Starting to populate SpatialInformation for {'username': 'hheise', 'mouse_id': 63, 'day': datetime.date(2021, 3, 10), 'session_num': 1, 'motion_id': 0, 'caiman_id': 0, 'place_cell_id': 0}\n",
      "\tProcessing corridor type 0\n",
      "\tProcessing corridor type 1\n",
      "\tProcessing corridor type 2\n"
     ]
    },
    {
     "name": "stderr",
     "output_type": "stream",
     "text": [
      "\r",
      "SpatialInformation:  15%|███████████████████████▏                                                                                                                               | 2/13 [33:07<3:00:04, 982.19s/it]"
     ]
    },
    {
     "name": "stdout",
     "output_type": "stream",
     "text": [
      "Starting to populate SpatialInformation for {'username': 'hheise', 'mouse_id': 63, 'day': datetime.date(2021, 3, 14), 'session_num': 1, 'motion_id': 0, 'caiman_id': 0, 'place_cell_id': 0}\n",
      "\tProcessing corridor type 0\n",
      "\tProcessing corridor type 1\n",
      "\tProcessing corridor type 2\n"
     ]
    },
    {
     "name": "stderr",
     "output_type": "stream",
     "text": [
      "\r",
      "SpatialInformation:  23%|██████████████████████████████████▊                                                                                                                    | 3/13 [44:22<2:20:17, 841.74s/it]"
     ]
    },
    {
     "name": "stdout",
     "output_type": "stream",
     "text": [
      "Starting to populate SpatialInformation for {'username': 'hheise', 'mouse_id': 63, 'day': datetime.date(2021, 3, 17), 'session_num': 1, 'motion_id': 0, 'caiman_id': 0, 'place_cell_id': 0}\n",
      "\tProcessing corridor type 0\n",
      "\tProcessing corridor type 1\n",
      "\tProcessing corridor type 2\n"
     ]
    },
    {
     "name": "stderr",
     "output_type": "stream",
     "text": [
      "\r",
      "SpatialInformation:  31%|█████████████████████████████████████████████▊                                                                                                       | 4/13 [1:04:21<2:27:24, 982.74s/it]"
     ]
    },
    {
     "name": "stdout",
     "output_type": "stream",
     "text": [
      "Starting to populate SpatialInformation for {'username': 'hheise', 'mouse_id': 69, 'day': datetime.date(2021, 2, 28), 'session_num': 1, 'motion_id': 0, 'caiman_id': 0, 'place_cell_id': 0}\n",
      "\tProcessing corridor type 0\n"
     ]
    },
    {
     "name": "stderr",
     "output_type": "stream",
     "text": [
      "\r",
      "SpatialInformation:  38%|████████████████████████████████████████████████████████▉                                                                                           | 5/13 [1:42:45<3:14:34, 1459.33s/it]"
     ]
    },
    {
     "name": "stdout",
     "output_type": "stream",
     "text": [
      "Starting to populate SpatialInformation for {'username': 'hheise', 'mouse_id': 69, 'day': datetime.date(2021, 3, 1), 'session_num': 1, 'motion_id': 0, 'caiman_id': 0, 'place_cell_id': 0}\n",
      "\tProcessing corridor type 0\n",
      "\tProcessing corridor type 1\n",
      "\tProcessing corridor type 2\n"
     ]
    },
    {
     "name": "stderr",
     "output_type": "stream",
     "text": [
      "\r",
      "SpatialInformation:  46%|████████████████████████████████████████████████████████████████████▎                                                                               | 6/13 [2:36:01<3:59:08, 2049.80s/it]"
     ]
    },
    {
     "name": "stdout",
     "output_type": "stream",
     "text": [
      "Starting to populate SpatialInformation for {'username': 'hheise', 'mouse_id': 69, 'day': datetime.date(2021, 3, 2), 'session_num': 1, 'motion_id': 0, 'caiman_id': 0, 'place_cell_id': 0}\n",
      "\tProcessing corridor type 0\n",
      "\tProcessing corridor type 1\n",
      "\tProcessing corridor type 2\n"
     ]
    },
    {
     "name": "stderr",
     "output_type": "stream",
     "text": [
      "\r",
      "SpatialInformation:  54%|███████████████████████████████████████████████████████████████████████████████▋                                                                    | 7/13 [3:46:34<4:36:20, 2763.38s/it]"
     ]
    },
    {
     "name": "stdout",
     "output_type": "stream",
     "text": [
      "Starting to populate SpatialInformation for {'username': 'hheise', 'mouse_id': 69, 'day': datetime.date(2021, 3, 3), 'session_num': 1, 'motion_id': 0, 'caiman_id': 0, 'place_cell_id': 0}\n",
      "\tProcessing corridor type 0\n",
      "\tProcessing corridor type 1\n",
      "\tProcessing corridor type 2\n"
     ]
    },
    {
     "name": "stderr",
     "output_type": "stream",
     "text": [
      "\r",
      "SpatialInformation:  62%|███████████████████████████████████████████████████████████████████████████████████████████                                                         | 8/13 [4:21:02<3:31:50, 2542.05s/it]"
     ]
    },
    {
     "name": "stdout",
     "output_type": "stream",
     "text": [
      "Starting to populate SpatialInformation for {'username': 'hheise', 'mouse_id': 69, 'day': datetime.date(2021, 3, 4), 'session_num': 1, 'motion_id': 0, 'caiman_id': 0, 'place_cell_id': 0}\n",
      "\tProcessing corridor type 0\n",
      "\tProcessing corridor type 1\n",
      "\tProcessing corridor type 2\n"
     ]
    },
    {
     "name": "stderr",
     "output_type": "stream",
     "text": [
      "\r",
      "SpatialInformation:  69%|██████████████████████████████████████████████████████████████████████████████████████████████████████▍                                             | 9/13 [5:21:24<3:11:58, 2879.75s/it]"
     ]
    },
    {
     "name": "stdout",
     "output_type": "stream",
     "text": [
      "Starting to populate SpatialInformation for {'username': 'hheise', 'mouse_id': 69, 'day': datetime.date(2021, 3, 6), 'session_num': 1, 'motion_id': 0, 'caiman_id': 0, 'place_cell_id': 0}\n",
      "\tProcessing corridor type 0\n"
     ]
    },
    {
     "name": "stderr",
     "output_type": "stream",
     "text": [
      "\r",
      "SpatialInformation:  77%|█████████████████████████████████████████████████████████████████████████████████████████████████████████████████                                  | 10/13 [5:49:03<2:05:08, 2502.71s/it]"
     ]
    },
    {
     "name": "stdout",
     "output_type": "stream",
     "text": [
      "Starting to populate SpatialInformation for {'username': 'hheise', 'mouse_id': 69, 'day': datetime.date(2021, 3, 7), 'session_num': 1, 'motion_id': 0, 'caiman_id': 0, 'place_cell_id': 0}\n",
      "\tProcessing corridor type 0\n"
     ]
    },
    {
     "name": "stderr",
     "output_type": "stream",
     "text": [
      "\r",
      "SpatialInformation:  85%|████████████████████████████████████████████████████████████████████████████████████████████████████████████████████████████▍                      | 11/13 [6:08:38<1:09:52, 2096.43s/it]"
     ]
    },
    {
     "name": "stdout",
     "output_type": "stream",
     "text": [
      "Starting to populate SpatialInformation for {'username': 'hheise', 'mouse_id': 69, 'day': datetime.date(2021, 3, 8), 'session_num': 1, 'motion_id': 0, 'caiman_id': 0, 'place_cell_id': 0}\n",
      "\tProcessing corridor type 0\n"
     ]
    },
    {
     "name": "stderr",
     "output_type": "stream",
     "text": [
      "\r",
      "SpatialInformation:  92%|█████████████████████████████████████████████████████████████████████████████████████████████████████████████████████████████████████████▌           | 12/13 [6:32:40<31:37, 1897.22s/it]"
     ]
    },
    {
     "name": "stdout",
     "output_type": "stream",
     "text": [
      "Starting to populate SpatialInformation for {'username': 'hheise', 'mouse_id': 69, 'day': datetime.date(2021, 3, 11), 'session_num': 1, 'motion_id': 0, 'caiman_id': 0, 'place_cell_id': 0}\n",
      "\tProcessing corridor type 0\n"
     ]
    },
    {
     "name": "stderr",
     "output_type": "stream",
     "text": [
      "SpatialInformation: 100%|█████████████████████████████████████████████████████████████████████████████████████████████████████████████████████████████████████████████████████| 13/13 [7:11:34<00:00, 1991.87s/it]\n"
     ]
    },
    {
     "data": {
      "text/plain": [
       "[]"
      ]
     },
     "execution_count": 2,
     "metadata": {},
     "output_type": "execute_result"
    }
   ],
   "source": [
    "# Run the pipeline sequentially\n",
    "# The restriction to my username is only necessary for the first table, since the other tables depend on PCAnalysis\n",
    "\n",
    "hheise_placecell.PCAnalysis.populate(display_progress=True, reserve_jobs=True, suppress_errors=True)\n",
    "hheise_placecell.TransientOnly.populate(display_progress=True, reserve_jobs=True, suppress_errors=True)\n",
    "hheise_placecell.Synchronization.populate(display_progress=True, reserve_jobs=True, suppress_errors=True)\n",
    "hheise_placecell.BinnedActivity.populate(display_progress=True, reserve_jobs=True, suppress_errors=True)\n",
    "hheise_placecell.PlaceCell.populate(display_progress=True, reserve_jobs=True, suppress_errors=True)\n",
    "hheise_placecell.SpatialInformation.populate(display_progress=True, reserve_jobs=True, suppress_errors=True)"
   ]
  },
  {
   "cell_type": "code",
   "execution_count": null,
   "id": "f0e682c2",
   "metadata": {},
   "outputs": [],
   "source": [
    "from importlib import reload\n",
    "reload(common_img)"
   ]
  },
  {
   "cell_type": "code",
   "execution_count": null,
   "id": "63662699",
   "metadata": {},
   "outputs": [],
   "source": [
    "common_img.ScanInfo - hheise_placecell.SpatialInformation"
   ]
  },
  {
   "cell_type": "code",
   "execution_count": null,
   "id": "1263d3c9",
   "metadata": {},
   "outputs": [],
   "source": [
    "common_img.ScanInfo - hheise_placecell.PCAnalysis"
   ]
  },
  {
   "cell_type": "code",
   "execution_count": null,
   "id": "61c296d4",
   "metadata": {},
   "outputs": [],
   "source": []
  }
 ],
 "metadata": {
  "kernelspec": {
   "display_name": "Python 3 (ipykernel)",
   "language": "python",
   "name": "python3"
  },
  "language_info": {
   "codemirror_mode": {
    "name": "ipython",
    "version": 3
   },
   "file_extension": ".py",
   "mimetype": "text/x-python",
   "name": "python",
   "nbconvert_exporter": "python",
   "pygments_lexer": "ipython3",
   "version": "3.7.13"
  }
 },
 "nbformat": 4,
 "nbformat_minor": 5
}
