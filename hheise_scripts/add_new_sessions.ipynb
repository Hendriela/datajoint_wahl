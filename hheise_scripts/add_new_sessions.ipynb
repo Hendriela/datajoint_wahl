{
 "cells": [
  {
   "cell_type": "code",
   "execution_count": 1,
   "id": "67d365be",
   "metadata": {},
   "outputs": [
    {
     "name": "stdout",
     "output_type": "stream",
     "text": [
      "Connecting hheise@130.60.53.47:3306\n"
     ]
    }
   ],
   "source": [
    "import sys\n",
    "sys.path.append('..')\n",
    "\n",
    "import login\n",
    "login.connect()\n",
    "import util\n",
    "from schema import hheise_behav"
   ]
  },
  {
   "cell_type": "code",
   "execution_count": 5,
   "id": "ad1c59e8",
   "metadata": {},
   "outputs": [
    {
     "name": "stdout",
     "output_type": "stream",
     "text": [
      "Inserted new session: {'username': 'hheise', 'mouse_id': 81, 'day': '2021-06-23', 'session_num': 1}\n",
      "Inserted new session: {'username': 'hheise', 'mouse_id': 82, 'day': '2021-06-23', 'session_num': 1}\n",
      "Inserted new session: {'username': 'hheise', 'mouse_id': 83, 'day': '2021-06-23', 'session_num': 1}\n",
      "Inserted new session: {'username': 'hheise', 'mouse_id': 85, 'day': '2021-06-23', 'session_num': 1}\n",
      "Inserted new session: {'username': 'hheise', 'mouse_id': 86, 'day': '2021-06-23', 'session_num': 1}\n",
      "Inserted new session: {'username': 'hheise', 'mouse_id': 87, 'day': '2021-06-23', 'session_num': 1}\n",
      "Inserted new session: {'username': 'hheise', 'mouse_id': 89, 'day': '2021-06-23', 'session_num': 1}\n",
      "Inserted new session: {'username': 'hheise', 'mouse_id': 90, 'day': '2021-06-23', 'session_num': 1}\n",
      "Inserted new session: {'username': 'hheise', 'mouse_id': 91, 'day': '2021-06-23', 'session_num': 1}\n",
      "Inserted new session: {'username': 'hheise', 'mouse_id': 92, 'day': '2021-06-23', 'session_num': 1}\n",
      "Inserted new session: {'username': 'hheise', 'mouse_id': 93, 'day': '2021-06-23', 'session_num': 1}\n",
      "Inserted new session: {'username': 'hheise', 'mouse_id': 94, 'day': '2021-06-23', 'session_num': 1}\n",
      "Inserted new session: {'username': 'hheise', 'mouse_id': 95, 'day': '2021-06-23', 'session_num': 1}\n"
     ]
    }
   ],
   "source": [
    "date = '2021-06-23'\n",
    "mice = (81,82,83,85,86,87,89,90,91,92,93,94,95)\n",
    "\n",
    "util.add_many_sessions(date, mice)"
   ]
  },
  {
   "cell_type": "code",
   "execution_count": null,
   "id": "09e6a442",
   "metadata": {},
   "outputs": [],
   "source": [
    "hheise_behav.VRSession.populate('username=\"hheise\"')"
   ]
  },
  {
   "cell_type": "code",
   "execution_count": null,
   "id": "8e74f88a",
   "metadata": {},
   "outputs": [],
   "source": []
  }
 ],
 "metadata": {
  "kernelspec": {
   "display_name": "Python 3",
   "language": "python",
   "name": "python3"
  },
  "language_info": {
   "codemirror_mode": {
    "name": "ipython",
    "version": 3
   },
   "file_extension": ".py",
   "mimetype": "text/x-python",
   "name": "python",
   "nbconvert_exporter": "python",
   "pygments_lexer": "ipython3",
   "version": "3.7.10"
  }
 },
 "nbformat": 4,
 "nbformat_minor": 5
}
