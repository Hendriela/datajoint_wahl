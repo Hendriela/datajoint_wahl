{
 "cells": [
  {
   "cell_type": "code",
   "execution_count": 1,
   "id": "67d365be",
   "metadata": {},
   "outputs": [
    {
     "name": "stdout",
     "output_type": "stream",
     "text": [
      "Connecting hheise@130.60.53.48:3306\n"
     ]
    }
   ],
   "source": [
    "import sys\n",
    "sys.path.append('..')\n",
    "\n",
    "import login\n",
    "login.connect()\n",
    "from hheise_scripts import hheise_util as util\n",
    "from schema import hheise_behav, common_exp, common_mice, common_img, hheise_placecell\n",
    "\n",
    "import matplotlib\n",
    "%matplotlib qt"
   ]
  },
  {
   "cell_type": "markdown",
   "id": "b820df80",
   "metadata": {},
   "source": [
    "## Enter new Session\n",
    "\n",
    "The database has to know which sessions exist. This is done by **manual** entries in the `common_exp.Session` table. All other analysis steps descend from here. \n",
    "If the session was an imaging session, a manual entry to `common_img.Scan` is also required.\n",
    "For Hendriks session and data structure, the function `add_many_sessions()` adds sessions for multiple mice on the same day automatically (different tasks and switches have to be provided). Also `common_img.Scan` will be filled with Hendriks default values for imaging sessions, the criterion is **any** TIFF-files being present in the session directory."
   ]
  },
  {
   "cell_type": "code",
   "execution_count": null,
   "id": "bb3f146b",
   "metadata": {},
   "outputs": [],
   "source": [
    "# Add multiple entries to common_exp.Session and common_img.Scan\n",
    "# Trial switch is given as base 1!\n",
    "date = '2021-08-15'\n",
    "mice = (83,89,\n",
    "        91,94,95)\n",
    "setup = 'VR_2p'\n",
    "# task = ['Active', 'Active',\n",
    "#         'Active', 'Active', 'Active']\n",
    "# switch = [[-1], [-1],\n",
    "#           [-1], [8], [-1], [-1]]\n",
    "\n",
    "# util.add_many_sessions(date=date, mice=mice, setup=setup, task=task, switch=switch)\n",
    "util.add_many_sessions(date=date, mice=mice, setup=setup)"
   ]
  },
  {
   "cell_type": "markdown",
   "id": "094df02d",
   "metadata": {},
   "source": [
    "## VR Behavior analysis\n",
    "\n",
    "First, `hheise_behav.VRSessionInfo` and `hheise_behav.RawBehaviorFile` have to be populated.\n",
    "This is because `RawBehaviorFile` pre-screens sessions for possible bad trials, which should be removed manually, including the associated TIFF files. Thus, the TIFF files should not be in the database yet."
   ]
  },
  {
   "cell_type": "code",
   "execution_count": null,
   "id": "1c0e571b",
   "metadata": {},
   "outputs": [],
   "source": [
    "# Make entries for hheise_behav.VRSessionInfo and \n",
    "hheise_behav.VRSessionInfo().populate('username=\"hheise\"')"
   ]
  },
  {
   "cell_type": "code",
   "execution_count": null,
   "id": "68b8782a",
   "metadata": {},
   "outputs": [],
   "source": [
    "%matplotlib qt\n",
    "# Pre-screen trials for bad behavior data while populating hheise_behav.RawBehaviorFile\n",
    "# -> Does not work in Jupyter Notebook, call in PyCharm console\n",
    "hheise_behav.RawBehaviorFile().populate()\n",
    "# Delete TIFF files of bad trials if necessary"
   ]
  },
  {
   "cell_type": "markdown",
   "id": "eeb57383",
   "metadata": {},
   "source": [
    "## RawImagingFile\n",
    "\n",
    "Now, `common_img.RawImagingFile` has to be filled before we continue with the VR behavior analysis, because the behavior alignment script needs to know the frame numbers of each trial, which is stored in `common_img.RawImagingFile`."
   ]
  },
  {
   "cell_type": "code",
   "execution_count": 2,
   "id": "ebbb7081",
   "metadata": {
    "scrolled": true
   },
   "outputs": [
    {
     "name": "stdout",
     "output_type": "stream",
     "text": [
      "Finding raw imaging files for entry {'username': 'hheise', 'mouse_id': 33, 'day': datetime.date(2020, 8, 18), 'session_num': 1}\n"
     ]
    },
    {
     "ename": "ImportError",
     "evalue": "No files found in W:\\Neurophysiology-Storage1\\Wahl\\Hendrik\\PhD\\Data\\Batch3\\M33\\20200818 that fit the patterns ['file_000??.tif', 'f_000??.tif']!",
     "output_type": "error",
     "traceback": [
      "\u001b[1;31m---------------------------------------------------------------------------\u001b[0m",
      "\u001b[1;31mImportError\u001b[0m                               Traceback (most recent call last)",
      "\u001b[1;32m<ipython-input-2-abfe43451465>\u001b[0m in \u001b[0;36m<module>\u001b[1;34m\u001b[0m\n\u001b[0;32m      1\u001b[0m \u001b[1;31m# Find and load the raw TIFF files\u001b[0m\u001b[1;33m\u001b[0m\u001b[1;33m\u001b[0m\u001b[1;33m\u001b[0m\u001b[0m\n\u001b[1;32m----> 2\u001b[1;33m \u001b[0mcommon_img\u001b[0m\u001b[1;33m.\u001b[0m\u001b[0mRawImagingFile\u001b[0m\u001b[1;33m.\u001b[0m\u001b[0mpopulate\u001b[0m\u001b[1;33m(\u001b[0m\u001b[0mdict\u001b[0m\u001b[1;33m(\u001b[0m\u001b[0musername\u001b[0m\u001b[1;33m=\u001b[0m\u001b[1;34m'hheise'\u001b[0m\u001b[1;33m)\u001b[0m\u001b[1;33m)\u001b[0m\u001b[1;33m\u001b[0m\u001b[1;33m\u001b[0m\u001b[0m\n\u001b[0m",
      "\u001b[1;32mC:\\Anaconda3\\envs\\caiman\\lib\\site-packages\\datajoint\\autopopulate.py\u001b[0m in \u001b[0;36mpopulate\u001b[1;34m(self, suppress_errors, return_exception_objects, reserve_jobs, order, limit, max_calls, display_progress, make_kwargs, *restrictions)\u001b[0m\n\u001b[0;32m    162\u001b[0m \u001b[1;33m\u001b[0m\u001b[0m\n\u001b[0;32m    163\u001b[0m                         \u001b[1;31m# ADAPTED BY HENDRIK TO ALLOW PASSING CUSTOM ARGUMENTS TO MAKE FUNCTION\u001b[0m\u001b[1;33m\u001b[0m\u001b[1;33m\u001b[0m\u001b[1;33m\u001b[0m\u001b[0m\n\u001b[1;32m--> 164\u001b[1;33m                         \u001b[0mmake\u001b[0m\u001b[1;33m(\u001b[0m\u001b[0mdict\u001b[0m\u001b[1;33m(\u001b[0m\u001b[0mkey\u001b[0m\u001b[1;33m)\u001b[0m\u001b[1;33m,\u001b[0m \u001b[1;33m**\u001b[0m\u001b[1;33m(\u001b[0m\u001b[0mmake_kwargs\u001b[0m \u001b[1;32mor\u001b[0m \u001b[1;33m{\u001b[0m\u001b[1;33m}\u001b[0m\u001b[1;33m)\u001b[0m\u001b[1;33m)\u001b[0m\u001b[1;33m\u001b[0m\u001b[1;33m\u001b[0m\u001b[0m\n\u001b[0m\u001b[0;32m    165\u001b[0m \u001b[1;33m\u001b[0m\u001b[0m\n\u001b[0;32m    166\u001b[0m                     \u001b[1;32mexcept\u001b[0m \u001b[1;33m(\u001b[0m\u001b[0mKeyboardInterrupt\u001b[0m\u001b[1;33m,\u001b[0m \u001b[0mSystemExit\u001b[0m\u001b[1;33m,\u001b[0m \u001b[0mException\u001b[0m\u001b[1;33m)\u001b[0m \u001b[1;32mas\u001b[0m \u001b[0merror\u001b[0m\u001b[1;33m:\u001b[0m\u001b[1;33m\u001b[0m\u001b[1;33m\u001b[0m\u001b[0m\n",
      "\u001b[1;32m~\\PycharmProjects\\datajoint_wahl\\schema\\common_img.py\u001b[0m in \u001b[0;36mmake\u001b[1;34m(self, key)\u001b[0m\n\u001b[0;32m    209\u001b[0m         \u001b[1;32mif\u001b[0m \u001b[0mlen\u001b[0m\u001b[1;33m(\u001b[0m\u001b[0mfile_list\u001b[0m\u001b[1;33m)\u001b[0m \u001b[1;33m==\u001b[0m \u001b[1;36m0\u001b[0m\u001b[1;33m:\u001b[0m\u001b[1;33m\u001b[0m\u001b[1;33m\u001b[0m\u001b[0m\n\u001b[0;32m    210\u001b[0m             raise ImportError(\"No files found in {} that fit the patterns {}!\".format(path, default_params['imaging'][\n\u001b[1;32m--> 211\u001b[1;33m                 'scientifica_file']))\n\u001b[0m\u001b[0;32m    212\u001b[0m \u001b[1;33m\u001b[0m\u001b[0m\n\u001b[0;32m    213\u001b[0m         \u001b[1;31m# Sort list by postfix number\u001b[0m\u001b[1;33m\u001b[0m\u001b[1;33m\u001b[0m\u001b[1;33m\u001b[0m\u001b[0m\n",
      "\u001b[1;31mImportError\u001b[0m: No files found in W:\\Neurophysiology-Storage1\\Wahl\\Hendrik\\PhD\\Data\\Batch3\\M33\\20200818 that fit the patterns ['file_000??.tif', 'f_000??.tif']!"
     ]
    }
   ],
   "source": [
    "# Find and load the raw TIFF files\n",
    "common_img.RawImagingFile.populate(dict(username='hheise'))"
   ]
  },
  {
   "cell_type": "markdown",
   "id": "df7dac25",
   "metadata": {},
   "source": [
    "## Finish VR behavior pipeline\n",
    "\n",
    "Now we can populate the rest of the VR behavior tables without interruption."
   ]
  },
  {
   "cell_type": "code",
   "execution_count": null,
   "id": "b79761a0",
   "metadata": {
    "scrolled": false
   },
   "outputs": [],
   "source": [
    "%%notify\n",
    "\n",
    "# Analyse the VR behavior, now that frame counts of imaging trials are loaded in the database\n",
    "hheise_behav.VRLogFile.populate(display_progress=True)\n",
    "hheise_behav.VRLog.populate(display_progress=True)\n",
    "hheise_behav.VRSession.populate(display_progress=True)\n",
    "hheise_behav.VRPerformance.populate(display_progress=True)\n",
    "hheise_behav.PerformanceTrend.populate(display_progress=True)"
   ]
  },
  {
   "cell_type": "markdown",
   "id": "4a7d7624",
   "metadata": {},
   "source": [
    "## CaImAn pipeline\n",
    "\n",
    "Here, the actual CaImAn segmentation pipeline starts. Each of these tables should run automatically, but might throw errors, so check in regularly. Computation times are now really long, especially for `MotionCorrection` and `Segmentation` (approx 1h each per session)."
   ]
  },
  {
   "cell_type": "code",
   "execution_count": 12,
   "id": "63e88ba6",
   "metadata": {
    "scrolled": true
   },
   "outputs": [
    {
     "name": "stderr",
     "output_type": "stream",
     "text": [
      "\r",
      "ScanInfo:   0%|                                                                                 | 0/41 [00:00<?, ?it/s]"
     ]
    },
    {
     "name": "stdout",
     "output_type": "stream",
     "text": [
      "Populating ScanInfo for key: {'username': 'hheise', 'mouse_id': 33, 'day': datetime.date(2020, 8, 18), 'session_num': 1}\n"
     ]
    },
    {
     "name": "stderr",
     "output_type": "stream",
     "text": [
      "\r",
      "ScanInfo:   2%|█▊                                                                       | 1/41 [00:03<02:13,  3.33s/it]"
     ]
    },
    {
     "name": "stdout",
     "output_type": "stream",
     "text": [
      "Populating ScanInfo for key: {'username': 'hheise', 'mouse_id': 33, 'day': datetime.date(2020, 8, 19), 'session_num': 1}\n"
     ]
    },
    {
     "name": "stderr",
     "output_type": "stream",
     "text": [
      "\r",
      "ScanInfo:   5%|███▌                                                                     | 2/41 [00:07<02:24,  3.70s/it]"
     ]
    },
    {
     "name": "stdout",
     "output_type": "stream",
     "text": [
      "Populating ScanInfo for key: {'username': 'hheise', 'mouse_id': 33, 'day': datetime.date(2020, 8, 20), 'session_num': 1}\n"
     ]
    },
    {
     "name": "stderr",
     "output_type": "stream",
     "text": [
      "\r",
      "ScanInfo:   7%|█████▎                                                                   | 3/41 [00:11<02:28,  3.90s/it]"
     ]
    },
    {
     "name": "stdout",
     "output_type": "stream",
     "text": [
      "Populating ScanInfo for key: {'username': 'hheise', 'mouse_id': 33, 'day': datetime.date(2020, 8, 21), 'session_num': 1}\n"
     ]
    },
    {
     "name": "stderr",
     "output_type": "stream",
     "text": [
      "\r",
      "ScanInfo:  10%|███████                                                                  | 4/41 [00:17<02:51,  4.64s/it]"
     ]
    },
    {
     "name": "stdout",
     "output_type": "stream",
     "text": [
      "Populating ScanInfo for key: {'username': 'hheise', 'mouse_id': 33, 'day': datetime.date(2020, 8, 24), 'session_num': 1}\n"
     ]
    },
    {
     "name": "stderr",
     "output_type": "stream",
     "text": [
      "\r",
      "ScanInfo:  12%|████████▉                                                                | 5/41 [00:23<03:06,  5.19s/it]"
     ]
    },
    {
     "name": "stdout",
     "output_type": "stream",
     "text": [
      "Populating ScanInfo for key: {'username': 'hheise', 'mouse_id': 33, 'day': datetime.date(2020, 8, 27), 'session_num': 1}\n"
     ]
    },
    {
     "name": "stderr",
     "output_type": "stream",
     "text": [
      "\r",
      "ScanInfo:  15%|██████████▋                                                              | 6/41 [00:32<03:48,  6.53s/it]"
     ]
    },
    {
     "name": "stdout",
     "output_type": "stream",
     "text": [
      "Populating ScanInfo for key: {'username': 'hheise', 'mouse_id': 33, 'day': datetime.date(2020, 8, 30), 'session_num': 1}\n"
     ]
    },
    {
     "name": "stderr",
     "output_type": "stream",
     "text": [
      "\r",
      "ScanInfo:  17%|████████████▍                                                            | 7/41 [00:40<03:59,  7.03s/it]"
     ]
    },
    {
     "name": "stdout",
     "output_type": "stream",
     "text": [
      "Populating ScanInfo for key: {'username': 'hheise', 'mouse_id': 33, 'day': datetime.date(2020, 9, 2), 'session_num': 1}\n"
     ]
    },
    {
     "name": "stderr",
     "output_type": "stream",
     "text": [
      "\r",
      "ScanInfo:  20%|██████████████▏                                                          | 8/41 [00:45<03:33,  6.47s/it]"
     ]
    },
    {
     "name": "stdout",
     "output_type": "stream",
     "text": [
      "Populating ScanInfo for key: {'username': 'hheise', 'mouse_id': 33, 'day': datetime.date(2020, 9, 8), 'session_num': 1}\n"
     ]
    },
    {
     "name": "stderr",
     "output_type": "stream",
     "text": [
      "\r",
      "ScanInfo:  22%|████████████████                                                         | 9/41 [00:53<03:35,  6.73s/it]"
     ]
    },
    {
     "name": "stdout",
     "output_type": "stream",
     "text": [
      "Populating ScanInfo for key: {'username': 'hheise', 'mouse_id': 33, 'day': datetime.date(2020, 9, 11), 'session_num': 1}\n"
     ]
    },
    {
     "name": "stderr",
     "output_type": "stream",
     "text": [
      "\r",
      "ScanInfo:  24%|█████████████████▌                                                      | 10/41 [00:59<03:26,  6.65s/it]"
     ]
    },
    {
     "name": "stdout",
     "output_type": "stream",
     "text": [
      "Populating ScanInfo for key: {'username': 'hheise', 'mouse_id': 38, 'day': datetime.date(2020, 8, 18), 'session_num': 1}\n"
     ]
    },
    {
     "name": "stderr",
     "output_type": "stream",
     "text": [
      "\r",
      "ScanInfo:  27%|███████████████████▎                                                    | 11/41 [01:29<06:51, 13.70s/it]"
     ]
    },
    {
     "name": "stdout",
     "output_type": "stream",
     "text": [
      "Populating ScanInfo for key: {'username': 'hheise', 'mouse_id': 38, 'day': datetime.date(2020, 8, 19), 'session_num': 1}\n"
     ]
    },
    {
     "name": "stderr",
     "output_type": "stream",
     "text": [
      "\r",
      "ScanInfo:  29%|█████████████████████                                                   | 12/41 [01:41<06:28, 13.38s/it]"
     ]
    },
    {
     "name": "stdout",
     "output_type": "stream",
     "text": [
      "Populating ScanInfo for key: {'username': 'hheise', 'mouse_id': 38, 'day': datetime.date(2020, 8, 20), 'session_num': 1}\n"
     ]
    },
    {
     "name": "stderr",
     "output_type": "stream",
     "text": [
      "\r",
      "ScanInfo:  32%|██████████████████████▊                                                 | 13/41 [01:53<05:56, 12.73s/it]"
     ]
    },
    {
     "name": "stdout",
     "output_type": "stream",
     "text": [
      "Populating ScanInfo for key: {'username': 'hheise', 'mouse_id': 38, 'day': datetime.date(2020, 8, 21), 'session_num': 1}\n"
     ]
    },
    {
     "name": "stderr",
     "output_type": "stream",
     "text": [
      "\r",
      "ScanInfo:  34%|████████████████████████▌                                               | 14/41 [02:16<07:13, 16.07s/it]"
     ]
    },
    {
     "name": "stdout",
     "output_type": "stream",
     "text": [
      "Populating ScanInfo for key: {'username': 'hheise', 'mouse_id': 38, 'day': datetime.date(2020, 8, 24), 'session_num': 1}\n"
     ]
    },
    {
     "name": "stderr",
     "output_type": "stream",
     "text": [
      "\r",
      "ScanInfo:  37%|██████████████████████████▎                                             | 15/41 [02:45<08:38, 19.93s/it]"
     ]
    },
    {
     "name": "stdout",
     "output_type": "stream",
     "text": [
      "Populating ScanInfo for key: {'username': 'hheise', 'mouse_id': 38, 'day': datetime.date(2020, 8, 26), 'session_num': 1}\n"
     ]
    },
    {
     "name": "stderr",
     "output_type": "stream",
     "text": [
      "\r",
      "ScanInfo:  39%|████████████████████████████                                            | 16/41 [02:59<07:30, 18.00s/it]"
     ]
    },
    {
     "name": "stdout",
     "output_type": "stream",
     "text": [
      "Populating ScanInfo for key: {'username': 'hheise', 'mouse_id': 38, 'day': datetime.date(2020, 8, 27), 'session_num': 1}\n"
     ]
    },
    {
     "name": "stderr",
     "output_type": "stream",
     "text": [
      "\r",
      "ScanInfo:  41%|█████████████████████████████▊                                          | 17/41 [03:17<07:14, 18.09s/it]"
     ]
    },
    {
     "name": "stdout",
     "output_type": "stream",
     "text": [
      "Populating ScanInfo for key: {'username': 'hheise', 'mouse_id': 38, 'day': datetime.date(2020, 8, 30), 'session_num': 1}\n"
     ]
    },
    {
     "name": "stderr",
     "output_type": "stream",
     "text": [
      "\r",
      "ScanInfo:  44%|███████████████████████████████▌                                        | 18/41 [03:25<05:42, 14.88s/it]"
     ]
    },
    {
     "name": "stdout",
     "output_type": "stream",
     "text": [
      "Populating ScanInfo for key: {'username': 'hheise', 'mouse_id': 38, 'day': datetime.date(2020, 9, 2), 'session_num': 1}\n"
     ]
    },
    {
     "name": "stderr",
     "output_type": "stream",
     "text": [
      "\r",
      "ScanInfo:  46%|█████████████████████████████████▎                                      | 19/41 [03:29<04:18, 11.75s/it]"
     ]
    },
    {
     "name": "stdout",
     "output_type": "stream",
     "text": [
      "Populating ScanInfo for key: {'username': 'hheise', 'mouse_id': 38, 'day': datetime.date(2020, 9, 5), 'session_num': 1}\n"
     ]
    },
    {
     "name": "stderr",
     "output_type": "stream",
     "text": [
      "\r",
      "ScanInfo:  49%|███████████████████████████████████                                     | 20/41 [03:35<03:27,  9.88s/it]"
     ]
    },
    {
     "name": "stdout",
     "output_type": "stream",
     "text": [
      "Populating ScanInfo for key: {'username': 'hheise', 'mouse_id': 38, 'day': datetime.date(2020, 9, 8), 'session_num': 1}\n"
     ]
    },
    {
     "name": "stderr",
     "output_type": "stream",
     "text": [
      "\r",
      "ScanInfo:  51%|████████████████████████████████████▉                                   | 21/41 [03:40<02:50,  8.53s/it]"
     ]
    },
    {
     "name": "stdout",
     "output_type": "stream",
     "text": [
      "Populating ScanInfo for key: {'username': 'hheise', 'mouse_id': 38, 'day': datetime.date(2020, 9, 11), 'session_num': 1}\n"
     ]
    },
    {
     "name": "stderr",
     "output_type": "stream",
     "text": [
      "\r",
      "ScanInfo:  54%|██████████████████████████████████████▋                                 | 22/41 [03:55<03:17, 10.41s/it]"
     ]
    },
    {
     "name": "stdout",
     "output_type": "stream",
     "text": [
      "Populating ScanInfo for key: {'username': 'hheise', 'mouse_id': 39, 'day': datetime.date(2020, 8, 18), 'session_num': 1}\n"
     ]
    },
    {
     "name": "stderr",
     "output_type": "stream",
     "text": [
      "\r",
      "ScanInfo:  56%|████████████████████████████████████████▍                               | 23/41 [04:06<03:13, 10.74s/it]"
     ]
    },
    {
     "name": "stdout",
     "output_type": "stream",
     "text": [
      "Populating ScanInfo for key: {'username': 'hheise', 'mouse_id': 39, 'day': datetime.date(2020, 8, 19), 'session_num': 1}\n"
     ]
    },
    {
     "name": "stderr",
     "output_type": "stream",
     "text": [
      "\r",
      "ScanInfo:  59%|██████████████████████████████████████████▏                             | 24/41 [04:22<03:26, 12.13s/it]"
     ]
    },
    {
     "name": "stdout",
     "output_type": "stream",
     "text": [
      "Populating ScanInfo for key: {'username': 'hheise', 'mouse_id': 39, 'day': datetime.date(2020, 8, 20), 'session_num': 1}\n"
     ]
    },
    {
     "name": "stderr",
     "output_type": "stream",
     "text": [
      "\r",
      "ScanInfo:  61%|███████████████████████████████████████████▉                            | 25/41 [04:37<03:28, 13.03s/it]"
     ]
    },
    {
     "name": "stdout",
     "output_type": "stream",
     "text": [
      "Populating ScanInfo for key: {'username': 'hheise', 'mouse_id': 39, 'day': datetime.date(2020, 8, 21), 'session_num': 1}\n"
     ]
    },
    {
     "name": "stderr",
     "output_type": "stream",
     "text": [
      "\r",
      "ScanInfo:  63%|█████████████████████████████████████████████▋                          | 26/41 [04:43<02:43, 10.88s/it]"
     ]
    },
    {
     "name": "stdout",
     "output_type": "stream",
     "text": [
      "Populating ScanInfo for key: {'username': 'hheise', 'mouse_id': 39, 'day': datetime.date(2020, 8, 24), 'session_num': 1}\n"
     ]
    },
    {
     "name": "stderr",
     "output_type": "stream",
     "text": [
      "\r",
      "ScanInfo:  66%|███████████████████████████████████████████████▍                        | 27/41 [04:56<02:43, 11.70s/it]"
     ]
    },
    {
     "name": "stdout",
     "output_type": "stream",
     "text": [
      "Populating ScanInfo for key: {'username': 'hheise', 'mouse_id': 39, 'day': datetime.date(2020, 8, 26), 'session_num': 1}\n"
     ]
    },
    {
     "name": "stderr",
     "output_type": "stream",
     "text": [
      "\r",
      "ScanInfo:  68%|█████████████████████████████████████████████████▏                      | 28/41 [05:09<02:35, 11.93s/it]"
     ]
    },
    {
     "name": "stdout",
     "output_type": "stream",
     "text": [
      "Populating ScanInfo for key: {'username': 'hheise', 'mouse_id': 39, 'day': datetime.date(2020, 8, 27), 'session_num': 1}\n"
     ]
    },
    {
     "name": "stderr",
     "output_type": "stream",
     "text": [
      "\r",
      "ScanInfo:  71%|██████████████████████████████████████████████████▉                     | 29/41 [05:21<02:23, 11.92s/it]"
     ]
    },
    {
     "name": "stdout",
     "output_type": "stream",
     "text": [
      "Populating ScanInfo for key: {'username': 'hheise', 'mouse_id': 41, 'day': datetime.date(2020, 8, 18), 'session_num': 1}\n"
     ]
    },
    {
     "name": "stderr",
     "output_type": "stream",
     "text": [
      "\r",
      "ScanInfo:  73%|████████████████████████████████████████████████████▋                   | 30/41 [05:23<01:38,  8.96s/it]"
     ]
    },
    {
     "name": "stdout",
     "output_type": "stream",
     "text": [
      "Populating ScanInfo for key: {'username': 'hheise', 'mouse_id': 41, 'day': datetime.date(2020, 8, 19), 'session_num': 1}\n"
     ]
    },
    {
     "name": "stderr",
     "output_type": "stream",
     "text": [
      "\r",
      "ScanInfo:  76%|██████████████████████████████████████████████████████▍                 | 31/41 [05:25<01:09,  6.96s/it]"
     ]
    },
    {
     "name": "stdout",
     "output_type": "stream",
     "text": [
      "Populating ScanInfo for key: {'username': 'hheise', 'mouse_id': 41, 'day': datetime.date(2020, 8, 20), 'session_num': 1}\n"
     ]
    },
    {
     "name": "stderr",
     "output_type": "stream",
     "text": [
      "\r",
      "ScanInfo:  78%|████████████████████████████████████████████████████████▏               | 32/41 [05:27<00:49,  5.53s/it]"
     ]
    },
    {
     "name": "stdout",
     "output_type": "stream",
     "text": [
      "Populating ScanInfo for key: {'username': 'hheise', 'mouse_id': 41, 'day': datetime.date(2020, 8, 21), 'session_num': 1}\n"
     ]
    },
    {
     "name": "stderr",
     "output_type": "stream",
     "text": [
      "\r",
      "ScanInfo:  80%|█████████████████████████████████████████████████████████▉              | 33/41 [05:30<00:37,  4.64s/it]"
     ]
    },
    {
     "name": "stdout",
     "output_type": "stream",
     "text": [
      "Populating ScanInfo for key: {'username': 'hheise', 'mouse_id': 41, 'day': datetime.date(2020, 8, 24), 'session_num': 1}\n"
     ]
    },
    {
     "name": "stderr",
     "output_type": "stream",
     "text": [
      "\r",
      "ScanInfo:  83%|███████████████████████████████████████████████████████████▋            | 34/41 [05:32<00:26,  3.83s/it]"
     ]
    },
    {
     "name": "stdout",
     "output_type": "stream",
     "text": [
      "Populating ScanInfo for key: {'username': 'hheise', 'mouse_id': 41, 'day': datetime.date(2020, 8, 26), 'session_num': 1}\n"
     ]
    },
    {
     "name": "stderr",
     "output_type": "stream",
     "text": [
      "\r",
      "ScanInfo:  85%|█████████████████████████████████████████████████████████████▍          | 35/41 [05:36<00:23,  3.87s/it]"
     ]
    },
    {
     "name": "stdout",
     "output_type": "stream",
     "text": [
      "Populating ScanInfo for key: {'username': 'hheise', 'mouse_id': 41, 'day': datetime.date(2020, 8, 27), 'session_num': 1}\n"
     ]
    },
    {
     "name": "stderr",
     "output_type": "stream",
     "text": [
      "\r",
      "ScanInfo:  88%|███████████████████████████████████████████████████████████████▏        | 36/41 [05:54<00:41,  8.36s/it]"
     ]
    },
    {
     "name": "stdout",
     "output_type": "stream",
     "text": [
      "Populating ScanInfo for key: {'username': 'hheise', 'mouse_id': 41, 'day': datetime.date(2020, 8, 30), 'session_num': 1}\n"
     ]
    },
    {
     "name": "stderr",
     "output_type": "stream",
     "text": [
      "\r",
      "ScanInfo:  90%|████████████████████████████████████████████████████████████████▉       | 37/41 [05:57<00:26,  6.73s/it]"
     ]
    },
    {
     "name": "stdout",
     "output_type": "stream",
     "text": [
      "Populating ScanInfo for key: {'username': 'hheise', 'mouse_id': 41, 'day': datetime.date(2020, 9, 2), 'session_num': 1}\n"
     ]
    },
    {
     "name": "stderr",
     "output_type": "stream",
     "text": [
      "\r",
      "ScanInfo:  93%|██████████████████████████████████████████████████████████████████▋     | 38/41 [06:00<00:16,  5.61s/it]"
     ]
    },
    {
     "name": "stdout",
     "output_type": "stream",
     "text": [
      "Populating ScanInfo for key: {'username': 'hheise', 'mouse_id': 41, 'day': datetime.date(2020, 9, 5), 'session_num': 1}\n"
     ]
    },
    {
     "name": "stderr",
     "output_type": "stream",
     "text": [
      "\r",
      "ScanInfo:  95%|████████████████████████████████████████████████████████████████████▍   | 39/41 [06:04<00:09,  4.87s/it]"
     ]
    },
    {
     "name": "stdout",
     "output_type": "stream",
     "text": [
      "Populating ScanInfo for key: {'username': 'hheise', 'mouse_id': 41, 'day': datetime.date(2020, 9, 8), 'session_num': 1}\n"
     ]
    },
    {
     "name": "stderr",
     "output_type": "stream",
     "text": [
      "\r",
      "ScanInfo:  98%|██████████████████████████████████████████████████████████████████████▏ | 40/41 [06:06<00:04,  4.09s/it]"
     ]
    },
    {
     "name": "stdout",
     "output_type": "stream",
     "text": [
      "Populating ScanInfo for key: {'username': 'hheise', 'mouse_id': 41, 'day': datetime.date(2020, 9, 11), 'session_num': 1}\n"
     ]
    },
    {
     "name": "stderr",
     "output_type": "stream",
     "text": [
      "ScanInfo: 100%|████████████████████████████████████████████████████████████████████████| 41/41 [06:09<00:00,  9.00s/it]\n"
     ]
    },
    {
     "data": {
      "application/javascript": [
       "$(document).ready(\n",
       "    function() {\n",
       "        function appendUniqueDiv(){\n",
       "            // append a div with our uuid so we can check that it's already\n",
       "            // been sent and avoid duplicates on page reload\n",
       "            var notifiedDiv = document.createElement(\"div\")\n",
       "            notifiedDiv.id = \"28d494bd-0c6e-4495-95bd-96849c031315\"\n",
       "            element.append(notifiedDiv)\n",
       "        }\n",
       "\n",
       "        // only send notifications if the pageload is complete; this will\n",
       "        // help stop extra notifications when a saved notebook is loaded,\n",
       "        // which during testing gives us state \"interactive\", not \"complete\"\n",
       "        if (document.readyState === 'complete') {\n",
       "            // check for the div that signifies that the notification\n",
       "            // was already sent\n",
       "            if (document.getElementById(\"28d494bd-0c6e-4495-95bd-96849c031315\") === null) {\n",
       "                var notificationPayload = {\"requireInteraction\": false, \"icon\": \"/static/base/images/favicon.ico\", \"body\": \"Cell execution has finished!\"};\n",
       "                if (Notification.permission !== 'denied') {\n",
       "                    if (Notification.permission !== 'granted') { \n",
       "                        Notification.requestPermission(function (permission) {\n",
       "                            if(!('permission' in Notification)) {\n",
       "                                Notification.permission = permission\n",
       "                            }\n",
       "                        })\n",
       "                    }\n",
       "                    if (Notification.permission === 'granted') {\n",
       "                    var notification = new Notification(\"Jupyter Notebook\", notificationPayload)\n",
       "                    appendUniqueDiv()\n",
       "                    notification.onclick = function () {\n",
       "                        window.focus();\n",
       "                        this.close();\n",
       "                        };\n",
       "                    } \n",
       "                }     \n",
       "            }\n",
       "        }\n",
       "    }\n",
       ")\n"
      ],
      "text/plain": [
       "<IPython.core.display.Javascript object>"
      ]
     },
     "metadata": {},
     "output_type": "display_data"
    }
   ],
   "source": [
    "%%notify\n",
    "\n",
    "# After VR behavior is fully analysed, we can start with the CaImAn pipeline\n",
    "common_img.ScanInfo.populate(dict(username='hheise'), display_progress=True)"
   ]
  },
  {
   "cell_type": "code",
   "execution_count": 7,
   "id": "bfb5c3d1",
   "metadata": {},
   "outputs": [
    {
     "data": {
      "text/html": [
       "\n",
       "    \n",
       "    <style type=\"text/css\">\n",
       "        .Relation{\n",
       "            border-collapse:collapse;\n",
       "        }\n",
       "        .Relation th{\n",
       "            background: #A0A0A0; color: #ffffff; padding:4px; border:#f0e0e0 1px solid;\n",
       "            font-weight: normal; font-family: monospace; font-size: 100%;\n",
       "        }\n",
       "        .Relation td{\n",
       "            padding:4px; border:#f0e0e0 1px solid; font-size:100%;\n",
       "        }\n",
       "        .Relation tr:nth-child(odd){\n",
       "            background: #ffffff;\n",
       "        }\n",
       "        .Relation tr:nth-child(even){\n",
       "            background: #f3f1ff;\n",
       "        }\n",
       "        /* Tooltip container */\n",
       "        .djtooltip {\n",
       "        }\n",
       "        /* Tooltip text */\n",
       "        .djtooltip .djtooltiptext {\n",
       "            visibility: hidden;\n",
       "            width: 120px;\n",
       "            background-color: black;\n",
       "            color: #fff;\n",
       "            text-align: center;\n",
       "            padding: 5px 0;\n",
       "            border-radius: 6px;\n",
       "            /* Position the tooltip text - see examples below! */\n",
       "            position: absolute;\n",
       "            z-index: 1;\n",
       "        }\n",
       "        #primary {\n",
       "            font-weight: bold;\n",
       "            color: black;\n",
       "        }\n",
       "        #nonprimary {\n",
       "            font-weight: normal;\n",
       "            color: white;\n",
       "        }\n",
       "\n",
       "        /* Show the tooltip text when you mouse over the tooltip container */\n",
       "        .djtooltip:hover .djtooltiptext {\n",
       "            visibility: visible;\n",
       "        }\n",
       "    </style>\n",
       "    \n",
       "    <b>Storage of sets of CaImAn motion correction parameters plus some custom parameters</b>\n",
       "        <div style=\"max-height:1000px;max-width:1500px;overflow:auto;\">\n",
       "        <table border=\"1\" class=\"Relation\">\n",
       "            <thead> <tr style=\"text-align: right;\"> <th> <div class=\"djtooltip\">\n",
       "                            <p id=\"primary\">motion_id</p>\n",
       "                            <span class=\"djtooltiptext\">index for unique parameter set, base 0</span>\n",
       "                        </div></th><th><div class=\"djtooltip\">\n",
       "                            <p id=\"nonprimary\">motion_shortname</p>\n",
       "                            <span class=\"djtooltiptext\">Short meaningful name of parameter set</span>\n",
       "                        </div></th><th><div class=\"djtooltip\">\n",
       "                            <p id=\"nonprimary\">motion_description</p>\n",
       "                            <span class=\"djtooltiptext\">Longer description of conditions for which this parameter set fits</span>\n",
       "                        </div></th><th><div class=\"djtooltip\">\n",
       "                            <p id=\"nonprimary\">crop_left</p>\n",
       "                            <span class=\"djtooltiptext\">Pixels to crop on the left to remove scanning artifacts before MC.</span>\n",
       "                        </div></th><th><div class=\"djtooltip\">\n",
       "                            <p id=\"nonprimary\">crop_right</p>\n",
       "                            <span class=\"djtooltiptext\">See crop_left. The actual movie is not cropped here, but in MemoryMappedFile(),</span>\n",
       "                        </div></th><th><div class=\"djtooltip\">\n",
       "                            <p id=\"nonprimary\">offset</p>\n",
       "                            <span class=\"djtooltiptext\">Fixed value that is added to all pixels to make mean pixel values positive.</span>\n",
       "                        </div></th><th><div class=\"djtooltip\">\n",
       "                            <p id=\"nonprimary\">max_shift</p>\n",
       "                            <span class=\"djtooltiptext\">maximum allowed rigid shifts (in um)</span>\n",
       "                        </div></th><th><div class=\"djtooltip\">\n",
       "                            <p id=\"nonprimary\">stride_mc</p>\n",
       "                            <span class=\"djtooltiptext\">stride size for non-rigid correction (in um), patch size is stride+overlap)</span>\n",
       "                        </div></th><th><div class=\"djtooltip\">\n",
       "                            <p id=\"nonprimary\">overlap_mc</p>\n",
       "                            <span class=\"djtooltiptext\">Overlap between patches, in pixels</span>\n",
       "                        </div></th><th><div class=\"djtooltip\">\n",
       "                            <p id=\"nonprimary\">pw_rigid</p>\n",
       "                            <span class=\"djtooltiptext\">flag for performing rigid  or piecewise (patch-wise) rigid mc (0: rigid, 1: pw)</span>\n",
       "                        </div></th><th><div class=\"djtooltip\">\n",
       "                            <p id=\"nonprimary\">max_dev_rigid</p>\n",
       "                            <span class=\"djtooltiptext\">maximum deviation allowed for patches with respect to rigid shift</span>\n",
       "                        </div></th><th><div class=\"djtooltip\">\n",
       "                            <p id=\"nonprimary\">border_nan</p>\n",
       "                            <span class=\"djtooltiptext\">flag for allowing NaN in the boundaries. If False, value of the nearest data point</span>\n",
       "                        </div></th><th><div class=\"djtooltip\">\n",
       "                            <p id=\"nonprimary\">n_iter_rig</p>\n",
       "                            <span class=\"djtooltiptext\">Number of iterations for rigid motion correction (not used for pw-rigid)</span>\n",
       "                        </div></th><th><div class=\"djtooltip\">\n",
       "                            <p id=\"nonprimary\">nonneg_movie</p>\n",
       "                            <span class=\"djtooltiptext\">flag for producing a non-negative movie</span>\n",
       "                        </div> </th> </tr> </thead>\n",
       "            <tbody> <tr> <td>0</td>\n",
       "<td>default</td>\n",
       "<td>Default values that work well from Hendriks previous experience. Uses piecewise-rigid correction.</td>\n",
       "<td>12</td>\n",
       "<td>12</td>\n",
       "<td>220</td>\n",
       "<td>50</td>\n",
       "<td>150</td>\n",
       "<td>30</td>\n",
       "<td>1</td>\n",
       "<td>3</td>\n",
       "<td>0</td>\n",
       "<td>2</td>\n",
       "<td>1</td> </tr> </tbody>\n",
       "        </table>\n",
       "        \n",
       "        <p>Total: 1</p></div>\n",
       "        "
      ],
      "text/plain": [
       "*motion_id    motion_shortna motion_descrip crop_left     crop_right     offset     max_shift     stride_mc     overlap_mc     pw_rigid     max_dev_rigid  border_nan     n_iter_rig     nonneg_movie  \n",
       "+-----------+ +------------+ +------------+ +-----------+ +------------+ +--------+ +-----------+ +-----------+ +------------+ +----------+ +------------+ +------------+ +------------+ +------------+\n",
       "0             default        Default values 12            12             220        50            150           30             1            3              0              2              1             \n",
       " (Total: 1)"
      ]
     },
     "execution_count": 7,
     "metadata": {},
     "output_type": "execute_result"
    }
   ],
   "source": [
    "# Check which available MotionParameter set you want to use for you motion correction\n",
    "common_img.MotionParameter()"
   ]
  },
  {
   "cell_type": "code",
   "execution_count": null,
   "id": "ebf13339",
   "metadata": {},
   "outputs": [],
   "source": [
    "%%notify\n",
    "# Run motion correction and quality control (which checks quality of motion correction)\n",
    "common_img.MotionCorrection.populate(dict(username='hheise', motion_id=0), display_progress=True)\n"
   ]
  },
  {
   "cell_type": "code",
   "execution_count": null,
   "id": "ffe9be49",
   "metadata": {
    "scrolled": true
   },
   "outputs": [],
   "source": [
    "%%notify\n",
    "common_img.QualityControl.populate(dict(username='hheise'), display_progress=True)"
   ]
  },
  {
   "cell_type": "code",
   "execution_count": null,
   "id": "461b62f0",
   "metadata": {},
   "outputs": [],
   "source": [
    "%%notify\n",
    "common_img.Segmentation.populate(dict(username='hheise'), display_progress=True, make_kwargs=dict(save_overviews=True))"
   ]
  },
  {
   "cell_type": "code",
   "execution_count": 4,
   "id": "4e96e374",
   "metadata": {
    "scrolled": true
   },
   "outputs": [
    {
     "name": "stdout",
     "output_type": "stream",
     "text": [
      "Validating sessions of mouse 82...\n",
      "\t On day 2021-07-16, 20% fewer ROIs than on the previous session were found. (309 vs 541).\n",
      "Validating sessions of mouse 83...\n",
      "\t On day 2021-07-24, 20% more ROIs than on the previous session were found. (661 vs 485).\n",
      "\t On day 2021-08-02, 20% more ROIs than on the previous session were found. (692 vs 570).\n",
      "Validating sessions of mouse 85...\n",
      "\t On day 2021-07-09, 20% more ROIs than on the previous session were found. (687 vs 537).\n",
      "\t On day 2021-07-11, 20% fewer ROIs than on the previous session were found. (423 vs 653).\n",
      "\t On day 2021-07-14, 20% more ROIs than on the previous session were found. (524 vs 423).\n",
      "\t On day 2021-07-19, 20% more ROIs than on the previous session were found. (653 vs 424).\n",
      "\t On day 2021-08-02, 20% fewer ROIs than on the previous session were found. (491 vs 618).\n",
      "\t On day 2021-08-05, 20% more ROIs than on the previous session were found. (699 vs 491).\n",
      "\t On day 2021-08-11, 20% fewer ROIs than on the previous session were found. (444 vs 754).\n",
      "Validating sessions of mouse 86...\n",
      "Validating sessions of mouse 89...\n",
      "\t On day 2021-07-18, 20% fewer ROIs than on the previous session were found. (112 vs 169).\n",
      "\t On day 2021-07-20, 20% fewer ROIs than on the previous session were found. (87 vs 120).\n",
      "\t On day 2021-07-21, 20% more ROIs than on the previous session were found. (117 vs 87).\n",
      "\t On day 2021-07-24, 20% more ROIs than on the previous session were found. (155 vs 117).\n",
      "\t On day 2021-07-27, 20% fewer ROIs than on the previous session were found. (65 vs 155).\n",
      "\t On day 2021-07-30, 20% more ROIs than on the previous session were found. (95 vs 65).\n",
      "\t On day 2021-08-02, 20% more ROIs than on the previous session were found. (198 vs 95).\n",
      "Validating sessions of mouse 90...\n",
      "\t On day 2021-07-11, 20% more ROIs than on the previous session were found. (767 vs 605).\n",
      "\t On day 2021-07-16, 20% fewer ROIs than on the previous session were found. (371 vs 706).\n",
      "\t On day 2021-07-19, 20% more ROIs than on the previous session were found. (845 vs 371).\n",
      "\t On day 2021-07-27, 20% more ROIs than on the previous session were found. (937 vs 753).\n",
      "\t On day 2021-07-30, 20% fewer ROIs than on the previous session were found. (503 vs 937).\n",
      "\t On day 2021-08-02, 20% more ROIs than on the previous session were found. (739 vs 503).\n",
      "Validating sessions of mouse 91...\n",
      "\t On day 2021-07-20, 20% fewer ROIs than on the previous session were found. (984 vs 1298).\n",
      "\t On day 2021-08-02, 20% fewer ROIs than on the previous session were found. (873 vs 1204).\n",
      "\t On day 2021-08-08, 20% more ROIs than on the previous session were found. (1650 vs 873).\n",
      "\t On day 2021-08-11, 20% fewer ROIs than on the previous session were found. (1258 vs 1650).\n",
      "\t On day 2021-08-15, 20% more ROIs than on the previous session were found. (1620 vs 1258).\n",
      "\t On day 2021-08-17, 20% fewer ROIs than on the previous session were found. (1278 vs 1620).\n",
      "Validating sessions of mouse 92...\n",
      "\t On day 2021-07-09, 20% more ROIs than on the previous session were found. (721 vs 402).\n",
      "\t On day 2021-07-10, 20% fewer ROIs than on the previous session were found. (479 vs 721).\n",
      "\t On day 2021-07-15, 20% more ROIs than on the previous session were found. (585 vs 431).\n",
      "\t On day 2021-07-16, 20% fewer ROIs than on the previous session were found. (418 vs 585).\n",
      "\t On day 2021-07-19, 20% fewer ROIs than on the previous session were found. (219 vs 418).\n",
      "Validating sessions of mouse 93...\n",
      "\t On day 2021-07-18, 20% more ROIs than on the previous session were found. (1520 vs 1220).\n",
      "Validating sessions of mouse 94...\n",
      "\t On day 2021-07-09, 20% more ROIs than on the previous session were found. (372 vs 279).\n",
      "\t On day 2021-07-15, 20% fewer ROIs than on the previous session were found. (344 vs 436).\n",
      "\t On day 2021-07-18, 20% more ROIs than on the previous session were found. (462 vs 344).\n",
      "\t On day 2021-07-20, 20% fewer ROIs than on the previous session were found. (373 vs 482).\n",
      "\t On day 2021-07-21, 20% more ROIs than on the previous session were found. (448 vs 373).\n",
      "\t On day 2021-08-08, 20% more ROIs than on the previous session were found. (624 vs 517).\n",
      "\t On day 2021-08-11, 20% fewer ROIs than on the previous session were found. (445 vs 624).\n",
      "Validating sessions of mouse 95...\n",
      "\t On day 2021-07-09, 20% more ROIs than on the previous session were found. (612 vs 447).\n",
      "\t On day 2021-07-14, 20% fewer ROIs than on the previous session were found. (545 vs 712).\n",
      "\t On day 2021-07-15, 20% more ROIs than on the previous session were found. (755 vs 545).\n",
      "\t On day 2021-07-19, 20% fewer ROIs than on the previous session were found. (596 vs 860).\n",
      "\t On day 2021-07-21, 20% more ROIs than on the previous session were found. (781 vs 531).\n",
      "\t On day 2021-07-30, 20% more ROIs than on the previous session were found. (991 vs 811).\n",
      "\t On day 2021-08-11, 20% fewer ROIs than on the previous session were found. (767 vs 1028).\n",
      "\t On day 2021-08-15, 20% more ROIs than on the previous session were found. (951 vs 767).\n"
     ]
    }
   ],
   "source": [
    "# Validate Segmentation to spot irregularities in number of accepted components, which might require parameter adaptation\n",
    "util.validate_segmentation(thr=20, plot_all=True)"
   ]
  },
  {
   "cell_type": "code",
   "execution_count": null,
   "id": "3d27a96d",
   "metadata": {},
   "outputs": [],
   "source": [
    "(common_img.Segmentation.ROI & 'mouse_id=83')"
   ]
  },
  {
   "cell_type": "code",
   "execution_count": null,
   "id": "69855a4b",
   "metadata": {},
   "outputs": [],
   "source": [
    "# Use different parameter set on selected sessions\n",
    "session_keys = [dict(username='hheise', mouse_id=82, day='2021-07-16', session_num=1, caiman_id=1),\n",
    "               dict(username='hheise', mouse_id=83, day='2021-08-02', session_num=1, caiman_id=1),\n",
    "               dict(username='hheise', mouse_id=86, day='2021-07-08', session_num=1, caiman_id=1),\n",
    "               dict(username='hheise', mouse_id=86, day='2021-07-21', session_num=1, caiman_id=1),\n",
    "               dict(username='hheise', mouse_id=90, day='2021-07-16', session_num=1, caiman_id=1),\n",
    "               dict(username='hheise', mouse_id=90, day='2021-07-30', session_num=1, caiman_id=1),\n",
    "               dict(username='hheise', mouse_id=91, day='2021-07-20', session_num=1, caiman_id=1),\n",
    "               dict(username='hheise', mouse_id=91, day='2021-08-02', session_num=1, caiman_id=1),\n",
    "               dict(username='hheise', mouse_id=92, day='2021-07-19', session_num=1, caiman_id=1),\n",
    "               dict(username='hheise', mouse_id=93, day='2021-07-08', session_num=1, caiman_id=1),\n",
    "               dict(username='hheise', mouse_id=93, day='2021-07-09', session_num=1, caiman_id=1),\n",
    "               dict(username='hheise', mouse_id=93, day='2021-07-10', session_num=1, caiman_id=1),\n",
    "               dict(username='hheise', mouse_id=94, day='2021-07-08', session_num=1, caiman_id=1),\n",
    "               dict(username='hheise', mouse_id=94, day='2021-07-09', session_num=1, caiman_id=1),\n",
    "               dict(username='hheise', mouse_id=94, day='2021-07-10', session_num=1, caiman_id=1),\n",
    "               dict(username='hheise', mouse_id=94, day='2021-07-11', session_num=1, caiman_id=1),\n",
    "               dict(username='hheise', mouse_id=94, day='2021-07-15', session_num=1, caiman_id=1),\n",
    "               dict(username='hheise', mouse_id=95, day='2021-07-08', session_num=1, caiman_id=1),\n",
    "               dict(username='hheise', mouse_id=95, day='2021-07-09', session_num=1, caiman_id=1),\n",
    "               dict(username='hheise', mouse_id=95, day='2021-07-10', session_num=1, caiman_id=1),\n",
    "               dict(username='hheise', mouse_id=95, day='2021-07-14', session_num=1, caiman_id=1),\n",
    "               dict(username='hheise', mouse_id=95, day='2021-07-19', session_num=1, caiman_id=1),\n",
    "               dict(username='hheise', mouse_id=95, day='2021-07-20', session_num=1, caiman_id=1)]\n",
    "\n",
    "# Delete old entries with ID 0 before making new one\n",
    "for key in session_keys:\n",
    "    k = key.copy()\n",
    "    k['caiman_id'] = 0\n",
    "    (common_img.Segmentation & k).delete()\n",
    "\n",
    "# Make new entries\n",
    "for key in session_keys:\n",
    "    common_img.Segmentation.populate(key)"
   ]
  },
  {
   "cell_type": "markdown",
   "id": "5b6185c3",
   "metadata": {},
   "source": [
    "## Place Cell Analysis\n",
    "\n",
    "Place Cell Analysis should be straight-forward as well, all tables can be populated in-order."
   ]
  },
  {
   "cell_type": "code",
   "execution_count": null,
   "id": "ec6cea97",
   "metadata": {},
   "outputs": [],
   "source": [
    "# Check entries of PlaceCellParameter and add a parameter set if necessary\n",
    "hheise_placecell.PlaceCellParameter()"
   ]
  },
  {
   "cell_type": "code",
   "execution_count": null,
   "id": "f83ed7f8",
   "metadata": {},
   "outputs": [],
   "source": [
    "# Run the pipeline sequentially\n",
    "# The restriction to my username is only necessary for the first table, since the other tables depend on PCAnalysis\n",
    "hheise_placecell.PCAnalysis.populate(dict(username='hheise'), display_progress=True)\n",
    "hheise_placecell.TransientOnly.populate(display_progress=True)\n",
    "hheise_placecell.Synchronization.populate(display_progress=True)\n",
    "hheise_placecell.BinnedActivity.populate(display_progress=True)\n",
    "hheise_placecell.PlaceCell.populate(display_progress=True)"
   ]
  },
  {
   "cell_type": "code",
   "execution_count": null,
   "id": "f0e682c2",
   "metadata": {},
   "outputs": [],
   "source": [
    "from importlib import reload\n",
    "reload(common_img)"
   ]
  },
  {
   "cell_type": "code",
   "execution_count": null,
   "id": "63662699",
   "metadata": {},
   "outputs": [],
   "source": []
  }
 ],
 "metadata": {
  "kernelspec": {
   "display_name": "Python 3",
   "language": "python",
   "name": "python3"
  },
  "language_info": {
   "codemirror_mode": {
    "name": "ipython",
    "version": 3
   },
   "file_extension": ".py",
   "mimetype": "text/x-python",
   "name": "python",
   "nbconvert_exporter": "python",
   "pygments_lexer": "ipython3",
   "version": "3.7.10"
  }
 },
 "nbformat": 4,
 "nbformat_minor": 5
}
