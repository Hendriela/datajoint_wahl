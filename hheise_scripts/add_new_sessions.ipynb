{
 "cells": [
  {
   "cell_type": "code",
   "execution_count": 1,
   "id": "67d365be",
   "metadata": {},
   "outputs": [
    {
     "name": "stdout",
     "output_type": "stream",
     "text": [
      "Connecting hheise@130.60.53.48:3306\n"
     ]
    }
   ],
   "source": [
    "import sys\n",
    "sys.path.append('..')\n",
    "\n",
    "import login\n",
    "login.connect()\n",
    "from hheise_scripts import hheise_util as util\n",
    "from schema import hheise_behav, common_exp, common_mice, common_img, hheise_placecell\n",
    "\n",
    "import matplotlib\n",
    "%matplotlib qt"
   ]
  },
  {
   "cell_type": "markdown",
   "id": "b820df80",
   "metadata": {},
   "source": [
    "## Enter new Session\n",
    "\n",
    "The database has to know which sessions exist. This is done by **manual** entries in the `common_exp.Session` table. All other analysis steps descend from here. \n",
    "If the session was an imaging session, a manual entry to `common_img.Scan` is also required.\n",
    "For Hendriks session and data structure, the function `add_many_sessions()` adds sessions for multiple mice on the same day automatically (different tasks and switches have to be provided). Also `common_img.Scan` will be filled with Hendriks default values for imaging sessions, the criterion is **any** TIFF-files being present in the session directory."
   ]
  },
  {
   "cell_type": "code",
   "execution_count": null,
   "id": "bb3f146b",
   "metadata": {},
   "outputs": [],
   "source": [
    "# Add multiple entries to common_exp.Session and common_img.Scan\n",
    "# Trial switch is given as base 1!\n",
    "date = '2021-08-15'\n",
    "mice = (83,89,\n",
    "        91,94,95)\n",
    "setup = 'VR_2p'\n",
    "# task = ['Active', 'Active',\n",
    "#         'Active', 'Active', 'Active']\n",
    "# switch = [[-1], [-1],\n",
    "#           [-1], [8], [-1], [-1]]\n",
    "\n",
    "# util.add_many_sessions(date=date, mice=mice, setup=setup, task=task, switch=switch)\n",
    "util.add_many_sessions(date=date, mice=mice, setup=setup)"
   ]
  },
  {
   "cell_type": "markdown",
   "id": "094df02d",
   "metadata": {},
   "source": [
    "## VR Behavior analysis\n",
    "\n",
    "First, `hheise_behav.VRSessionInfo` and `hheise_behav.RawBehaviorFile` have to be populated.\n",
    "This is because `RawBehaviorFile` pre-screens sessions for possible bad trials, which should be removed manually, including the associated TIFF files. Thus, the TIFF files should not be in the database yet."
   ]
  },
  {
   "cell_type": "code",
   "execution_count": null,
   "id": "1c0e571b",
   "metadata": {},
   "outputs": [],
   "source": [
    "# Make entries for hheise_behav.VRSessionInfo and \n",
    "hheise_behav.VRSessionInfo().populate('username=\"hheise\"')"
   ]
  },
  {
   "cell_type": "code",
   "execution_count": null,
   "id": "68b8782a",
   "metadata": {},
   "outputs": [],
   "source": [
    "%matplotlib qt\n",
    "# Pre-screen trials for bad behavior data while populating hheise_behav.RawBehaviorFile\n",
    "# -> Does not work in Jupyter Notebook, call in PyCharm console\n",
    "hheise_behav.RawBehaviorFile().populate()\n",
    "# Delete TIFF files of bad trials if necessary"
   ]
  },
  {
   "cell_type": "markdown",
   "id": "eeb57383",
   "metadata": {},
   "source": [
    "## RawImagingFile\n",
    "\n",
    "Now, `common_img.RawImagingFile` has to be filled before we continue with the VR behavior analysis, because the behavior alignment script needs to know the frame numbers of each trial, which is stored in `common_img.RawImagingFile`."
   ]
  },
  {
   "cell_type": "code",
   "execution_count": null,
   "id": "ebbb7081",
   "metadata": {
    "scrolled": true
   },
   "outputs": [],
   "source": [
    "# Find and load the raw TIFF files\n",
    "common_img.RawImagingFile.populate(dict(username='hheise'))"
   ]
  },
  {
   "cell_type": "markdown",
   "id": "df7dac25",
   "metadata": {},
   "source": [
    "## Finish VR behavior pipeline\n",
    "\n",
    "Now we can populate the rest of the VR behavior tables without interruption."
   ]
  },
  {
   "cell_type": "code",
   "execution_count": null,
   "id": "b79761a0",
   "metadata": {
    "scrolled": false
   },
   "outputs": [],
   "source": [
    "%%notify\n",
    "\n",
    "# Analyse the VR behavior, now that frame counts of imaging trials are loaded in the database\n",
    "hheise_behav.VRLogFile.populate(display_progress=True)\n",
    "hheise_behav.VRLog.populate(display_progress=True)\n",
    "hheise_behav.VRSession.populate(display_progress=True)\n",
    "hheise_behav.VRPerformance.populate(display_progress=True)\n",
    "hheise_behav.PerformanceTrend.populate(display_progress=True)"
   ]
  },
  {
   "cell_type": "markdown",
   "id": "4a7d7624",
   "metadata": {},
   "source": [
    "## CaImAn pipeline\n",
    "\n",
    "Here, the actual CaImAn segmentation pipeline starts. Each of these tables should run automatically, but might throw errors, so check in regularly. Computation times are now really long, especially for `MotionCorrection` and `Segmentation` (approx 1h each per session)."
   ]
  },
  {
   "cell_type": "code",
   "execution_count": null,
   "id": "63e88ba6",
   "metadata": {
    "scrolled": true
   },
   "outputs": [],
   "source": [
    "%%notify\n",
    "\n",
    "# After VR behavior is fully analysed, we can start with the CaImAn pipeline\n",
    "common_img.ScanInfo.populate(dict(username='hheise'), display_progress=True)"
   ]
  },
  {
   "cell_type": "code",
   "execution_count": null,
   "id": "bfb5c3d1",
   "metadata": {},
   "outputs": [],
   "source": [
    "# Check which available MotionParameter set you want to use for you motion correction\n",
    "common_img.MotionParameter()"
   ]
  },
  {
   "cell_type": "code",
   "execution_count": null,
   "id": "ebf13339",
   "metadata": {},
   "outputs": [],
   "source": [
    "%%notify\n",
    "# Run motion correction and quality control (which checks quality of motion correction)\n",
    "common_img.MotionCorrection.populate(dict(username='hheise', motion_id=0), display_progress=True)\n"
   ]
  },
  {
   "cell_type": "code",
   "execution_count": null,
   "id": "ffe9be49",
   "metadata": {
    "scrolled": true
   },
   "outputs": [],
   "source": [
    "%%notify\n",
    "common_img.QualityControl.populate(dict(username='hheise'), display_progress=True)"
   ]
  },
  {
   "cell_type": "code",
   "execution_count": null,
   "id": "461b62f0",
   "metadata": {},
   "outputs": [],
   "source": [
    "%%notify\n",
    "common_img.Segmentation.populate(dict(username='hheise'), display_progress=True, make_kwargs=dict(save_overviews=True))"
   ]
  },
  {
   "cell_type": "code",
   "execution_count": null,
   "id": "4e96e374",
   "metadata": {
    "scrolled": true
   },
   "outputs": [],
   "source": [
    "# Validate Segmentation to spot irregularities in number of accepted components, which might require parameter adaptation\n",
    "util.validate_segmentation(thr=20, plot_all=True)"
   ]
  },
  {
   "cell_type": "code",
   "execution_count": null,
   "id": "3d27a96d",
   "metadata": {},
   "outputs": [],
   "source": [
    "(common_img.Segmentation.ROI & 'mouse_id=83')"
   ]
  },
  {
   "cell_type": "code",
   "execution_count": null,
   "id": "69855a4b",
   "metadata": {},
   "outputs": [],
   "source": [
    "# DONE WITH VICTORS MACHINE\n",
    "# Use different parameter set on selected sessions\n",
    "session_keys = [dict(username='hheise', mouse_id=82, day='2021-07-16', session_num=1, caiman_id=1),\n",
    "               dict(username='hheise', mouse_id=83, day='2021-08-02', session_num=1, caiman_id=1),\n",
    "               dict(username='hheise', mouse_id=86, day='2021-07-08', session_num=1, caiman_id=1),\n",
    "               dict(username='hheise', mouse_id=86, day='2021-07-21', session_num=1, caiman_id=1),\n",
    "               dict(username='hheise', mouse_id=90, day='2021-07-16', session_num=1, caiman_id=1),\n",
    "               dict(username='hheise', mouse_id=90, day='2021-07-30', session_num=1, caiman_id=1),\n",
    "               dict(username='hheise', mouse_id=91, day='2021-07-20', session_num=1, caiman_id=1),\n",
    "               dict(username='hheise', mouse_id=91, day='2021-08-02', session_num=1, caiman_id=1),\n",
    "               dict(username='hheise', mouse_id=92, day='2021-07-19', session_num=1, caiman_id=1),\n",
    "               dict(username='hheise', mouse_id=93, day='2021-07-08', session_num=1, caiman_id=1),\n",
    "               dict(username='hheise', mouse_id=93, day='2021-07-09', session_num=1, caiman_id=1),\n",
    "               dict(username='hheise', mouse_id=93, day='2021-07-10', session_num=1, caiman_id=1),\n",
    "               dict(username='hheise', mouse_id=94, day='2021-07-08', session_num=1, caiman_id=1),\n",
    "               dict(username='hheise', mouse_id=94, day='2021-07-09', session_num=1, caiman_id=1),\n",
    "               dict(username='hheise', mouse_id=94, day='2021-07-10', session_num=1, caiman_id=1),\n",
    "               dict(username='hheise', mouse_id=94, day='2021-07-11', session_num=1, caiman_id=1),\n",
    "               dict(username='hheise', mouse_id=94, day='2021-07-15', session_num=1, caiman_id=1),\n",
    "               dict(username='hheise', mouse_id=95, day='2021-07-08', session_num=1, caiman_id=1),\n",
    "               dict(username='hheise', mouse_id=95, day='2021-07-09', session_num=1, caiman_id=1),\n",
    "               dict(username='hheise', mouse_id=95, day='2021-07-10', session_num=1, caiman_id=1),\n",
    "               dict(username='hheise', mouse_id=95, day='2021-07-14', session_num=1, caiman_id=1),\n",
    "               dict(username='hheise', mouse_id=95, day='2021-07-19', session_num=1, caiman_id=1),\n",
    "               dict(username='hheise', mouse_id=95, day='2021-07-20', session_num=1, caiman_id=1)]\n",
    "\n",
    "# Delete old entries with ID 0 before making new one\n",
    "for key in session_keys:\n",
    "    k = key.copy()\n",
    "    k['caiman_id'] = 0\n",
    "    (common_img.Segmentation & k).delete()\n",
    "\n",
    "# Make new entries\n",
    "for key in session_keys:\n",
    "    common_img.Segmentation.populate(key)"
   ]
  },
  {
   "cell_type": "markdown",
   "id": "5b6185c3",
   "metadata": {},
   "source": [
    "## Place Cell Analysis\n",
    "\n",
    "Place Cell Analysis should be straight-forward as well, all tables can be populated in-order."
   ]
  },
  {
   "cell_type": "code",
   "execution_count": null,
   "id": "ec6cea97",
   "metadata": {},
   "outputs": [],
   "source": [
    "# Check entries of PlaceCellParameter and add a parameter set if necessary\n",
    "hheise_placecell.PlaceCellParameter()"
   ]
  },
  {
   "cell_type": "code",
   "execution_count": 2,
   "id": "f83ed7f8",
   "metadata": {},
   "outputs": [
    {
     "name": "stderr",
     "output_type": "stream",
     "text": [
      "PCAnalysis: 100%|██████████████████████████████████████████████████████████████████████| 12/12 [00:00<00:00, 35.86it/s]\n",
      "TransientOnly:  25%|██████████████▊                                            | 39/156 [17:33:00<16:01:56, 493.30s/it]attempt to get argmin of an empty sequence\n",
      "TransientOnly:  34%|████████████████████▍                                       | 53/156 [19:05:21<4:50:35, 169.28s/it]attempt to get argmin of an empty sequence\n",
      "TransientOnly: 100%|█████████████████████████████████████████████████████████████| 156/156 [23:59:08<00:00, 553.51s/it]\n",
      "Synchronization:  38%|████████████████████████▏                                       | 59/156 [00:14<00:25,  3.84it/s]index 34 is out of bounds for axis 0 with size 34\n",
      "index 34 is out of bounds for axis 0 with size 34\n",
      "Synchronization:  40%|█████████████████████████▍                                      | 62/156 [00:15<00:16,  5.67it/s]index 34 is out of bounds for axis 0 with size 34\n",
      "index 34 is out of bounds for axis 0 with size 34\n",
      "Synchronization:  41%|██████████████████████████▎                                     | 64/156 [00:15<00:12,  7.22it/s]index 34 is out of bounds for axis 0 with size 34\n",
      "Synchronization:  83%|████████████████████████████████████████████████████           | 129/156 [00:31<00:08,  3.37it/s]index 34 is out of bounds for axis 0 with size 34\n",
      "Synchronization:  84%|████████████████████████████████████████████████████▉          | 131/156 [00:31<00:05,  4.95it/s]index 34 is out of bounds for axis 0 with size 34\n",
      "Synchronization:  85%|█████████████████████████████████████████████████████▎         | 132/156 [00:31<00:04,  5.49it/s]index 34 is out of bounds for axis 0 with size 34\n",
      "index 34 is out of bounds for axis 0 with size 34\n",
      "Synchronization:  86%|██████████████████████████████████████████████████████         | 134/156 [00:32<00:03,  6.72it/s]index 34 is out of bounds for axis 0 with size 34\n",
      "Synchronization:  87%|██████████████████████████████████████████████████████▌        | 135/156 [00:32<00:02,  7.04it/s]index 34 is out of bounds for axis 0 with size 34\n",
      "index 34 is out of bounds for axis 0 with size 34\n",
      "Synchronization:  92%|██████████████████████████████████████████████████████████▏    | 144/156 [00:34<00:03,  3.80it/s]index 34 is out of bounds for axis 0 with size 34\n",
      "index 34 is out of bounds for axis 0 with size 34\n",
      "Synchronization: 100%|███████████████████████████████████████████████████████████████| 156/156 [00:37<00:00,  4.21it/s]\n",
      "BinnedActivity:   0%|                                                                          | 0/142 [00:00<?, ?it/s]The following decon_ids were found: [0 1 2 3]. Please specify using parameter decon_id.\n",
      "BinnedActivity:   1%|▍                                                                 | 1/142 [00:01<04:08,  1.76s/it]The following decon_ids were found: [0 1 2 3]. Please specify using parameter decon_id.\n",
      "BinnedActivity:   1%|▉                                                                 | 2/142 [00:02<02:48,  1.20s/it]The following decon_ids were found: [0 1 2 3]. Please specify using parameter decon_id.\n",
      "BinnedActivity:   2%|█▍                                                                | 3/142 [00:03<02:10,  1.06it/s]The following decon_ids were found: [0 1 2 3]. Please specify using parameter decon_id.\n",
      "BinnedActivity:   3%|█▊                                                                | 4/142 [00:03<01:45,  1.30it/s]The following decon_ids were found: [0 1 2 3]. Please specify using parameter decon_id.\n",
      "BinnedActivity:   4%|██▎                                                               | 5/142 [00:05<02:11,  1.04it/s]The following decon_ids were found: [0 1 2 3]. Please specify using parameter decon_id.\n",
      "BinnedActivity:   4%|██▊                                                               | 6/142 [00:07<03:39,  1.62s/it]The following decon_ids were found: [0 1 2 3]. Please specify using parameter decon_id.\n",
      "BinnedActivity:   5%|███▎                                                              | 7/142 [00:10<04:23,  1.95s/it]The following decon_ids were found: [0 1 2 3]. Please specify using parameter decon_id.\n",
      "BinnedActivity:   6%|███▋                                                              | 8/142 [00:11<03:40,  1.65s/it]The following decon_ids were found: [0 1 2 3]. Please specify using parameter decon_id.\n",
      "BinnedActivity:   6%|████▏                                                             | 9/142 [00:13<03:50,  1.74s/it]The following decon_ids were found: [0 1 2 3]. Please specify using parameter decon_id.\n",
      "BinnedActivity:   7%|████▌                                                            | 10/142 [00:14<03:18,  1.51s/it]The following decon_ids were found: [0 1 2 3]. Please specify using parameter decon_id.\n",
      "BinnedActivity:   8%|█████                                                            | 11/142 [00:15<03:03,  1.40s/it]The following decon_ids were found: [0 1 2 3]. Please specify using parameter decon_id.\n",
      "BinnedActivity:   8%|█████▍                                                           | 12/142 [00:16<02:50,  1.31s/it]The following decon_ids were found: [0 1 2 3]. Please specify using parameter decon_id.\n",
      "BinnedActivity:   9%|█████▉                                                           | 13/142 [00:17<02:35,  1.21s/it]The following decon_ids were found: [0 1 2 3]. Please specify using parameter decon_id.\n",
      "BinnedActivity:  10%|██████▍                                                          | 14/142 [00:19<03:00,  1.41s/it]The following decon_ids were found: [0 1 2 3]. Please specify using parameter decon_id.\n",
      "BinnedActivity:  11%|██████▊                                                          | 15/142 [00:20<02:48,  1.33s/it]The following decon_ids were found: [0 1 2 3]. Please specify using parameter decon_id.\n",
      "BinnedActivity:  11%|███████▎                                                         | 16/142 [00:21<02:23,  1.14s/it]The following decon_ids were found: [0 1 2 3]. Please specify using parameter decon_id.\n",
      "BinnedActivity:  12%|███████▊                                                         | 17/142 [00:22<02:17,  1.10s/it]The following decon_ids were found: [0 1 2 3]. Please specify using parameter decon_id.\n",
      "BinnedActivity:  13%|████████▏                                                        | 18/142 [00:23<02:26,  1.18s/it]The following decon_ids were found: [0 1 2 3]. Please specify using parameter decon_id.\n",
      "BinnedActivity:  13%|████████▋                                                        | 19/142 [00:24<02:17,  1.11s/it]The following decon_ids were found: [0 1 2 3]. Please specify using parameter decon_id.\n",
      "BinnedActivity:  14%|█████████▏                                                       | 20/142 [00:25<02:06,  1.04s/it]The following decon_ids were found: [0 1 2 3]. Please specify using parameter decon_id.\n",
      "BinnedActivity:  15%|█████████▌                                                       | 21/142 [00:26<02:14,  1.11s/it]The following decon_ids were found: [0 1 2 3]. Please specify using parameter decon_id.\n",
      "BinnedActivity:  15%|██████████                                                       | 22/142 [00:29<02:55,  1.46s/it]The following decon_ids were found: [0 1 2 3]. Please specify using parameter decon_id.\n",
      "BinnedActivity:  16%|██████████▌                                                      | 23/142 [00:30<02:56,  1.48s/it]The following decon_ids were found: [0 1 2 3]. Please specify using parameter decon_id.\n",
      "BinnedActivity:  17%|██████████▉                                                      | 24/142 [00:31<02:41,  1.37s/it]The following decon_ids were found: [0 1 2 3]. Please specify using parameter decon_id.\n",
      "BinnedActivity:  18%|███████████▍                                                     | 25/142 [00:32<02:26,  1.25s/it]The following decon_ids were found: [0 1 2 3]. Please specify using parameter decon_id.\n",
      "BinnedActivity:  18%|███████████▉                                                     | 26/142 [00:33<02:20,  1.21s/it]The following decon_ids were found: [0 1 2 3]. Please specify using parameter decon_id.\n",
      "BinnedActivity:  19%|████████████▎                                                    | 27/142 [00:35<02:20,  1.23s/it]The following decon_ids were found: [0 1 2 3]. Please specify using parameter decon_id.\n"
     ]
    },
    {
     "name": "stderr",
     "output_type": "stream",
     "text": [
      "BinnedActivity:  20%|████████████▊                                                    | 28/142 [00:36<02:13,  1.17s/it]The following decon_ids were found: [0 1 2 3]. Please specify using parameter decon_id.\n",
      "BinnedActivity:  20%|█████████████▎                                                   | 29/142 [00:37<02:14,  1.19s/it]The following decon_ids were found: [0 1 2 3]. Please specify using parameter decon_id.\n",
      "BinnedActivity:  21%|█████████████▋                                                   | 30/142 [00:38<02:03,  1.10s/it]The following decon_ids were found: [0 1 2 3]. Please specify using parameter decon_id.\n",
      "BinnedActivity:  22%|██████████████▏                                                  | 31/142 [00:38<01:40,  1.11it/s]The following decon_ids were found: [0 1 2 3]. Please specify using parameter decon_id.\n",
      "BinnedActivity:  23%|██████████████▋                                                  | 32/142 [00:39<01:47,  1.03it/s]The following decon_ids were found: [0 1 2 3]. Please specify using parameter decon_id.\n",
      "BinnedActivity:  23%|███████████████                                                  | 33/142 [00:40<01:38,  1.10it/s]The following decon_ids were found: [0 1 2 3]. Please specify using parameter decon_id.\n",
      "BinnedActivity:  24%|███████████████▌                                                 | 34/142 [00:41<01:29,  1.21it/s]The following decon_ids were found: [0 1 2]. Please specify using parameter decon_id.\n",
      "BinnedActivity:  25%|████████████████                                                 | 35/142 [00:43<02:04,  1.17s/it]No deconvolution found. Populate common_img.Deconvolution().\n",
      "BinnedActivity:  25%|████████████████▍                                                | 36/142 [00:44<02:05,  1.19s/it]No deconvolution found. Populate common_img.Deconvolution().\n",
      "BinnedActivity:  26%|████████████████▉                                                | 37/142 [00:45<02:09,  1.24s/it]No deconvolution found. Populate common_img.Deconvolution().\n",
      "BinnedActivity:  27%|█████████████████▍                                               | 38/142 [00:48<02:57,  1.71s/it]No deconvolution found. Populate common_img.Deconvolution().\n",
      "BinnedActivity:  27%|█████████████████▊                                               | 39/142 [00:50<03:10,  1.85s/it]No deconvolution found. Populate common_img.Deconvolution().\n",
      "BinnedActivity:  28%|██████████████████▎                                              | 40/142 [00:52<02:57,  1.74s/it]No deconvolution found. Populate common_img.Deconvolution().\n",
      "BinnedActivity:  29%|██████████████████▊                                              | 41/142 [00:54<02:59,  1.78s/it]No deconvolution found. Populate common_img.Deconvolution().\n",
      "BinnedActivity:  30%|███████████████████▏                                             | 42/142 [00:56<02:59,  1.79s/it]No deconvolution found. Populate common_img.Deconvolution().\n",
      "BinnedActivity:  30%|███████████████████▋                                             | 43/142 [00:57<02:49,  1.72s/it]No deconvolution found. Populate common_img.Deconvolution().\n",
      "BinnedActivity:  31%|████████████████████▏                                            | 44/142 [00:59<02:40,  1.64s/it]No deconvolution found. Populate common_img.Deconvolution().\n",
      "BinnedActivity:  32%|████████████████████▌                                            | 45/142 [01:00<02:22,  1.47s/it]No deconvolution found. Populate common_img.Deconvolution().\n",
      "BinnedActivity:  32%|█████████████████████                                            | 46/142 [01:01<02:17,  1.43s/it]No deconvolution found. Populate common_img.Deconvolution().\n",
      "BinnedActivity:  33%|█████████████████████▌                                           | 47/142 [01:02<02:17,  1.45s/it]No deconvolution found. Populate common_img.Deconvolution().\n",
      "BinnedActivity:  34%|█████████████████████▉                                           | 48/142 [01:04<02:16,  1.45s/it]No deconvolution found. Populate common_img.Deconvolution().\n",
      "BinnedActivity:  35%|██████████████████████▍                                          | 49/142 [01:06<02:46,  1.79s/it]No deconvolution found. Populate common_img.Deconvolution().\n",
      "BinnedActivity:  35%|██████████████████████▉                                          | 50/142 [01:08<02:30,  1.64s/it]No deconvolution found. Populate common_img.Deconvolution().\n",
      "BinnedActivity:  36%|███████████████████████▎                                         | 51/142 [01:10<02:53,  1.91s/it]No deconvolution found. Populate common_img.Deconvolution().\n",
      "BinnedActivity:  37%|███████████████████████▊                                         | 52/142 [01:13<03:04,  2.05s/it]No deconvolution found. Populate common_img.Deconvolution().\n",
      "BinnedActivity:  37%|████████████████████████▎                                        | 53/142 [01:14<02:48,  1.89s/it]No deconvolution found. Populate common_img.Deconvolution().\n",
      "BinnedActivity:  38%|████████████████████████▋                                        | 54/142 [01:16<02:48,  1.91s/it]No deconvolution found. Populate common_img.Deconvolution().\n",
      "BinnedActivity:  39%|█████████████████████████▏                                       | 55/142 [01:18<02:45,  1.90s/it]No deconvolution found. Populate common_img.Deconvolution().\n",
      "BinnedActivity:  39%|█████████████████████████▋                                       | 56/142 [01:20<02:33,  1.79s/it]No deconvolution found. Populate common_img.Deconvolution().\n",
      "BinnedActivity:  40%|██████████████████████████                                       | 57/142 [01:21<02:22,  1.68s/it]No deconvolution found. Populate common_img.Deconvolution().\n",
      "BinnedActivity:  41%|██████████████████████████▌                                      | 58/142 [01:23<02:27,  1.76s/it]No deconvolution found. Populate common_img.Deconvolution().\n",
      "BinnedActivity:  42%|███████████████████████████                                      | 59/142 [01:25<02:23,  1.73s/it]No deconvolution found. Populate common_img.Deconvolution().\n",
      "BinnedActivity:  42%|███████████████████████████▍                                     | 60/142 [01:25<01:49,  1.33s/it]No deconvolution found. Populate common_img.Deconvolution().\n",
      "BinnedActivity:  43%|███████████████████████████▉                                     | 61/142 [01:25<01:24,  1.04s/it]No deconvolution found. Populate common_img.Deconvolution().\n",
      "BinnedActivity:  44%|████████████████████████████▍                                    | 62/142 [01:26<01:07,  1.19it/s]No deconvolution found. Populate common_img.Deconvolution().\n",
      "BinnedActivity:  44%|████████████████████████████▊                                    | 63/142 [01:26<00:51,  1.52it/s]No deconvolution found. Populate common_img.Deconvolution().\n",
      "BinnedActivity:  45%|█████████████████████████████▎                                   | 64/142 [01:26<00:41,  1.89it/s]No deconvolution found. Populate common_img.Deconvolution().\n",
      "BinnedActivity:  46%|█████████████████████████████▊                                   | 65/142 [01:27<00:38,  2.02it/s]No deconvolution found. Populate common_img.Deconvolution().\n",
      "BinnedActivity:  46%|██████████████████████████████▏                                  | 66/142 [01:27<00:30,  2.52it/s]No deconvolution found. Populate common_img.Deconvolution().\n",
      "BinnedActivity:  47%|██████████████████████████████▋                                  | 67/142 [01:27<00:27,  2.76it/s]No deconvolution found. Populate common_img.Deconvolution().\n",
      "BinnedActivity:  48%|███████████████████████████████▏                                 | 68/142 [01:28<00:33,  2.19it/s]No deconvolution found. Populate common_img.Deconvolution().\n",
      "BinnedActivity:  49%|███████████████████████████████▌                                 | 69/142 [01:28<00:34,  2.12it/s]No deconvolution found. Populate common_img.Deconvolution().\n",
      "BinnedActivity:  49%|████████████████████████████████                                 | 70/142 [01:29<00:32,  2.19it/s]No deconvolution found. Populate common_img.Deconvolution().\n",
      "BinnedActivity:  50%|████████████████████████████████▌                                | 71/142 [01:29<00:32,  2.15it/s]No deconvolution found. Populate common_img.Deconvolution().\n",
      "BinnedActivity:  51%|████████████████████████████████▉                                | 72/142 [01:30<00:32,  2.15it/s]No deconvolution found. Populate common_img.Deconvolution().\n",
      "BinnedActivity:  51%|█████████████████████████████████▍                               | 73/142 [01:30<00:31,  2.19it/s]No deconvolution found. Populate common_img.Deconvolution().\n",
      "BinnedActivity:  52%|█████████████████████████████████▊                               | 74/142 [01:31<00:34,  1.99it/s]No deconvolution found. Populate common_img.Deconvolution().\n",
      "BinnedActivity:  53%|██████████████████████████████████▎                              | 75/142 [01:32<00:45,  1.47it/s]No deconvolution found. Populate common_img.Deconvolution().\n",
      "BinnedActivity:  54%|██████████████████████████████████▊                              | 76/142 [01:32<00:42,  1.57it/s]No deconvolution found. Populate common_img.Deconvolution().\n",
      "BinnedActivity:  54%|███████████████████████████████████▏                             | 77/142 [01:33<00:49,  1.32it/s]No deconvolution found. Populate common_img.Deconvolution().\n",
      "BinnedActivity:  55%|███████████████████████████████████▋                             | 78/142 [01:34<00:56,  1.14it/s]No deconvolution found. Populate common_img.Deconvolution().\n",
      "BinnedActivity:  56%|████████████████████████████████████▏                            | 79/142 [01:36<01:05,  1.05s/it]No deconvolution found. Populate common_img.Deconvolution().\n",
      "BinnedActivity:  56%|████████████████████████████████████▌                            | 80/142 [01:37<00:59,  1.04it/s]No deconvolution found. Populate common_img.Deconvolution().\n",
      "BinnedActivity:  57%|█████████████████████████████████████                            | 81/142 [01:39<01:19,  1.30s/it]No deconvolution found. Populate common_img.Deconvolution().\n",
      "BinnedActivity:  58%|█████████████████████████████████████▌                           | 82/142 [01:40<01:10,  1.18s/it]No deconvolution found. Populate common_img.Deconvolution().\n",
      "BinnedActivity:  58%|█████████████████████████████████████▉                           | 83/142 [01:41<01:17,  1.31s/it]No deconvolution found. Populate common_img.Deconvolution().\n",
      "BinnedActivity:  59%|██████████████████████████████████████▍                          | 84/142 [01:44<01:40,  1.72s/it]No deconvolution found. Populate common_img.Deconvolution().\n",
      "BinnedActivity:  60%|██████████████████████████████████████▉                          | 85/142 [01:45<01:30,  1.59s/it]No deconvolution found. Populate common_img.Deconvolution().\n",
      "BinnedActivity:  61%|███████████████████████████████████████▎                         | 86/142 [01:47<01:31,  1.63s/it]No deconvolution found. Populate common_img.Deconvolution().\n",
      "BinnedActivity:  61%|███████████████████████████████████████▊                         | 87/142 [01:49<01:33,  1.70s/it]No deconvolution found. Populate common_img.Deconvolution().\n",
      "BinnedActivity:  62%|████████████████████████████████████████▎                        | 88/142 [01:51<01:34,  1.76s/it]No deconvolution found. Populate common_img.Deconvolution().\n",
      "BinnedActivity:  63%|████████████████████████████████████████▋                        | 89/142 [01:52<01:29,  1.69s/it]No deconvolution found. Populate common_img.Deconvolution().\n",
      "BinnedActivity:  63%|█████████████████████████████████████████▏                       | 90/142 [01:54<01:24,  1.63s/it]No deconvolution found. Populate common_img.Deconvolution().\n",
      "BinnedActivity:  64%|█████████████████████████████████████████▋                       | 91/142 [01:55<01:22,  1.62s/it]No deconvolution found. Populate common_img.Deconvolution().\n",
      "BinnedActivity:  65%|██████████████████████████████████████████                       | 92/142 [01:57<01:19,  1.59s/it]No deconvolution found. Populate common_img.Deconvolution().\n",
      "BinnedActivity:  65%|██████████████████████████████████████████▌                      | 93/142 [01:59<01:31,  1.87s/it]No deconvolution found. Populate common_img.Deconvolution().\n",
      "BinnedActivity:  66%|███████████████████████████████████████████                      | 94/142 [02:03<01:51,  2.33s/it]No deconvolution found. Populate common_img.Deconvolution().\n",
      "BinnedActivity:  67%|███████████████████████████████████████████▍                     | 95/142 [02:05<01:46,  2.27s/it]No deconvolution found. Populate common_img.Deconvolution().\n",
      "BinnedActivity:  68%|███████████████████████████████████████████▉                     | 96/142 [02:09<02:07,  2.78s/it]No deconvolution found. Populate common_img.Deconvolution().\n",
      "BinnedActivity:  68%|████████████████████████████████████████████▍                    | 97/142 [02:11<01:55,  2.56s/it]No deconvolution found. Populate common_img.Deconvolution().\n",
      "BinnedActivity:  69%|████████████████████████████████████████████▊                    | 98/142 [02:18<02:58,  4.06s/it]No deconvolution found. Populate common_img.Deconvolution().\n",
      "BinnedActivity:  70%|█████████████████████████████████████████████▎                   | 99/142 [02:23<02:54,  4.07s/it]No deconvolution found. Populate common_img.Deconvolution().\n",
      "BinnedActivity:  70%|█████████████████████████████████████████████                   | 100/142 [02:29<03:27,  4.93s/it]No deconvolution found. Populate common_img.Deconvolution().\n",
      "BinnedActivity:  71%|█████████████████████████████████████████████▌                  | 101/142 [02:33<03:03,  4.49s/it]No deconvolution found. Populate common_img.Deconvolution().\n",
      "BinnedActivity:  72%|█████████████████████████████████████████████▉                  | 102/142 [02:38<03:04,  4.60s/it]No deconvolution found. Populate common_img.Deconvolution().\n",
      "BinnedActivity:  73%|██████████████████████████████████████████████▍                 | 103/142 [02:40<02:36,  4.02s/it]No deconvolution found. Populate common_img.Deconvolution().\n",
      "BinnedActivity:  73%|██████████████████████████████████████████████▊                 | 104/142 [02:41<01:54,  3.01s/it]No deconvolution found. Populate common_img.Deconvolution().\n",
      "BinnedActivity:  74%|███████████████████████████████████████████████▎                | 105/142 [02:42<01:28,  2.40s/it]No deconvolution found. Populate common_img.Deconvolution().\n",
      "BinnedActivity:  75%|███████████████████████████████████████████████▊                | 106/142 [02:43<01:06,  1.84s/it]No deconvolution found. Populate common_img.Deconvolution().\n",
      "BinnedActivity:  75%|████████████████████████████████████████████████▏               | 107/142 [02:43<00:53,  1.53s/it]No deconvolution found. Populate common_img.Deconvolution().\n",
      "BinnedActivity:  76%|████████████████████████████████████████████████▋               | 108/142 [02:45<00:49,  1.45s/it]No deconvolution found. Populate common_img.Deconvolution().\n",
      "BinnedActivity:  77%|█████████████████████████████████████████████████▏              | 109/142 [02:47<00:57,  1.74s/it]No deconvolution found. Populate common_img.Deconvolution().\n",
      "BinnedActivity:  77%|█████████████████████████████████████████████████▌              | 110/142 [02:48<00:52,  1.63s/it]No deconvolution found. Populate common_img.Deconvolution().\n",
      "BinnedActivity:  78%|██████████████████████████████████████████████████              | 111/142 [02:52<01:05,  2.11s/it]No deconvolution found. Populate common_img.Deconvolution().\n",
      "BinnedActivity:  79%|██████████████████████████████████████████████████▍             | 112/142 [02:56<01:23,  2.77s/it]No deconvolution found. Populate common_img.Deconvolution().\n",
      "BinnedActivity:  80%|██████████████████████████████████████████████████▉             | 113/142 [03:01<01:39,  3.45s/it]No deconvolution found. Populate common_img.Deconvolution().\n",
      "BinnedActivity:  80%|███████████████████████████████████████████████████▍            | 114/142 [03:07<01:53,  4.06s/it]No deconvolution found. Populate common_img.Deconvolution().\n",
      "BinnedActivity:  81%|███████████████████████████████████████████████████▊            | 115/142 [03:11<01:54,  4.26s/it]No deconvolution found. Populate common_img.Deconvolution().\n",
      "BinnedActivity:  82%|████████████████████████████████████████████████████▎           | 116/142 [03:15<01:44,  4.01s/it]No deconvolution found. Populate common_img.Deconvolution().\n"
     ]
    },
    {
     "name": "stderr",
     "output_type": "stream",
     "text": [
      "BinnedActivity:  82%|████████████████████████████████████████████████████▋           | 117/142 [03:18<01:37,  3.91s/it]No deconvolution found. Populate common_img.Deconvolution().\n",
      "BinnedActivity:  83%|█████████████████████████████████████████████████████▏          | 118/142 [03:22<01:29,  3.75s/it]No deconvolution found. Populate common_img.Deconvolution().\n",
      "BinnedActivity:  84%|█████████████████████████████████████████████████████▋          | 119/142 [03:25<01:24,  3.67s/it]No deconvolution found. Populate common_img.Deconvolution().\n",
      "BinnedActivity:  85%|██████████████████████████████████████████████████████          | 120/142 [03:30<01:28,  4.00s/it]No deconvolution found. Populate common_img.Deconvolution().\n",
      "BinnedActivity:  85%|██████████████████████████████████████████████████████▌         | 121/142 [03:35<01:28,  4.23s/it]No deconvolution found. Populate common_img.Deconvolution().\n",
      "BinnedActivity:  86%|██████████████████████████████████████████████████████▉         | 122/142 [03:38<01:17,  3.90s/it]No deconvolution found. Populate common_img.Deconvolution().\n",
      "BinnedActivity:  87%|███████████████████████████████████████████████████████▍        | 123/142 [03:42<01:14,  3.92s/it]No deconvolution found. Populate common_img.Deconvolution().\n",
      "BinnedActivity:  87%|███████████████████████████████████████████████████████▉        | 124/142 [03:46<01:13,  4.08s/it]No deconvolution found. Populate common_img.Deconvolution().\n",
      "BinnedActivity:  88%|████████████████████████████████████████████████████████▎       | 125/142 [03:47<00:52,  3.06s/it]No deconvolution found. Populate common_img.Deconvolution().\n",
      "BinnedActivity:  89%|████████████████████████████████████████████████████████▊       | 126/142 [03:48<00:37,  2.34s/it]No deconvolution found. Populate common_img.Deconvolution().\n",
      "BinnedActivity:  89%|█████████████████████████████████████████████████████████▏      | 127/142 [03:49<00:30,  2.01s/it]No deconvolution found. Populate common_img.Deconvolution().\n",
      "BinnedActivity:  90%|█████████████████████████████████████████████████████████▋      | 128/142 [03:51<00:27,  2.00s/it]No deconvolution found. Populate common_img.Deconvolution().\n",
      "BinnedActivity:  91%|██████████████████████████████████████████████████████████▏     | 129/142 [03:53<00:24,  1.91s/it]No deconvolution found. Populate common_img.Deconvolution().\n",
      "BinnedActivity:  92%|██████████████████████████████████████████████████████████▌     | 130/142 [03:53<00:19,  1.62s/it]No deconvolution found. Populate common_img.Deconvolution().\n",
      "BinnedActivity:  92%|███████████████████████████████████████████████████████████     | 131/142 [03:55<00:17,  1.57s/it]No deconvolution found. Populate common_img.Deconvolution().\n",
      "BinnedActivity:  93%|███████████████████████████████████████████████████████████▍    | 132/142 [03:56<00:15,  1.56s/it]No deconvolution found. Populate common_img.Deconvolution().\n",
      "BinnedActivity:  94%|███████████████████████████████████████████████████████████▉    | 133/142 [03:58<00:13,  1.55s/it]No deconvolution found. Populate common_img.Deconvolution().\n",
      "BinnedActivity:  94%|████████████████████████████████████████████████████████████▍   | 134/142 [04:00<00:12,  1.58s/it]No deconvolution found. Populate common_img.Deconvolution().\n",
      "BinnedActivity:  95%|████████████████████████████████████████████████████████████▊   | 135/142 [04:02<00:11,  1.71s/it]No deconvolution found. Populate common_img.Deconvolution().\n",
      "BinnedActivity:  96%|█████████████████████████████████████████████████████████████▎  | 136/142 [04:03<00:09,  1.56s/it]No deconvolution found. Populate common_img.Deconvolution().\n",
      "BinnedActivity:  96%|█████████████████████████████████████████████████████████████▋  | 137/142 [04:06<00:09,  1.94s/it]No deconvolution found. Populate common_img.Deconvolution().\n",
      "BinnedActivity:  97%|██████████████████████████████████████████████████████████████▏ | 138/142 [04:09<00:09,  2.44s/it]No deconvolution found. Populate common_img.Deconvolution().\n",
      "BinnedActivity:  98%|██████████████████████████████████████████████████████████████▋ | 139/142 [04:12<00:07,  2.40s/it]No deconvolution found. Populate common_img.Deconvolution().\n",
      "BinnedActivity:  99%|███████████████████████████████████████████████████████████████ | 140/142 [04:13<00:04,  2.12s/it]No deconvolution found. Populate common_img.Deconvolution().\n",
      "BinnedActivity:  99%|███████████████████████████████████████████████████████████████▌| 141/142 [04:16<00:02,  2.28s/it]No deconvolution found. Populate common_img.Deconvolution().\n",
      "BinnedActivity: 100%|████████████████████████████████████████████████████████████████| 142/142 [04:18<00:00,  1.82s/it]\n",
      "PlaceCell: 0it [00:00, ?it/s]\n"
     ]
    },
    {
     "data": {
      "text/plain": [
       "[]"
      ]
     },
     "execution_count": 2,
     "metadata": {},
     "output_type": "execute_result"
    }
   ],
   "source": [
    "# Run the pipeline sequentially\n",
    "# The restriction to my username is only necessary for the first table, since the other tables depend on PCAnalysis\n",
    "mice = [94, 95]\n",
    "\n",
    "for mouse in mice:\n",
    "    hheise_placecell.PCAnalysis.populate(dict(username='hheise', mouse_id=mouse), display_progress=True, reserve_jobs=True, suppress_errors=True)\n",
    "hheise_placecell.TransientOnly.populate(display_progress=True, reserve_jobs=True, suppress_errors=True)\n",
    "hheise_placecell.Synchronization.populate(display_progress=True, reserve_jobs=True, suppress_errors=True)\n",
    "hheise_placecell.BinnedActivity.populate(display_progress=True, reserve_jobs=True, suppress_errors=True)\n",
    "hheise_placecell.PlaceCell.populate(display_progress=True, reserve_jobs=True, suppress_errors=True)"
   ]
  },
  {
   "cell_type": "code",
   "execution_count": null,
   "id": "f0e682c2",
   "metadata": {},
   "outputs": [],
   "source": [
    "from importlib import reload\n",
    "reload(common_img)"
   ]
  },
  {
   "cell_type": "code",
   "execution_count": null,
   "id": "63662699",
   "metadata": {},
   "outputs": [],
   "source": []
  }
 ],
 "metadata": {
  "kernelspec": {
   "display_name": "Python 3",
   "language": "python",
   "name": "python3"
  },
  "language_info": {
   "codemirror_mode": {
    "name": "ipython",
    "version": 3
   },
   "file_extension": ".py",
   "mimetype": "text/x-python",
   "name": "python",
   "nbconvert_exporter": "python",
   "pygments_lexer": "ipython3",
   "version": "3.7.10"
  }
 },
 "nbformat": 4,
 "nbformat_minor": 5
}
