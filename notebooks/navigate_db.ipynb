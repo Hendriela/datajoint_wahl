{
 "cells": [
  {
   "cell_type": "code",
   "execution_count": 1,
   "id": "e6059fc6",
   "metadata": {},
   "outputs": [
    {
     "name": "stdout",
     "output_type": "stream",
     "text": [
      "Requirement already satisfied: ipywidgets in c:\\anaconda3\\envs\\datajoint_wahl\\lib\\site-packages (7.6.3)\n",
      "Requirement already satisfied: jupyterlab-widgets>=1.0.0 in c:\\anaconda3\\envs\\datajoint_wahl\\lib\\site-packages (from ipywidgets) (1.0.0)\n",
      "Requirement already satisfied: traitlets>=4.3.1 in c:\\anaconda3\\envs\\datajoint_wahl\\lib\\site-packages (from ipywidgets) (5.0.5)\n",
      "Requirement already satisfied: ipykernel>=4.5.1 in c:\\anaconda3\\envs\\datajoint_wahl\\lib\\site-packages (from ipywidgets) (5.5.5)\n",
      "Requirement already satisfied: ipython>=4.0.0 in c:\\anaconda3\\envs\\datajoint_wahl\\lib\\site-packages (from ipywidgets) (7.24.1)\n",
      "Requirement already satisfied: widgetsnbextension~=3.5.0 in c:\\anaconda3\\envs\\datajoint_wahl\\lib\\site-packages (from ipywidgets) (3.5.1)\n",
      "Requirement already satisfied: nbformat>=4.2.0 in c:\\anaconda3\\envs\\datajoint_wahl\\lib\\site-packages (from ipywidgets) (5.1.3)\n",
      "Requirement already satisfied: tornado>=4.2 in c:\\anaconda3\\envs\\datajoint_wahl\\lib\\site-packages (from ipykernel>=4.5.1->ipywidgets) (6.1)\n",
      "Requirement already satisfied: jupyter-client in c:\\anaconda3\\envs\\datajoint_wahl\\lib\\site-packages (from ipykernel>=4.5.1->ipywidgets) (6.1.12)\n",
      "Requirement already satisfied: backcall in c:\\anaconda3\\envs\\datajoint_wahl\\lib\\site-packages (from ipython>=4.0.0->ipywidgets) (0.2.0)\n",
      "Requirement already satisfied: matplotlib-inline in c:\\anaconda3\\envs\\datajoint_wahl\\lib\\site-packages (from ipython>=4.0.0->ipywidgets) (0.1.2)\n",
      "Requirement already satisfied: jedi>=0.16 in c:\\anaconda3\\envs\\datajoint_wahl\\lib\\site-packages (from ipython>=4.0.0->ipywidgets) (0.18.0)\n",
      "Requirement already satisfied: pickleshare in c:\\anaconda3\\envs\\datajoint_wahl\\lib\\site-packages (from ipython>=4.0.0->ipywidgets) (0.7.5)\n",
      "Requirement already satisfied: prompt-toolkit!=3.0.0,!=3.0.1,<3.1.0,>=2.0.0 in c:\\anaconda3\\envs\\datajoint_wahl\\lib\\site-packages (from ipython>=4.0.0->ipywidgets) (3.0.18)\n",
      "Requirement already satisfied: colorama in c:\\anaconda3\\envs\\datajoint_wahl\\lib\\site-packages (from ipython>=4.0.0->ipywidgets) (0.4.4)\n",
      "Requirement already satisfied: decorator in c:\\anaconda3\\envs\\datajoint_wahl\\lib\\site-packages (from ipython>=4.0.0->ipywidgets) (5.0.9)\n",
      "Requirement already satisfied: pygments in c:\\anaconda3\\envs\\datajoint_wahl\\lib\\site-packages (from ipython>=4.0.0->ipywidgets) (2.9.0)\n",
      "Requirement already satisfied: setuptools>=18.5 in c:\\anaconda3\\envs\\datajoint_wahl\\lib\\site-packages (from ipython>=4.0.0->ipywidgets) (52.0.0.post20210125)\n",
      "Requirement already satisfied: parso<0.9.0,>=0.8.0 in c:\\anaconda3\\envs\\datajoint_wahl\\lib\\site-packages (from jedi>=0.16->ipython>=4.0.0->ipywidgets) (0.8.2)\n",
      "Requirement already satisfied: jupyter-core in c:\\anaconda3\\envs\\datajoint_wahl\\lib\\site-packages (from nbformat>=4.2.0->ipywidgets) (4.7.1)\n",
      "Requirement already satisfied: jsonschema!=2.5.0,>=2.4 in c:\\anaconda3\\envs\\datajoint_wahl\\lib\\site-packages (from nbformat>=4.2.0->ipywidgets) (3.2.0)\n",
      "Requirement already satisfied: ipython-genutils in c:\\anaconda3\\envs\\datajoint_wahl\\lib\\site-packages (from nbformat>=4.2.0->ipywidgets) (0.2.0)\n",
      "Requirement already satisfied: pyrsistent>=0.14.0 in c:\\anaconda3\\envs\\datajoint_wahl\\lib\\site-packages (from jsonschema!=2.5.0,>=2.4->nbformat>=4.2.0->ipywidgets) (0.17.3)\n",
      "Requirement already satisfied: importlib-metadata in c:\\anaconda3\\envs\\datajoint_wahl\\lib\\site-packages (from jsonschema!=2.5.0,>=2.4->nbformat>=4.2.0->ipywidgets) (4.5.0)\n",
      "Requirement already satisfied: attrs>=17.4.0 in c:\\anaconda3\\envs\\datajoint_wahl\\lib\\site-packages (from jsonschema!=2.5.0,>=2.4->nbformat>=4.2.0->ipywidgets) (21.2.0)\n",
      "Requirement already satisfied: six>=1.11.0 in c:\\anaconda3\\envs\\datajoint_wahl\\lib\\site-packages (from jsonschema!=2.5.0,>=2.4->nbformat>=4.2.0->ipywidgets) (1.15.0)\n",
      "Requirement already satisfied: wcwidth in c:\\anaconda3\\envs\\datajoint_wahl\\lib\\site-packages (from prompt-toolkit!=3.0.0,!=3.0.1,<3.1.0,>=2.0.0->ipython>=4.0.0->ipywidgets) (0.2.5)\n",
      "Requirement already satisfied: notebook>=4.4.1 in c:\\anaconda3\\envs\\datajoint_wahl\\lib\\site-packages (from widgetsnbextension~=3.5.0->ipywidgets) (6.4.0)\n",
      "Requirement already satisfied: jinja2 in c:\\anaconda3\\envs\\datajoint_wahl\\lib\\site-packages (from notebook>=4.4.1->widgetsnbextension~=3.5.0->ipywidgets) (3.0.1)\n",
      "Requirement already satisfied: pyzmq>=17 in c:\\anaconda3\\envs\\datajoint_wahl\\lib\\site-packages (from notebook>=4.4.1->widgetsnbextension~=3.5.0->ipywidgets) (22.1.0)\n",
      "Requirement already satisfied: Send2Trash>=1.5.0 in c:\\anaconda3\\envs\\datajoint_wahl\\lib\\site-packages (from notebook>=4.4.1->widgetsnbextension~=3.5.0->ipywidgets) (1.5.0)\n",
      "Requirement already satisfied: nbconvert in c:\\anaconda3\\envs\\datajoint_wahl\\lib\\site-packages (from notebook>=4.4.1->widgetsnbextension~=3.5.0->ipywidgets) (6.0.7)\n",
      "Requirement already satisfied: prometheus-client in c:\\anaconda3\\envs\\datajoint_wahl\\lib\\site-packages (from notebook>=4.4.1->widgetsnbextension~=3.5.0->ipywidgets) (0.11.0)\n",
      "Requirement already satisfied: terminado>=0.8.3 in c:\\anaconda3\\envs\\datajoint_wahl\\lib\\site-packages (from notebook>=4.4.1->widgetsnbextension~=3.5.0->ipywidgets) (0.9.4)\n",
      "Requirement already satisfied: argon2-cffi in c:\\anaconda3\\envs\\datajoint_wahl\\lib\\site-packages (from notebook>=4.4.1->widgetsnbextension~=3.5.0->ipywidgets) (20.1.0)\n",
      "Requirement already satisfied: python-dateutil>=2.1 in c:\\anaconda3\\envs\\datajoint_wahl\\lib\\site-packages (from jupyter-client->ipykernel>=4.5.1->ipywidgets) (2.8.1)\n",
      "Requirement already satisfied: pywin32>=1.0 in c:\\anaconda3\\envs\\datajoint_wahl\\lib\\site-packages (from jupyter-core->nbformat>=4.2.0->ipywidgets) (300)\n",
      "Requirement already satisfied: pywinpty>=0.5 in c:\\anaconda3\\envs\\datajoint_wahl\\lib\\site-packages (from terminado>=0.8.3->notebook>=4.4.1->widgetsnbextension~=3.5.0->ipywidgets) (0.5.7)\n",
      "Requirement already satisfied: cffi>=1.0.0 in c:\\anaconda3\\envs\\datajoint_wahl\\lib\\site-packages (from argon2-cffi->notebook>=4.4.1->widgetsnbextension~=3.5.0->ipywidgets) (1.14.5)\n",
      "Requirement already satisfied: pycparser in c:\\anaconda3\\envs\\datajoint_wahl\\lib\\site-packages (from cffi>=1.0.0->argon2-cffi->notebook>=4.4.1->widgetsnbextension~=3.5.0->ipywidgets) (2.20)\n",
      "Requirement already satisfied: typing-extensions>=3.6.4 in c:\\anaconda3\\envs\\datajoint_wahl\\lib\\site-packages (from importlib-metadata->jsonschema!=2.5.0,>=2.4->nbformat>=4.2.0->ipywidgets) (3.10.0.0)\n",
      "Requirement already satisfied: zipp>=0.5 in c:\\anaconda3\\envs\\datajoint_wahl\\lib\\site-packages (from importlib-metadata->jsonschema!=2.5.0,>=2.4->nbformat>=4.2.0->ipywidgets) (3.4.1)\n",
      "Requirement already satisfied: MarkupSafe>=2.0 in c:\\anaconda3\\envs\\datajoint_wahl\\lib\\site-packages (from jinja2->notebook>=4.4.1->widgetsnbextension~=3.5.0->ipywidgets) (2.0.1)\n",
      "Requirement already satisfied: pandocfilters>=1.4.1 in c:\\anaconda3\\envs\\datajoint_wahl\\lib\\site-packages (from nbconvert->notebook>=4.4.1->widgetsnbextension~=3.5.0->ipywidgets) (1.4.2)\n",
      "Requirement already satisfied: bleach in c:\\anaconda3\\envs\\datajoint_wahl\\lib\\site-packages (from nbconvert->notebook>=4.4.1->widgetsnbextension~=3.5.0->ipywidgets) (3.3.0)\n",
      "Requirement already satisfied: defusedxml in c:\\anaconda3\\envs\\datajoint_wahl\\lib\\site-packages (from nbconvert->notebook>=4.4.1->widgetsnbextension~=3.5.0->ipywidgets) (0.7.1)\n",
      "Requirement already satisfied: entrypoints>=0.2.2 in c:\\anaconda3\\envs\\datajoint_wahl\\lib\\site-packages (from nbconvert->notebook>=4.4.1->widgetsnbextension~=3.5.0->ipywidgets) (0.3)\n",
      "Requirement already satisfied: nbclient<0.6.0,>=0.5.0 in c:\\anaconda3\\envs\\datajoint_wahl\\lib\\site-packages (from nbconvert->notebook>=4.4.1->widgetsnbextension~=3.5.0->ipywidgets) (0.5.3)\n",
      "Requirement already satisfied: testpath in c:\\anaconda3\\envs\\datajoint_wahl\\lib\\site-packages (from nbconvert->notebook>=4.4.1->widgetsnbextension~=3.5.0->ipywidgets) (0.5.0)\n",
      "Requirement already satisfied: mistune<2,>=0.8.1 in c:\\anaconda3\\envs\\datajoint_wahl\\lib\\site-packages (from nbconvert->notebook>=4.4.1->widgetsnbextension~=3.5.0->ipywidgets) (0.8.4)\n",
      "Requirement already satisfied: jupyterlab-pygments in c:\\anaconda3\\envs\\datajoint_wahl\\lib\\site-packages (from nbconvert->notebook>=4.4.1->widgetsnbextension~=3.5.0->ipywidgets) (0.1.2)\n",
      "Requirement already satisfied: async-generator in c:\\anaconda3\\envs\\datajoint_wahl\\lib\\site-packages (from nbclient<0.6.0,>=0.5.0->nbconvert->notebook>=4.4.1->widgetsnbextension~=3.5.0->ipywidgets) (1.10)\n",
      "Requirement already satisfied: nest-asyncio in c:\\anaconda3\\envs\\datajoint_wahl\\lib\\site-packages (from nbclient<0.6.0,>=0.5.0->nbconvert->notebook>=4.4.1->widgetsnbextension~=3.5.0->ipywidgets) (1.5.1)\n",
      "Requirement already satisfied: webencodings in c:\\anaconda3\\envs\\datajoint_wahl\\lib\\site-packages (from bleach->nbconvert->notebook>=4.4.1->widgetsnbextension~=3.5.0->ipywidgets) (0.5.1)\n",
      "Requirement already satisfied: packaging in c:\\anaconda3\\envs\\datajoint_wahl\\lib\\site-packages (from bleach->nbconvert->notebook>=4.4.1->widgetsnbextension~=3.5.0->ipywidgets) (20.9)\n",
      "Requirement already satisfied: pyparsing>=2.0.2 in c:\\anaconda3\\envs\\datajoint_wahl\\lib\\site-packages (from packaging->bleach->nbconvert->notebook>=4.4.1->widgetsnbextension~=3.5.0->ipywidgets) (2.4.7)\n"
     ]
    },
    {
     "name": "stderr",
     "output_type": "stream",
     "text": [
      "WARNING: Ignoring invalid distribution -atplotlib (c:\\anaconda3\\envs\\datajoint_wahl\\lib\\site-packages)\n",
      "WARNING: Ignoring invalid distribution -atplotlib (c:\\anaconda3\\envs\\datajoint_wahl\\lib\\site-packages)\n",
      "WARNING: Ignoring invalid distribution -atplotlib (c:\\anaconda3\\envs\\datajoint_wahl\\lib\\site-packages)\n",
      "WARNING: Ignoring invalid distribution -atplotlib (c:\\anaconda3\\envs\\datajoint_wahl\\lib\\site-packages)\n",
      "WARNING: Ignoring invalid distribution -atplotlib (c:\\anaconda3\\envs\\datajoint_wahl\\lib\\site-packages)\n",
      "Enabling notebook extension jupyter-js-widgets/extension...\n",
      "      - Validating: ok\n"
     ]
    }
   ],
   "source": [
    "# run for first time setup\n",
    "! pip install ipywidgets\n",
    "! jupyter nbextension enable --py widgetsnbextension\n",
    "# if the dropdown lists don't appear, close browser window and restart jupyter notebook"
   ]
  },
  {
   "cell_type": "code",
   "execution_count": 1,
   "id": "7a0e3ff7",
   "metadata": {},
   "outputs": [
    {
     "name": "stdout",
     "output_type": "stream",
     "text": [
      "Connecting hheise@130.60.53.47:3306\n"
     ]
    }
   ],
   "source": [
    "import login\n",
    "login.connect()\n",
    "import schema.common_mice, schema.common_exp\n",
    "import ipywidgets as widgets\n",
    "from ipywidgets import interact, interact_manual\n",
    "import numpy as np"
   ]
  },
  {
   "cell_type": "markdown",
   "id": "43b331b8",
   "metadata": {},
   "source": [
    "Navigate the Mouse and Sacrificed tables"
   ]
  },
  {
   "cell_type": "code",
   "execution_count": 3,
   "id": "004ec9ba",
   "metadata": {
    "scrolled": false
   },
   "outputs": [
    {
     "data": {
      "application/vnd.jupyter.widget-view+json": {
       "model_id": "bc626ecf939741ff852fa85f97c73a43",
       "version_major": 2,
       "version_minor": 0
      },
      "text/plain": [
       "interactive(children=(Dropdown(description='username', options=('', 'aswahl', 'hheise', 'jnambi', 'mpanze'), v…"
      ]
     },
     "metadata": {},
     "output_type": "display_data"
    },
    {
     "data": {
      "text/plain": [
       "<function __main__.show_mice(username, status, batch, strain, sex)>"
      ]
     },
     "execution_count": 3,
     "metadata": {},
     "output_type": "execute_result"
    }
   ],
   "source": [
    "# create widgets\n",
    "user_widget = widgets.Dropdown(options = [\"\"] + list(schema.common_mice.Investigator().fetch(\"username\")))\n",
    "status_widget = widgets.Dropdown(options = [\"\", \"alive\", \"sacrificed\"])\n",
    "batch_widget = widgets.Dropdown(options = [\"\"] + list(np.unique(schema.common_mice.Mouse().fetch(\"batch\"))), value=\"\")\n",
    "strain_widget = widgets.Dropdown(options = [\"\"] + list(np.unique(schema.common_mice.Mouse().fetch(\"strain\"))), value=\"\")\n",
    "sex_widget = widgets.Dropdown(options = [\"\", \"M\", \"F\", \"U\"] , value=\"\")\n",
    "\n",
    "# restrict batch and strain options to match selected user\n",
    "def user_update(*args):\n",
    "    query = schema.common_mice.Mouse()\n",
    "    if user_widget.value != \"\":\n",
    "        query = query & \"username = '{}'\".format(user_widget.value)\n",
    "    batch_widget.options = [\"\"] + list(np.unique(query.fetch(\"batch\")))\n",
    "    strain_widget.options = [\"\"] + list(np.unique(query.fetch(\"strain\")))\n",
    "user_widget.observe(user_update, \"value\")\n",
    "\n",
    "# show mice, restricting by the current widget selections\n",
    "def show_mice(username, status, batch, strain, sex):\n",
    "    query = schema.common_mice.Mouse()\n",
    "    if username != \"\":\n",
    "        query = schema.common_mice.Mouse() & \"username = '{}'\".format(username)\n",
    "    if status == \"alive\":\n",
    "        query = query - schema.common_mice.Sacrificed()\n",
    "    elif status == \"sacrificed\":\n",
    "        query = query * schema.common_mice.Sacrificed()\n",
    "    if batch != \"\":\n",
    "        query = query & \"batch = '{}'\".format(batch)\n",
    "    if strain != \"\":\n",
    "        query = query & \"strain = '{}'\".format(strain)\n",
    "    if sex != \"\":\n",
    "        query = query & \"sex = '{}'\".format(sex)\n",
    "    return query\n",
    "\n",
    "# make interactive plot\n",
    "interact(show_mice, username=user_widget, status=status_widget, batch = batch_widget, strain = strain_widget, sex = sex_widget)"
   ]
  },
  {
   "cell_type": "markdown",
   "id": "a61f2680",
   "metadata": {},
   "source": [
    "For a given mouse, show surgeries and injections"
   ]
  },
  {
   "cell_type": "code",
   "execution_count": 2,
   "id": "e019f3d2",
   "metadata": {},
   "outputs": [
    {
     "data": {
      "application/vnd.jupyter.widget-view+json": {
       "model_id": "fdb61b8f96ad4c008c87c76b0ff21604",
       "version_major": 2,
       "version_minor": 0
      },
      "text/plain": [
       "interactive(children=(Dropdown(description='username', options=('', 'aswahl', 'hheise', 'jnambi', 'mpanze'), v…"
      ]
     },
     "metadata": {},
     "output_type": "display_data"
    },
    {
     "data": {
      "text/plain": [
       "<function __main__.show_surgeries(username, mouse, batch)>"
      ]
     },
     "execution_count": 2,
     "metadata": {},
     "output_type": "execute_result"
    }
   ],
   "source": [
    "# create widgets\n",
    "user_widget = widgets.Dropdown(options = [\"\"] + list(schema.common_mice.Investigator().fetch(\"username\")))\n",
    "mouse_widget = widgets.Dropdown(options = [\"\"])\n",
    "batch_widget = widgets.Dropdown(options = [\"\"])\n",
    "\n",
    "# restrict batch and mouse_id options to match selected user\n",
    "def user_update(*args):\n",
    "    query = schema.common_mice.Mouse()\n",
    "    if user_widget.value != \"\":\n",
    "        query = query & \"username = '{}'\".format(user_widget.value)\n",
    "        mouse_widget.options = [\"\"] + list(np.unique(query.fetch(\"mouse_id\")))\n",
    "        batch_widget.options = [\"\"] + list(np.unique(query.fetch(\"batch\")))\n",
    "    else:\n",
    "        mouse_widget.options = [\"\"]\n",
    "        batch_widget.options = [\"\"]\n",
    "user_widget.observe(user_update, \"value\")\n",
    "\n",
    "# restrict mouse_id options to match selected batch\n",
    "def batch_update(*args):\n",
    "    query = schema.common_mice.Mouse() & \"username = '{}'\".format(user_widget.value)\n",
    "    if batch_widget.value != \"\":\n",
    "        query = query & \"batch='{}'\".format(batch_widget.value) \n",
    "        mouse_widget.options = [\"\"] + list(np.unique(query.fetch(\"mouse_id\")))\n",
    "    else:\n",
    "        mouse_widget.options = [\"\"] + list(np.unique(query.fetch(\"mouse_id\")))\n",
    "batch_widget.observe(batch_update, \"value\")\n",
    "\n",
    "def show_surgeries(username, mouse, batch):\n",
    "    query_surgery = schema.common_mice.Surgery()\n",
    "    if (username != \"\"):\n",
    "        query_surgery = query_surgery & \"username = '{}'\".format(username)\n",
    "    if (mouse != \"\"):\n",
    "        query_surgery = query_surgery & \"mouse_id = '{}'\".format(mouse)\n",
    "    display(query_surgery)\n",
    "    display(schema.common_mice.Injection() & query_surgery)\n",
    "    return\n",
    "\n",
    "interact(show_surgeries, username=user_widget, mouse=mouse_widget, batch = batch_widget)"
   ]
  },
  {
   "cell_type": "code",
   "execution_count": null,
   "id": "a4f36e8a",
   "metadata": {},
   "outputs": [],
   "source": []
  }
 ],
 "metadata": {
  "kernelspec": {
   "display_name": "Python 3",
   "language": "python",
   "name": "python3"
  },
  "language_info": {
   "codemirror_mode": {
    "name": "ipython",
    "version": 3
   },
   "file_extension": ".py",
   "mimetype": "text/x-python",
   "name": "python",
   "nbconvert_exporter": "python",
   "pygments_lexer": "ipython3",
   "version": "3.7.10"
  }
 },
 "nbformat": 4,
 "nbformat_minor": 5
}
