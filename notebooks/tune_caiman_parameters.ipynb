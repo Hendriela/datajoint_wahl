{
 "cells": [
  {
   "cell_type": "code",
   "execution_count": 1,
   "id": "c3cef623",
   "metadata": {},
   "outputs": [
    {
     "name": "stdout",
     "output_type": "stream",
     "text": [
      "Connecting hheise@130.60.53.48:3306\n"
     ]
    },
    {
     "name": "stderr",
     "output_type": "stream",
     "text": [
      "Using TensorFlow backend.\n"
     ]
    }
   ],
   "source": [
    "import matplotlib.pyplot as plt\n",
    "import numpy as np\n",
    "import caiman as cm\n",
    "import os\n",
    "from skimage import io\n",
    "\n",
    "# Importing datajoint tables\n",
    "import sys\n",
    "sys.path.append(\"..\\\\\")\n",
    "\n",
    "import login\n",
    "login.connect()\n",
    "from schema import common_img\n",
    "\n",
    "# Importing custom_caiman functions\n",
    "sys.path.append(\"..\\\\..\\\\Caiman\\\\custom scripts\")\n",
    "import standard_pipeline.place_cell_pipeline as pipe"
   ]
  },
  {
   "cell_type": "code",
   "execution_count": null,
   "id": "c147b728",
   "metadata": {},
   "outputs": [],
   "source": [
    "# Memory-mapped files are created from MotionCorrection() entries\n",
    "common_img.MotionCorrection() & 'username=\"hheise\"'"
   ]
  },
  {
   "cell_type": "code",
   "execution_count": null,
   "id": "bc79df87",
   "metadata": {},
   "outputs": [],
   "source": [
    "# Get a quick overview of the differences between session templates and choose a session for parameter tuning\n",
    "# that is representative for the others\n",
    "\n",
    "%matplotlib qt\n",
    "\n",
    "key = dict(username='hheise', mouse_id=95)\n",
    "\n",
    "templates, days = (common_img.MotionCorrection & key).fetch('template', 'day')\n",
    "n_frames = (common_img.ScanInfo & key).fetch('nr_frames')\n",
    "n_trials = [len(common_img.RawImagingFile & dict(**key, day=x)) for x in days]\n",
    "\n",
    "n_cols = 4\n",
    "n_rows = int(np.ceil(len(templates)/n_cols))\n",
    "\n",
    "fig, ax = plt.subplots(n_rows, n_cols)\n",
    "\n",
    "count = 0\n",
    "for row in range(n_rows):\n",
    "    for col in range(n_cols):\n",
    "        if count < len(templates):\n",
    "            ax[row, col].imshow(templates[count])\n",
    "            ax[row, col].set_title(f'{days[count]}, {n_trials[count]} trials, {n_frames[count]} frames')\n",
    "            count += 1"
   ]
  },
  {
   "cell_type": "code",
   "execution_count": 3,
   "id": "c9062591",
   "metadata": {
    "scrolled": true
   },
   "outputs": [
    {
     "name": "stdout",
     "output_type": "stream",
     "text": [
      "Creating memory mapped file...\n"
     ]
    }
   ],
   "source": [
    "# Create memory-mapped file of the example session and load into memory\n",
    "key = dict(username='hheise', mouse_id=95, day='2021-07-08')\n",
    "\n",
    "params = (common_img.MotionCorrection & key).get_parameter_obj()\n",
    "\n",
    "common_img.MemoryMappedFile.populate(key)\n",
    "images, mmap_dir = (common_img.MemoryMappedFile & key).load_mmap_file()"
   ]
  },
  {
   "cell_type": "code",
   "execution_count": null,
   "id": "ffcac24a",
   "metadata": {},
   "outputs": [],
   "source": [
    "(common_img.MotionParameter & key)"
   ]
  },
  {
   "cell_type": "code",
   "execution_count": null,
   "id": "5b752f5c",
   "metadata": {},
   "outputs": [],
   "source": [
    "common_img.MemoryMappedFile().delete()"
   ]
  },
  {
   "cell_type": "code",
   "execution_count": 2,
   "id": "bc14040d",
   "metadata": {},
   "outputs": [
    {
     "data": {
      "text/html": [
       "\n",
       "    \n",
       "    <style type=\"text/css\">\n",
       "        .Relation{\n",
       "            border-collapse:collapse;\n",
       "        }\n",
       "        .Relation th{\n",
       "            background: #A0A0A0; color: #ffffff; padding:4px; border:#f0e0e0 1px solid;\n",
       "            font-weight: normal; font-family: monospace; font-size: 100%;\n",
       "        }\n",
       "        .Relation td{\n",
       "            padding:4px; border:#f0e0e0 1px solid; font-size:100%;\n",
       "        }\n",
       "        .Relation tr:nth-child(odd){\n",
       "            background: #ffffff;\n",
       "        }\n",
       "        .Relation tr:nth-child(even){\n",
       "            background: #f3f1ff;\n",
       "        }\n",
       "        /* Tooltip container */\n",
       "        .djtooltip {\n",
       "        }\n",
       "        /* Tooltip text */\n",
       "        .djtooltip .djtooltiptext {\n",
       "            visibility: hidden;\n",
       "            width: 120px;\n",
       "            background-color: black;\n",
       "            color: #fff;\n",
       "            text-align: center;\n",
       "            padding: 5px 0;\n",
       "            border-radius: 6px;\n",
       "            /* Position the tooltip text - see examples below! */\n",
       "            position: absolute;\n",
       "            z-index: 1;\n",
       "        }\n",
       "        #primary {\n",
       "            font-weight: bold;\n",
       "            color: black;\n",
       "        }\n",
       "        #nonprimary {\n",
       "            font-weight: normal;\n",
       "            color: white;\n",
       "        }\n",
       "\n",
       "        /* Show the tooltip text when you mouse over the tooltip container */\n",
       "        .djtooltip:hover .djtooltiptext {\n",
       "            visibility: visible;\n",
       "        }\n",
       "    </style>\n",
       "    \n",
       "    <b>Table which stores sets of CaImAn Parameters. Defaults fit for dense CA1 1x FOV with good SNR.</b>\n",
       "        <div style=\"max-height:1000px;max-width:1500px;overflow:auto;\">\n",
       "        <table border=\"1\" class=\"Relation\">\n",
       "            <thead> <tr style=\"text-align: right;\"> <th> <div class=\"djtooltip\">\n",
       "                            <p id=\"primary\">username</p>\n",
       "                            <span class=\"djtooltiptext\">Unique username, should be the UZH shortname</span>\n",
       "                        </div></th><th><div class=\"djtooltip\">\n",
       "                            <p id=\"primary\">mouse_id</p>\n",
       "                            <span class=\"djtooltiptext\">ID of mouse (unique per investigator)</span>\n",
       "                        </div></th><th><div class=\"djtooltip\">\n",
       "                            <p id=\"primary\">caiman_id</p>\n",
       "                            <span class=\"djtooltiptext\">index for unique parameter set, base 0</span>\n",
       "                        </div></th><th><div class=\"djtooltip\">\n",
       "                            <p id=\"nonprimary\">p</p>\n",
       "                            <span class=\"djtooltiptext\">order of the autoregressive system (should always be 1)</span>\n",
       "                        </div></th><th><div class=\"djtooltip\">\n",
       "                            <p id=\"nonprimary\">nb</p>\n",
       "                            <span class=\"djtooltiptext\">number of global background components</span>\n",
       "                        </div></th><th><div class=\"djtooltip\">\n",
       "                            <p id=\"nonprimary\">merge_thr</p>\n",
       "                            <span class=\"djtooltiptext\">merging threshold, max correlation of components allowed before merged</span>\n",
       "                        </div></th><th><div class=\"djtooltip\">\n",
       "                            <p id=\"nonprimary\">rf</p>\n",
       "                            <span class=\"djtooltiptext\">half-size of the patches in pixels. e.g., if rf=25, patches are 50x50. -1 if no patches.</span>\n",
       "                        </div></th><th><div class=\"djtooltip\">\n",
       "                            <p id=\"nonprimary\">stride_cnmf</p>\n",
       "                            <span class=\"djtooltiptext\">amount of overlap between the patches in pixels</span>\n",
       "                        </div></th><th><div class=\"djtooltip\">\n",
       "                            <p id=\"nonprimary\">k</p>\n",
       "                            <span class=\"djtooltiptext\">number of components per patch</span>\n",
       "                        </div></th><th><div class=\"djtooltip\">\n",
       "                            <p id=\"nonprimary\">g_sig</p>\n",
       "                            <span class=\"djtooltiptext\">expected half size of neurons in pixels</span>\n",
       "                        </div></th><th><div class=\"djtooltip\">\n",
       "                            <p id=\"nonprimary\">method_init</p>\n",
       "                            <span class=\"djtooltiptext\">initialization method (if analyzing dendritic data using 'sparse_nmf')</span>\n",
       "                        </div></th><th><div class=\"djtooltip\">\n",
       "                            <p id=\"nonprimary\">ssub</p>\n",
       "                            <span class=\"djtooltiptext\">spatial subsampling during initialization</span>\n",
       "                        </div></th><th><div class=\"djtooltip\">\n",
       "                            <p id=\"nonprimary\">tsub</p>\n",
       "                            <span class=\"djtooltiptext\">temporal subsampling during initialization</span>\n",
       "                        </div></th><th><div class=\"djtooltip\">\n",
       "                            <p id=\"nonprimary\">snr_lowest</p>\n",
       "                            <span class=\"djtooltiptext\">rejection threshold of signal-to-noise ratio</span>\n",
       "                        </div></th><th><div class=\"djtooltip\">\n",
       "                            <p id=\"nonprimary\">snr_thr</p>\n",
       "                            <span class=\"djtooltiptext\">upper threshold of signal-to-noise ratio</span>\n",
       "                        </div></th><th><div class=\"djtooltip\">\n",
       "                            <p id=\"nonprimary\">rval_lowest</p>\n",
       "                            <span class=\"djtooltiptext\">rejection threshold of spatial correlation of ROI mask vs trace</span>\n",
       "                        </div></th><th><div class=\"djtooltip\">\n",
       "                            <p id=\"nonprimary\">rval_thr</p>\n",
       "                            <span class=\"djtooltiptext\">upper threshold of spatial correlation of ROI mask vs trace</span>\n",
       "                        </div></th><th><div class=\"djtooltip\">\n",
       "                            <p id=\"nonprimary\">cnn_lowest</p>\n",
       "                            <span class=\"djtooltiptext\">rejection threshold of CNN-based classifier</span>\n",
       "                        </div></th><th><div class=\"djtooltip\">\n",
       "                            <p id=\"nonprimary\">cnn_thr</p>\n",
       "                            <span class=\"djtooltiptext\">upper threshold for CNN based classifier</span>\n",
       "                        </div></th><th><div class=\"djtooltip\">\n",
       "                            <p id=\"nonprimary\">flag_auto</p>\n",
       "                            <span class=\"djtooltiptext\">flag for using provided or computed percentile as baseline fluorescence. If</span>\n",
       "                        </div></th><th><div class=\"djtooltip\">\n",
       "                            <p id=\"nonprimary\">quantile_min</p>\n",
       "                            <span class=\"djtooltiptext\">Quantile to use as baseline fluorescence. Only used if flag_auto is False.</span>\n",
       "                        </div></th><th><div class=\"djtooltip\">\n",
       "                            <p id=\"nonprimary\">frame_window</p>\n",
       "                            <span class=\"djtooltiptext\">Sliding window size of fluorescence normalization</span>\n",
       "                        </div></th><th><div class=\"djtooltip\">\n",
       "                            <p id=\"nonprimary\">weight_thresh</p>\n",
       "                            <span class=\"djtooltiptext\">Threshold of giving an ROI ownership over a pixel</span>\n",
       "                        </div> </th> </tr> </thead>\n",
       "            <tbody> <tr> <td>hheise</td>\n",
       "<td>95</td>\n",
       "<td>0</td>\n",
       "<td>1</td>\n",
       "<td>3</td>\n",
       "<td>0.75</td>\n",
       "<td>25</td>\n",
       "<td>10</td>\n",
       "<td>20</td>\n",
       "<td>5</td>\n",
       "<td>greedy_roi</td>\n",
       "<td>2</td>\n",
       "<td>2</td>\n",
       "<td>5.0</td>\n",
       "<td>11.0</td>\n",
       "<td>-1.0</td>\n",
       "<td>0.78</td>\n",
       "<td>0.1</td>\n",
       "<td>0.9</td>\n",
       "<td>1</td>\n",
       "<td>8</td>\n",
       "<td>1000</td>\n",
       "<td>0.005</td> </tr> </tbody>\n",
       "        </table>\n",
       "        \n",
       "        <p>Total: 1</p></div>\n",
       "        "
      ],
      "text/plain": [
       "*username    *mouse_id    *caiman_id    p     nb     merge_thr     rf     stride_cnmf    k      g_sig     method_init    ssub     tsub     snr_lowest     snr_thr     rval_lowest    rval_thr     cnn_lowest     cnn_thr     flag_auto     quantile_min   frame_window   weight_thresh \n",
       "+----------+ +----------+ +-----------+ +---+ +----+ +-----------+ +----+ +------------+ +----+ +-------+ +------------+ +------+ +------+ +------------+ +---------+ +------------+ +----------+ +------------+ +---------+ +-----------+ +------------+ +------------+ +------------+\n",
       "hheise       95           0             1     3      0.75          25     10             20     5         greedy_roi     2        2        5.0            11.0        -1.0           0.78         0.1            0.9         1             8              1000           0.005         \n",
       " (Total: 1)"
      ]
     },
     "execution_count": 2,
     "metadata": {},
     "output_type": "execute_result"
    }
   ],
   "source": [
    "# If this session has been segmented before and parameters should be changed, load the previous parameters here and\n",
    "# enter them into the next code blocks\n",
    "old_params = (common_img.CaimanParameter & 'mouse_id=95')\n",
    "old_params"
   ]
  },
  {
   "cell_type": "code",
   "execution_count": 4,
   "id": "6d5c4cee",
   "metadata": {},
   "outputs": [],
   "source": [
    "# Set and adjust parameters of initial source extraction\n",
    "\n",
    "p = 1    # order of the autoregressive system\n",
    "gnb = 3  # number of global background components (3)\n",
    "merge_thr = 0.75  # merging threshold, max correlation allowed (0.86)\n",
    "rf = 25  # half-size of the patches in pixels. e.g., if rf=25, patches are 50x50\n",
    "stride_cnmf = 6  # amount of overlap between the patches in pixels (20)\n",
    "K = 20  # number of components per patch (10)\n",
    "gSig = [5, 5]  # expected half-size of neurons in pixels [X, Y] (has to be int, not float!)\n",
    "ssub = 2  # spatial subsampling during initialization\n",
    "tsub = 2  # temporal subsampling during intialization\n",
    "\n",
    "\n",
    "opts_dict = {'nb': gnb,\n",
    "             'rf': rf,\n",
    "             'K': K,\n",
    "             'gSig': gSig,\n",
    "             'stride': stride_cnmf,\n",
    "             'rolling_sum': True,\n",
    "             'merge_thr': merge_thr,\n",
    "             'only_init': True,\n",
    "             'ssub': ssub,\n",
    "             'tsub': tsub}\n",
    "\n",
    "params = params.change_params(opts_dict)"
   ]
  },
  {
   "cell_type": "code",
   "execution_count": 5,
   "id": "3bb72749",
   "metadata": {},
   "outputs": [
    {
     "name": "stderr",
     "output_type": "stream",
     "text": [
      "C:\\Anaconda3\\envs\\caiman\\lib\\site-packages\\sklearn\\decomposition\\_nmf.py:1091: ConvergenceWarning: Maximum number of iterations 300 reached. Increase it to improve convergence.\n",
      "  \" improve convergence.\" % max_iter, ConvergenceWarning)\n",
      "C:\\Anaconda3\\envs\\caiman\\lib\\site-packages\\h5py\\_hl\\dataset.py:313: H5pyDeprecationWarning: dataset.value has been deprecated. Use dataset[()] instead.\n",
      "  \"Use dataset[()] instead.\", H5pyDeprecationWarning)\n"
     ]
    },
    {
     "name": "stdout",
     "output_type": "stream",
     "text": [
      "Saved local correlation image at C:\\Users\\hheise\\Datajoint\\temp\\20220324_161820\\local_correlation_image.tif.\n"
     ]
    },
    {
     "name": "stderr",
     "output_type": "stream",
     "text": [
      "C:\\Anaconda3\\envs\\caiman\\lib\\site-packages\\h5py\\_hl\\dataset.py:313: H5pyDeprecationWarning: dataset.value has been deprecated. Use dataset[()] instead.\n",
      "  \"Use dataset[()] instead.\", H5pyDeprecationWarning)\n"
     ]
    }
   ],
   "source": [
    "%matplotlib qt\n",
    "\n",
    "# # RUN SOURCE EXTRACTION\n",
    "\n",
    "# Start cluster for parallel processing\n",
    "c, dview, n_processes = cm.cluster.setup_cluster(backend='local', n_processes=None, single_thread=False)\n",
    "\n",
    "# # # Run source extraction\n",
    "cnm = pipe.run_source_extraction(images, params, dview=dview)\n",
    "pipe.save_cnmf(cnm, path=os.path.join(mmap_dir, 'cnm_pre_selection.hdf5'), verbose=False, overwrite=True)\n",
    "\n",
    "# Load local correlation image\n",
    "try:\n",
    "    cnm.estimates.Cn = io.imread(mmap_dir + r'\\local_correlation_image.tif')\n",
    "except FileNotFoundError:\n",
    "    pipe.save_local_correlation(images, mmap_dir)\n",
    "    cnm.estimates.Cn = io.imread(mmap_dir + r'\\local_correlation_image.tif')\n",
    "pipe.save_cnmf(cnm, path=os.path.join(mmap_dir, 'cnm_pre_selection.hdf5'), verbose=False, overwrite=True)\n",
    "\n",
    "# Plot and save contours of all components\n",
    "cnm.estimates.plot_contours(img=cnm.estimates.Cn, display_numbers=False)\n",
    "plt.tight_layout()\n",
    "fig = plt.gcf()\n",
    "fig.set_size_inches((10, 10))\n",
    "pipe.save_cnmf(cnm, path=os.path.join(mmap_dir, 'cnm_pre_selection.hdf5'), verbose=False, overwrite=True)"
   ]
  },
  {
   "cell_type": "code",
   "execution_count": 11,
   "id": "b148d468",
   "metadata": {},
   "outputs": [
    {
     "name": "stdout",
     "output_type": "stream",
     "text": [
      "USING MODEL:C:\\Users\\hheise\\caiman_data\\model\\cnn_model.json\n",
      "1981/1981 [==============================] - 1s 411us/sample\n"
     ]
    },
    {
     "data": {
      "text/plain": [
       "<caiman.source_extraction.cnmf.estimates.Estimates at 0x2349ae60a48>"
      ]
     },
     "execution_count": 11,
     "metadata": {},
     "output_type": "execute_result"
    }
   ],
   "source": [
    "# # RUN EVALUATION\n",
    "\n",
    "# evaluation parameters\n",
    "min_SNR = 8.5  # signal to noise ratio for accepting a component (default 2)\n",
    "SNR_lowest = 3.4\n",
    "rval_thr = 0.78  # space correlation threshold for accepting a component (default 0.85)\n",
    "rval_lowest = -1\n",
    "cnn_thr = 0.9  # threshold for CNN based classifier (default 0.99)\n",
    "cnn_lowest = 0.1  # neurons with cnn probability lower than this value are rejected (default 0.1)\n",
    "\n",
    "cnm.params.set('quality', {'SNR_lowest': SNR_lowest,\n",
    "                           'min_SNR': min_SNR,\n",
    "                           'rval_thr': rval_thr,\n",
    "                           'rval_lowest': rval_lowest,\n",
    "                           'use_cnn': True,\n",
    "                           'min_cnn_thr': cnn_thr,\n",
    "                           'cnn_lowest': cnn_lowest})\n",
    "cnm = pipe.run_evaluation(images, cnm, dview=dview)\n",
    "\n",
    "cnm.estimates.plot_contours(img=cnm.estimates.Cn, idx=cnm.estimates.idx_components, display_numbers=True)"
   ]
  },
  {
   "cell_type": "code",
   "execution_count": null,
   "id": "697560da",
   "metadata": {},
   "outputs": [],
   "source": [
    "# Plot contours of accepted vs rejected components\n",
    "cnm.estimates.plot_contours(img=cnm.estimates.Cn, idx=cnm.estimates.idx_components, display_numbers=True)"
   ]
  },
  {
   "cell_type": "code",
   "execution_count": null,
   "id": "5ea13617",
   "metadata": {},
   "outputs": [],
   "source": [
    "# Plot accepted and rejected components in a detailed view (spatial, temporal and background components)\n",
    "cnm.estimates.view_components(images, img=cnm.estimates.Cn, idx=cnm.estimates.idx_components)\n",
    "cnm.estimates.view_components(images, img=cnm.estimates.Cn, idx=cnm.estimates.idx_components_bad)"
   ]
  },
  {
   "cell_type": "code",
   "execution_count": 13,
   "id": "7f2075b4",
   "metadata": {},
   "outputs": [
    {
     "name": "stdout",
     "output_type": "stream",
     "text": [
      "Checking component 1027...\n",
      "\n",
      "Component 1027 did not get accepted. \n",
      "\n",
      "\tChecking thresholds:\n",
      "\n",
      "\tSNR of 5.63 exceeds lower threshold of 3.4, but not upper threshold of 8.5\n",
      "\n",
      "\tR-value of 0.25 exceeds lower threshold of -1, but not upper threshold of 0.78\n",
      "\n",
      "\tCNN-value of 0.37 exceeds lower threshold of 0.1, but not upper threshold of 0.9\n",
      "\n",
      "\u001b[1;31;49mResult: Component 1027 got rejected because it met all lower, but no upper thresholds!\n",
      "\n",
      "\u001b[0;39;49m\n"
     ]
    }
   ],
   "source": [
    "# # MANUAL ADJUSTMENT\n",
    "\n",
    "# Check single component (input index is from plot_contours() label - 1 (base 0 index))\n",
    "pipe.check_eval_results(cnm, cnm.estimates.idx_components_bad[779], plot_contours=True)"
   ]
  },
  {
   "cell_type": "code",
   "execution_count": null,
   "id": "c5693d03",
   "metadata": {},
   "outputs": [],
   "source": [
    "# Plot trace to check for real cells/transients (index is the global component index returned \n",
    "# from the check_eval_results() function)\n",
    "plt.figure()\n",
    "idx = 976\n",
    "plt.plot(cnm.estimates.C[idx])"
   ]
  },
  {
   "cell_type": "code",
   "execution_count": null,
   "id": "fe63a1d8",
   "metadata": {},
   "outputs": [],
   "source": [
    "# Manually accept cells if necessary (use indices of idx_components_bad) -> after execution, call plot_contours() again to \n",
    "# update cell indices\n",
    "cnm = pipe.accept_cells(cnm, [109,111,143])"
   ]
  },
  {
   "cell_type": "code",
   "execution_count": null,
   "id": "b1ba0408",
   "metadata": {},
   "outputs": [],
   "source": [
    "# Manually reject cells if necessary (use indices of idx_components) -> after execution, call plot_contours() again to \n",
    "# update cell indices\n",
    "cnm = pipe.reject_cells(cnm, [41, 42])"
   ]
  },
  {
   "cell_type": "code",
   "execution_count": 14,
   "id": "b0aaf30c",
   "metadata": {},
   "outputs": [],
   "source": [
    "# ENTER PARAMETERS INTO DATABASE\n",
    "\n",
    "# If parameters are tuned, enter them into the database\n",
    "# Adjust additional parameters if needed\n",
    "\n",
    "new_param_entry = dict(\n",
    "    username='hheise',\n",
    "    mouse_id=95,\n",
    "    caiman_id=1,\n",
    "    # Parameters from above. Check that the accepted params are in local memory right now (execute cells again just in case)\n",
    "    p=p,\n",
    "    nb=gnb,\n",
    "    merge_thr=merge_thr,\n",
    "    rf=rf,\n",
    "    stride_cnmf=stride_cnmf,\n",
    "    k=K,\n",
    "    g_sig=gSig[0],\n",
    "    ssub=ssub,\n",
    "    tsub=tsub,\n",
    "    snr_lowest=SNR_lowest,\n",
    "    snr_thr=min_SNR,\n",
    "    rval_lowest=rval_lowest,\n",
    "    rval_thr=rval_thr,\n",
    "    cnn_lowest=cnn_lowest,\n",
    "    cnn_thr=cnn_thr,\n",
    "    frame_window=1000)\n",
    "\n",
    "common_img.CaimanParameter().insert1(new_param_entry)\n"
   ]
  },
  {
   "cell_type": "code",
   "execution_count": null,
   "id": "db2f6494",
   "metadata": {},
   "outputs": [],
   "source": [
    "# Check contents of the parameter table\n",
    "common_img.CaimanParameter()"
   ]
  },
  {
   "cell_type": "code",
   "execution_count": null,
   "id": "28eadd79",
   "metadata": {},
   "outputs": [],
   "source": [
    "cnm = pipe.load_cnmf(mmap_dir, 'cnm_pre_selection.hdf5')"
   ]
  },
  {
   "cell_type": "code",
   "execution_count": null,
   "id": "84d58752",
   "metadata": {},
   "outputs": [],
   "source": [
    "common_img.MemoryMappedFile()"
   ]
  },
  {
   "cell_type": "code",
   "execution_count": null,
   "id": "83b8fc69",
   "metadata": {},
   "outputs": [],
   "source": [
    "(common_img.MemoryMappedFile & 'mouse_id=95').delete()"
   ]
  },
  {
   "cell_type": "code",
   "execution_count": null,
   "id": "f78f303f",
   "metadata": {},
   "outputs": [],
   "source": [
    "c, dview, n_processes = cm.cluster.setup_cluster(backend='local', n_processes=None, single_thread=False)"
   ]
  },
  {
   "cell_type": "code",
   "execution_count": null,
   "id": "f87464f6",
   "metadata": {},
   "outputs": [],
   "source": []
  }
 ],
 "metadata": {
  "kernelspec": {
   "display_name": "Python 3",
   "language": "python",
   "name": "python3"
  },
  "language_info": {
   "codemirror_mode": {
    "name": "ipython",
    "version": 3
   },
   "file_extension": ".py",
   "mimetype": "text/x-python",
   "name": "python",
   "nbconvert_exporter": "python",
   "pygments_lexer": "ipython3",
   "version": "3.7.10"
  }
 },
 "nbformat": 4,
 "nbformat_minor": 5
}
