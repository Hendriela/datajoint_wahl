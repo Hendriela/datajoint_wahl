{
 "cells": [
  {
   "cell_type": "markdown",
   "id": "c0e074cc",
   "metadata": {},
   "source": [
    "# Restore Data\n",
    "\n",
    "This notebook is a convenient way to call the necessary functions to restore manually inserted data from backup YAML files in case a table has been dropped."
   ]
  },
  {
   "cell_type": "code",
   "execution_count": 1,
   "id": "508af865",
   "metadata": {},
   "outputs": [
    {
     "name": "stdout",
     "output_type": "stream",
     "text": [
      "Connecting hheise@130.60.53.47:3306\n"
     ]
    }
   ],
   "source": [
    "import os\n",
    "os.chdir('../')\n",
    "\n",
    "import login\n",
    "login.connect()\n",
    "import restore_data as rd"
   ]
  },
  {
   "cell_type": "code",
   "execution_count": 2,
   "id": "e3e02829",
   "metadata": {},
   "outputs": [],
   "source": [
    "### Space for possible Adjustment Function. These functions should take the data dict and old filepath ###\n",
    "### as input and return modified data dict and new filepath.                                           ###\n",
    "\n",
    "\n",
    "def add_carenum_to_care(data, filepath):\n",
    "    \"\"\"Add a care_num iterator to the dict and YAML file name\"\"\"\n",
    "    data['care_num'] = 0\n",
    "    base, ext = filepath.split('.')\n",
    "    new_path = base + \"_0.\" + ext\n",
    "    return data, new_path"
   ]
  },
  {
   "cell_type": "code",
   "execution_count": 6,
   "id": "8d4d4523",
   "metadata": {},
   "outputs": [],
   "source": [
    "# Parameters\n",
    "\n",
    "# List of tables that should be re-populated. Table names have to be lower case! If None, \n",
    "# all YAML files will be attempted to be inserted\n",
    "table_list = ['care']\n",
    "\n",
    "# optional, dict with table names as key and the associated adjustment function that changes the\n",
    "# dict structure of the entries for this table as value\n",
    "adjust_functions = {'care':add_carenum_to_care}"
   ]
  },
  {
   "cell_type": "code",
   "execution_count": 7,
   "id": "e9ea514d",
   "metadata": {},
   "outputs": [
    {
     "name": "stdout",
     "output_type": "stream",
     "text": [
      "Successfully inserted 32/419 entries into the database, and skipped 0 files.\n"
     ]
    }
   ],
   "source": [
    "# Call main repopulation function\n",
    "rd.restore_data(tables=table_list, adjust_funcs=adjust_functions, verbose=True)"
   ]
  }
 ],
 "metadata": {
  "kernelspec": {
   "display_name": "Python 3",
   "language": "python",
   "name": "python3"
  },
  "language_info": {
   "codemirror_mode": {
    "name": "ipython",
    "version": 3
   },
   "file_extension": ".py",
   "mimetype": "text/x-python",
   "name": "python",
   "nbconvert_exporter": "python",
   "pygments_lexer": "ipython3",
   "version": "3.7.10"
  }
 },
 "nbformat": 4,
 "nbformat_minor": 5
}
