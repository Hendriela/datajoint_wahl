{
 "cells": [
  {
   "cell_type": "code",
   "execution_count": null,
   "id": "2dcc9b8e",
   "metadata": {},
   "outputs": [],
   "source": [
    "# run for first time setup\n",
    "! pip install ipywidgets\n",
    "! jupyter nbextension enable --py widgetsnbextension"
   ]
  },
  {
   "cell_type": "code",
   "execution_count": 1,
   "id": "a7791862",
   "metadata": {},
   "outputs": [
    {
     "name": "stdout",
     "output_type": "stream",
     "text": [
      "Connecting mpanze@130.60.53.47:3306\n"
     ]
    }
   ],
   "source": [
    "import sys\n",
    "sys.path.append(\"..\\\\\")\n",
    "import login\n",
    "login.connect()\n",
    "import datajoint as dj\n",
    "\n",
    "import ipywidgets as widgets\n",
    "from ipywidgets import interact, interact_manual"
   ]
  },
  {
   "cell_type": "code",
   "execution_count": 12,
   "id": "630830cb",
   "metadata": {},
   "outputs": [
    {
     "data": {
      "application/vnd.jupyter.widget-view+json": {
       "model_id": "342ca605649b458c8b02fcf02f51b64f",
       "version_major": 2,
       "version_minor": 0
      },
      "text/plain": [
       "VBox(children=(VBox(children=(Dropdown(index=3, options=('common_behav', 'common_exp', 'common_img', 'common_m…"
      ]
     },
     "metadata": {},
     "output_type": "display_data"
    }
   ],
   "source": [
    "import inspect\n",
    "out = widgets.Output()\n",
    "\n",
    "available_schema = dj.list_schemas()\n",
    "schema_dropdown = widgets.Dropdown(options = available_schema, value = \"common_mice\")\n",
    "dj_schema = dj.Schema(\"common_mouse\")\n",
    "mod = dj.VirtualModule(\"temp.py\", \"common_mice\", create_schema = False, create_tables=False)\n",
    "\n",
    "def get_table_names(virtualmodule):\n",
    "    names = []\n",
    "    for i in inspect.getmembers(virtualmodule):\n",
    "        a = getattr(virtualmodule, i[0])\n",
    "        if type(a) == dj.user_tables.TableMeta:\n",
    "            names.append(i[0])\n",
    "    return names\n",
    "\n",
    "tables = get_table_names(mod)\n",
    "table_dropdown = widgets.Dropdown(options = tables)\n",
    "\n",
    "@out.capture(clear_output=True, wait=True)\n",
    "def schema_update(*args):\n",
    "    mod = dj.VirtualModule(\"temp.py\", schema_dropdown.value, create_schema = False, create_tables=False)\n",
    "    tables = get_table_names(mod)\n",
    "    table_dropdown.options = tables\n",
    "schema_dropdown.observe(schema_update, \"value\")\n",
    "\n",
    "def get_attribute_names(table_class):\n",
    "    names = list(table_class().heading.attributes.keys())\n",
    "    return names\n",
    "\n",
    "@out.capture(clear_output=True, wait=True)\n",
    "def show_table():\n",
    "    mod = dj.VirtualModule(\"temp.py\", schema_dropdown.value, create_schema = False, create_tables=False)\n",
    "    table_class = getattr(mod, table_dropdown.value)\n",
    "    print(table_class().size_on_disk)\n",
    "    table_attributes = get_attribute_names(table_class)\n",
    "    display(table_class())\n",
    "#table_dropdown.observe(show_table, \"value\")\n",
    "\n",
    "update_button = widgets.Button(description=\"Update\")\n",
    "def update_display(*args):\n",
    "    show_table()\n",
    "update_button.on_click(update_display)\n",
    "\n",
    "w = {}\n",
    "w['schema'] = schema_dropdown\n",
    "w['table'] = table_dropdown\n",
    "w['button'] = update_button\n",
    "controls = widgets.VBox(list(w.values()))\n",
    "display(widgets.VBox([controls, out]))\n",
    "\n",
    "#interact(show_table, schema = schema_dropdown, table = table_dropdown)"
   ]
  },
  {
   "cell_type": "code",
   "execution_count": null,
   "id": "e34db7ab",
   "metadata": {},
   "outputs": [],
   "source": []
  }
 ],
 "metadata": {
  "kernelspec": {
   "display_name": "Python 3",
   "language": "python",
   "name": "python3"
  },
  "language_info": {
   "codemirror_mode": {
    "name": "ipython",
    "version": 3
   },
   "file_extension": ".py",
   "mimetype": "text/x-python",
   "name": "python",
   "nbconvert_exporter": "python",
   "pygments_lexer": "ipython3",
   "version": "3.7.10"
  }
 },
 "nbformat": 4,
 "nbformat_minor": 5
}
