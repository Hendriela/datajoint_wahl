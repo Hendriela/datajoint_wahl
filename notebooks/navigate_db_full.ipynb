{
 "cells": [
  {
   "cell_type": "code",
   "execution_count": null,
   "id": "1fba6a7f",
   "metadata": {},
   "outputs": [],
   "source": [
    "# run for first time setup\n",
    "! pip install ipywidgets\n",
    "! jupyter nbextension enable --py widgetsnbextension"
   ]
  },
  {
   "cell_type": "code",
   "execution_count": 13,
   "id": "88883442",
   "metadata": {},
   "outputs": [],
   "source": [
    "import sys\n",
    "sys.path.append(\"..\\\\\")\n",
    "import login\n",
    "login.connect()\n",
    "import datajoint as dj\n",
    "\n",
    "import ipywidgets as widgets\n",
    "from ipywidgets import interact, interact_manual"
   ]
  },
  {
   "cell_type": "code",
   "execution_count": 29,
   "id": "0a69c61b",
   "metadata": {},
   "outputs": [
    {
     "data": {
      "application/vnd.jupyter.widget-view+json": {
       "model_id": "4700d5b8cd96423b8ec6c76cf22b47b6",
       "version_major": 2,
       "version_minor": 0
      },
      "text/plain": [
       "interactive(children=(Dropdown(description='schema', index=3, options=('common_behav', 'common_exp', 'common_i…"
      ]
     },
     "metadata": {},
     "output_type": "display_data"
    },
    {
     "data": {
      "text/plain": [
       "<function __main__.show_table(schema, table)>"
      ]
     },
     "execution_count": 29,
     "metadata": {},
     "output_type": "execute_result"
    },
    {
     "name": "stdout",
     "output_type": "stream",
     "text": [
      "['MappingSession', 'RawParameterFile', 'RawSynchronisationFile', 'Stimulation']\n",
      "['ActivityStatistics', 'BrainRegion', 'CaIndicator', 'CaimanParameter', 'Deconvolution', 'DeconvolutionModel', 'FieldOfViewSize', 'Laser', 'Layer', 'MemoryMappedFile', 'Microscope', 'MotionCorrection', 'MotionParameter', 'QualityControl', 'RawImagingFile', 'Scan', 'ScanInfo', 'Segmentation']\n"
     ]
    }
   ],
   "source": [
    "import inspect\n",
    "available_schema = dj.list_schemas()\n",
    "schema_dropdown = widgets.Dropdown(options = available_schema, value = \"common_mice\")\n",
    "dj_schema = dj.Schema(\"common_mouse\")\n",
    "mod = dj.VirtualModule(\"temp.py\", \"common_mice\", create_schema = False, create_tables=False)\n",
    "\n",
    "def get_table_names(virtualmodule):\n",
    "    names = []\n",
    "    for i in inspect.getmembers(virtualmodule):\n",
    "        a = getattr(virtualmodule, i[0])\n",
    "        if type(a) == dj.user_tables.TableMeta:\n",
    "            names.append(i[0])\n",
    "    return names\n",
    "\n",
    "tables = get_table_names(mod)\n",
    "table_dropdown = widgets.Dropdown(options = tables)\n",
    "\n",
    "def schema_update(*args):\n",
    "    mod = dj.VirtualModule(\"temp.py\", schema_dropdown.value, create_schema = False, create_tables=False)\n",
    "    tables = get_table_names(mod)\n",
    "    print(tables)\n",
    "    table_dropdown.options = tables\n",
    "schema_dropdown.observe(schema_update, \"value\")\n",
    "\n",
    "def get_table_attributes(table_class):\n",
    "    print()\n",
    "        \n",
    "def show_table(schema, table):\n",
    "    mod = dj.VirtualModule(\"temp.py\", schema_dropdown.value, create_schema = False, create_tables=False)\n",
    "    table_class = getattr(mod, table)\n",
    "    return table_class()\n",
    "    \n",
    "interact(show_table, schema = schema_dropdown, table = table_dropdown)"
   ]
  },
  {
   "cell_type": "code",
   "execution_count": null,
   "id": "6c5b766b",
   "metadata": {},
   "outputs": [],
   "source": []
  }
 ],
 "metadata": {
  "kernelspec": {
   "display_name": "Python 3",
   "language": "python",
   "name": "python3"
  },
  "language_info": {
   "codemirror_mode": {
    "name": "ipython",
    "version": 3
   },
   "file_extension": ".py",
   "mimetype": "text/x-python",
   "name": "python",
   "nbconvert_exporter": "python",
   "pygments_lexer": "ipython3",
   "version": "3.7.10"
  }
 },
 "nbformat": 4,
 "nbformat_minor": 5
}
