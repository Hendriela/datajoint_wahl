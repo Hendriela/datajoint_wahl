{
 "cells": [
  {
   "cell_type": "code",
   "execution_count": null,
   "id": "0343c05b",
   "metadata": {},
   "outputs": [],
   "source": [
    "# run for first time setup\n",
    "! pip install ipywidgets\n",
    "! jupyter nbextension enable --py widgetsnbextension"
   ]
  },
  {
   "cell_type": "code",
   "execution_count": 33,
   "id": "fedb3274",
   "metadata": {},
   "outputs": [],
   "source": [
    "import sys\n",
    "sys.path.append(\"..\\\\\")\n",
    "import login\n",
    "login.connect()\n",
    "import datajoint as dj\n",
    "\n",
    "import ipywidgets as widgets\n",
    "from ipywidgets import interact, interact_manual\n",
    "from ipywidgets.widgets import Layout, Label"
   ]
  },
  {
   "cell_type": "code",
   "execution_count": 42,
   "id": "91026010",
   "metadata": {},
   "outputs": [
    {
     "data": {
      "application/vnd.jupyter.widget-view+json": {
       "model_id": "",
       "version_major": 2,
       "version_minor": 0
      },
      "text/plain": [
       "VBox(children=(VBox(children=(Dropdown(index=3, options=('common_behav', 'common_exp', 'common_img', 'common_m…"
      ]
     },
     "metadata": {},
     "output_type": "display_data"
    },
    {
     "data": {
      "application/vnd.jupyter.widget-view+json": {
       "model_id": "",
       "version_major": 2,
       "version_minor": 0
      },
      "text/plain": [
       "VBox(children=(HBox(children=(VBox(children=(Dropdown(index=3, options=('common_behav', 'common_exp', 'common_…"
      ]
     },
     "metadata": {},
     "output_type": "display_data"
    },
    {
     "data": {
      "application/vnd.jupyter.widget-view+json": {
       "model_id": "",
       "version_major": 2,
       "version_minor": 0
      },
      "text/plain": [
       "VBox(children=(HBox(children=(VBox(children=(Dropdown(index=3, options=('common_behav', 'common_exp', 'common_…"
      ]
     },
     "metadata": {},
     "output_type": "display_data"
    },
    {
     "data": {
      "application/vnd.jupyter.widget-view+json": {
       "model_id": "4830f624091141da8cbb214eba0a1f95",
       "version_major": 2,
       "version_minor": 0
      },
      "text/plain": [
       "VBox(children=(HBox(children=(VBox(children=(Dropdown(index=3, options=('common_behav', 'common_exp', 'common_…"
      ]
     },
     "metadata": {},
     "output_type": "display_data"
    }
   ],
   "source": [
    "import inspect\n",
    "out = widgets.Output()\n",
    "\n",
    "available_schema = dj.list_schemas()\n",
    "schema_dropdown = widgets.Dropdown(options = available_schema, value = \"common_mice\")\n",
    "dj_schema = dj.Schema(\"common_mouse\")\n",
    "mod = dj.VirtualModule(\"temp.py\", \"common_mice\", create_schema = False, create_tables=False)\n",
    "\n",
    "def get_table_names(virtualmodule):\n",
    "    names = []\n",
    "    for i in inspect.getmembers(virtualmodule):\n",
    "        a = getattr(virtualmodule, i[0])\n",
    "        if type(a) == dj.user_tables.TableMeta:\n",
    "            names.append(i[0])\n",
    "    return names\n",
    "\n",
    "tables = get_table_names(mod)\n",
    "table_dropdown = widgets.Dropdown(options = tables)\n",
    "\n",
    "@out.capture(clear_output=True, wait=True)\n",
    "def schema_update(*args):\n",
    "    mod = dj.VirtualModule(\"temp.py\", schema_dropdown.value, create_schema = False, create_tables=False)\n",
    "    tables = get_table_names(mod)\n",
    "    table_dropdown.options = tables\n",
    "schema_dropdown.observe(schema_update, \"value\")\n",
    "\n",
    "def get_attribute_names(table_class):\n",
    "    names = list(table_class().heading.attributes.keys())\n",
    "    return names\n",
    "\n",
    "@out.capture(clear_output=True, wait=True)\n",
    "def show_table():\n",
    "    mod = dj.VirtualModule(\"temp.py\", schema_dropdown.value, create_schema = False, create_tables=False)\n",
    "    table_class = getattr(mod, table_dropdown.value)\n",
    "    table_attributes = get_attribute_names(table_class)\n",
    "    display(table_class())\n",
    "    return table_class\n",
    "#table_dropdown.observe(show_table, \"value\")\n",
    "\n",
    "def generate_attribute_widgets(table_class):\n",
    "    w_attr = {}\n",
    "    attributes = table_class.heading.attributes\n",
    "    for i in attributes:\n",
    "        if \"varchar\" in attributes[i].type:\n",
    "            w_attr[\"attr_\" + i] = widgets.Text(description = i)\n",
    "    return w_attr\n",
    "\n",
    "update_button = widgets.Button(description=\"Update\")\n",
    "def update_display(*args):\n",
    "    global vbox\n",
    "    vbox.close()\n",
    "    w = {}\n",
    "    w['schema'] = schema_dropdown\n",
    "    w['table'] = table_dropdown\n",
    "    w['button'] = update_button\n",
    "    #print(controls.children)\n",
    "    out.clear_output()\n",
    "    \n",
    "    table_class = show_table()\n",
    "    w_attr = generate_attribute_widgets(table_class)\n",
    "    controls1 = widgets.VBox(list(w.values()))\n",
    "    label_layout = Layout(width='100px',height='30px')\n",
    "    controls2 = widgets.VBox([Label(\"Attributes\",layout=label_layout)] + list(w_attr.values()), layout = Layout(border='1px solid black'))\n",
    "    controls3 = widgets.HBox([controls1, controls2])\n",
    "    vbox = widgets.VBox([controls3, out])\n",
    "    display(vbox)\n",
    "update_button.on_click(update_display)\n",
    "\n",
    "w = {}\n",
    "w['schema'] = schema_dropdown\n",
    "w['table'] = table_dropdown\n",
    "w['button'] = update_button\n",
    "controls = widgets.VBox(list(w.values()))\n",
    "vbox = widgets.VBox([controls, out])\n",
    "display(vbox)\n",
    "\n",
    "#interact(show_table, schema = schema_dropdown, table = table_dropdown)"
   ]
  },
  {
   "cell_type": "code",
   "execution_count": null,
   "id": "fb9bb62c",
   "metadata": {},
   "outputs": [],
   "source": []
  }
 ],
 "metadata": {
  "kernelspec": {
   "display_name": "Python 3",
   "language": "python",
   "name": "python3"
  },
  "language_info": {
   "codemirror_mode": {
    "name": "ipython",
    "version": 3
   },
   "file_extension": ".py",
   "mimetype": "text/x-python",
   "name": "python",
   "nbconvert_exporter": "python",
   "pygments_lexer": "ipython3",
   "version": "3.7.10"
  }
 },
 "nbformat": 4,
 "nbformat_minor": 5
}
